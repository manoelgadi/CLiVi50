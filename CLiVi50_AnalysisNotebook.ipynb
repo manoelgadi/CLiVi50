{
 "cells": [
  {
   "cell_type": "markdown",
   "metadata": {
    "id": "VSTvUFTQcY2B"
   },
   "source": [
    "\n",
    "# Python Ecosystem - Working with data files - Numpy & Pandas\n"
   ]
  },
  {
   "cell_type": "markdown",
   "metadata": {
    "id": "-ZW70dUvcY2I"
   },
   "source": [
    "\n",
    "\n",
    "Author: Prof. Manoel Gadi\n",
    "\n",
    "Contact: mfalonso@faculty.ie.edu\n",
    "\n",
    "Teaching Web: http://mfalonso.pythonanywhere.com\n",
    "\n",
    "Last revision: 26/Jan/2022"
   ]
  },
  {
   "cell_type": "markdown",
   "metadata": {
    "id": "k-xrcdgCcY2K"
   },
   "source": [
    "## Part 2: Working with Data Frames to calculate Market Beta"
   ]
  },
  {
   "cell_type": "markdown",
   "metadata": {
    "id": "bGHw7BdRcY2M"
   },
   "source": [
    "\n",
    "<img src=\"BetaCalculation.png\" align=\"center\">\n",
    "\n",
    "\n",
    "\n",
    "\n",
    "* Referencia 1: http://gouthamanbalaraman.com/blog/calculating-stock-beta.html\n",
    "* Referencia 2: http://www.investopedia.com/ask/answers/070615/what-formula-calculating-beta.asp"
   ]
  },
  {
   "cell_type": "code",
   "execution_count": 1,
   "metadata": {
    "executionInfo": {
     "elapsed": 5,
     "status": "ok",
     "timestamp": 1646262314607,
     "user": {
      "displayName": "Melvin Villafane",
      "photoUrl": "https://lh3.googleusercontent.com/a/default-user=s64",
      "userId": "02025715377408414002"
     },
     "user_tz": -60
    },
    "id": "tG06X7_XcY2O"
   },
   "outputs": [],
   "source": [
    "import pandas as pd\n",
    "import numpy as np"
   ]
  },
  {
   "cell_type": "code",
   "execution_count": 2,
   "metadata": {
    "colab": {
     "base_uri": "https://localhost:8080/"
    },
    "executionInfo": {
     "elapsed": 10751,
     "status": "ok",
     "timestamp": 1646262325354,
     "user": {
      "displayName": "Melvin Villafane",
      "photoUrl": "https://lh3.googleusercontent.com/a/default-user=s64",
      "userId": "02025715377408414002"
     },
     "user_tz": -60
    },
    "id": "A9uokp09cY2R",
    "outputId": "5544dafd-5aec-4450-d5fe-72e76ff3518d"
   },
   "outputs": [
    {
     "name": "stdout",
     "output_type": "stream",
     "text": [
      "Requirement already satisfied: pandas_datareader in c:\\anaconda3\\lib\\site-packages (0.10.0)\n",
      "Requirement already satisfied: pandas>=0.23 in c:\\anaconda3\\lib\\site-packages (from pandas_datareader) (1.2.4)\n",
      "Requirement already satisfied: lxml in c:\\anaconda3\\lib\\site-packages (from pandas_datareader) (4.6.3)\n",
      "Requirement already satisfied: requests>=2.19.0 in c:\\anaconda3\\lib\\site-packages (from pandas_datareader) (2.25.1)\n",
      "Requirement already satisfied: numpy>=1.16.5 in c:\\anaconda3\\lib\\site-packages (from pandas>=0.23->pandas_datareader) (1.24.1)\n",
      "Requirement already satisfied: python-dateutil>=2.7.3 in c:\\anaconda3\\lib\\site-packages (from pandas>=0.23->pandas_datareader) (2.8.1)\n",
      "Requirement already satisfied: pytz>=2017.3 in c:\\anaconda3\\lib\\site-packages (from pandas>=0.23->pandas_datareader) (2021.1)\n",
      "Requirement already satisfied: six>=1.5 in c:\\anaconda3\\lib\\site-packages (from python-dateutil>=2.7.3->pandas>=0.23->pandas_datareader) (1.15.0)\n",
      "Requirement already satisfied: chardet<5,>=3.0.2 in c:\\anaconda3\\lib\\site-packages (from requests>=2.19.0->pandas_datareader) (4.0.0)\n",
      "Requirement already satisfied: idna<3,>=2.5 in c:\\anaconda3\\lib\\site-packages (from requests>=2.19.0->pandas_datareader) (2.10)\n",
      "Requirement already satisfied: certifi>=2017.4.17 in c:\\anaconda3\\lib\\site-packages (from requests>=2.19.0->pandas_datareader) (2020.12.5)\n",
      "Requirement already satisfied: urllib3<1.27,>=1.21.1 in c:\\anaconda3\\lib\\site-packages (from requests>=2.19.0->pandas_datareader) (1.26.4)\n",
      "Requirement already satisfied: yfinance in c:\\anaconda3\\lib\\site-packages (0.1.64)\n",
      "Requirement already satisfied: pandas>=0.24 in c:\\anaconda3\\lib\\site-packages (from yfinance) (1.2.4)\n",
      "Requirement already satisfied: multitasking>=0.0.7 in c:\\anaconda3\\lib\\site-packages (from yfinance) (0.0.9)\n",
      "Requirement already satisfied: numpy>=1.15 in c:\\anaconda3\\lib\\site-packages (from yfinance) (1.24.1)\n",
      "Requirement already satisfied: requests>=2.20 in c:\\anaconda3\\lib\\site-packages (from yfinance) (2.25.1)\n",
      "Requirement already satisfied: lxml>=4.5.1 in c:\\anaconda3\\lib\\site-packages (from yfinance) (4.6.3)\n",
      "Requirement already satisfied: pytz>=2017.3 in c:\\anaconda3\\lib\\site-packages (from pandas>=0.24->yfinance) (2021.1)\n",
      "Requirement already satisfied: python-dateutil>=2.7.3 in c:\\anaconda3\\lib\\site-packages (from pandas>=0.24->yfinance) (2.8.1)\n",
      "Requirement already satisfied: six>=1.5 in c:\\anaconda3\\lib\\site-packages (from python-dateutil>=2.7.3->pandas>=0.24->yfinance) (1.15.0)\n",
      "Requirement already satisfied: urllib3<1.27,>=1.21.1 in c:\\anaconda3\\lib\\site-packages (from requests>=2.20->yfinance) (1.26.4)\n",
      "Requirement already satisfied: idna<3,>=2.5 in c:\\anaconda3\\lib\\site-packages (from requests>=2.20->yfinance) (2.10)\n",
      "Requirement already satisfied: certifi>=2017.4.17 in c:\\anaconda3\\lib\\site-packages (from requests>=2.20->yfinance) (2020.12.5)\n",
      "Requirement already satisfied: chardet<5,>=3.0.2 in c:\\anaconda3\\lib\\site-packages (from requests>=2.20->yfinance) (4.0.0)\n"
     ]
    }
   ],
   "source": [
    "!pip install pandas_datareader\n",
    "!pip install yfinance"
   ]
  },
  {
   "cell_type": "code",
   "execution_count": null,
   "metadata": {
    "id": "MEYtcn9xDJub"
   },
   "outputs": [],
   "source": []
  },
  {
   "cell_type": "code",
   "execution_count": 3,
   "metadata": {
    "colab": {
     "base_uri": "https://localhost:8080/"
    },
    "executionInfo": {
     "elapsed": 20966,
     "status": "ok",
     "timestamp": 1646262346315,
     "user": {
      "displayName": "Melvin Villafane",
      "photoUrl": "https://lh3.googleusercontent.com/a/default-user=s64",
      "userId": "02025715377408414002"
     },
     "user_tz": -60
    },
    "id": "6UYEUsHTDNCn",
    "outputId": "19e52859-c143-4ea3-a567-96f6750545b7"
   },
   "outputs": [],
   "source": [
    "#from google.colab import drive\n",
    "#drive.mount('/content/drive')"
   ]
  },
  {
   "cell_type": "code",
   "execution_count": 37,
   "metadata": {
    "colab": {
     "base_uri": "https://localhost:8080/",
     "height": 455
    },
    "executionInfo": {
     "elapsed": 791,
     "status": "ok",
     "timestamp": 1646262347101,
     "user": {
      "displayName": "Melvin Villafane",
      "photoUrl": "https://lh3.googleusercontent.com/a/default-user=s64",
      "userId": "02025715377408414002"
     },
     "user_tz": -60
    },
    "id": "cCj8BEi1DW1V",
    "outputId": "cff4d40c-170c-4526-dc75-4ca54f07dcbf"
   },
   "outputs": [
    {
     "data": {
      "text/html": [
       "<div>\n",
       "<style scoped>\n",
       "    .dataframe tbody tr th:only-of-type {\n",
       "        vertical-align: middle;\n",
       "    }\n",
       "\n",
       "    .dataframe tbody tr th {\n",
       "        vertical-align: top;\n",
       "    }\n",
       "\n",
       "    .dataframe thead th {\n",
       "        text-align: right;\n",
       "    }\n",
       "</style>\n",
       "<table border=\"1\" class=\"dataframe\">\n",
       "  <thead>\n",
       "    <tr style=\"text-align: right;\">\n",
       "      <th></th>\n",
       "      <th>Open</th>\n",
       "      <th>High</th>\n",
       "      <th>Low</th>\n",
       "      <th>Close</th>\n",
       "      <th>Volume</th>\n",
       "    </tr>\n",
       "    <tr>\n",
       "      <th>Date</th>\n",
       "      <th></th>\n",
       "      <th></th>\n",
       "      <th></th>\n",
       "      <th></th>\n",
       "      <th></th>\n",
       "    </tr>\n",
       "  </thead>\n",
       "  <tbody>\n",
       "    <tr>\n",
       "      <th>2022-02-16</th>\n",
       "      <td>17515.5000</td>\n",
       "      <td>18150.2000</td>\n",
       "      <td>17094.9000</td>\n",
       "      <td>17888.3000</td>\n",
       "      <td>5.895838e+10</td>\n",
       "    </tr>\n",
       "    <tr>\n",
       "      <th>2022-02-15</th>\n",
       "      <td>16839.1000</td>\n",
       "      <td>18088.8000</td>\n",
       "      <td>16785.3000</td>\n",
       "      <td>18003.8000</td>\n",
       "      <td>6.016310e+10</td>\n",
       "    </tr>\n",
       "    <tr>\n",
       "      <th>2022-02-14</th>\n",
       "      <td>16720.3000</td>\n",
       "      <td>17041.2000</td>\n",
       "      <td>16297.5000</td>\n",
       "      <td>16838.8000</td>\n",
       "      <td>6.134623e+10</td>\n",
       "    </tr>\n",
       "    <tr>\n",
       "      <th>2022-02-13</th>\n",
       "      <td>16862.4000</td>\n",
       "      <td>17238.9000</td>\n",
       "      <td>16486.1000</td>\n",
       "      <td>16734.4000</td>\n",
       "      <td>5.193749e+10</td>\n",
       "    </tr>\n",
       "    <tr>\n",
       "      <th>2022-02-12</th>\n",
       "      <td>16804.6000</td>\n",
       "      <td>17280.8000</td>\n",
       "      <td>16429.2000</td>\n",
       "      <td>16865.5000</td>\n",
       "      <td>5.074447e+10</td>\n",
       "    </tr>\n",
       "    <tr>\n",
       "      <th>...</th>\n",
       "      <td>...</td>\n",
       "      <td>...</td>\n",
       "      <td>...</td>\n",
       "      <td>...</td>\n",
       "      <td>...</td>\n",
       "    </tr>\n",
       "    <tr>\n",
       "      <th>2015-01-05</th>\n",
       "      <td>82.3484</td>\n",
       "      <td>88.3190</td>\n",
       "      <td>81.5787</td>\n",
       "      <td>86.2289</td>\n",
       "      <td>0.000000e+00</td>\n",
       "    </tr>\n",
       "    <tr>\n",
       "      <th>2015-01-04</th>\n",
       "      <td>89.2479</td>\n",
       "      <td>91.1656</td>\n",
       "      <td>79.8710</td>\n",
       "      <td>82.2132</td>\n",
       "      <td>0.000000e+00</td>\n",
       "    </tr>\n",
       "    <tr>\n",
       "      <th>2015-01-03</th>\n",
       "      <td>100.2530</td>\n",
       "      <td>101.5400</td>\n",
       "      <td>88.7442</td>\n",
       "      <td>89.3769</td>\n",
       "      <td>0.000000e+00</td>\n",
       "    </tr>\n",
       "    <tr>\n",
       "      <th>2015-01-02</th>\n",
       "      <td>99.9137</td>\n",
       "      <td>101.8690</td>\n",
       "      <td>98.7938</td>\n",
       "      <td>100.2180</td>\n",
       "      <td>0.000000e+00</td>\n",
       "    </tr>\n",
       "    <tr>\n",
       "      <th>2015-01-01</th>\n",
       "      <td>101.3600</td>\n",
       "      <td>102.1530</td>\n",
       "      <td>98.8187</td>\n",
       "      <td>100.0000</td>\n",
       "      <td>0.000000e+00</td>\n",
       "    </tr>\n",
       "  </tbody>\n",
       "</table>\n",
       "<p>2604 rows × 5 columns</p>\n",
       "</div>"
      ],
      "text/plain": [
       "                  Open        High         Low       Close        Volume\n",
       "Date                                                                    \n",
       "2022-02-16  17515.5000  18150.2000  17094.9000  17888.3000  5.895838e+10\n",
       "2022-02-15  16839.1000  18088.8000  16785.3000  18003.8000  6.016310e+10\n",
       "2022-02-14  16720.3000  17041.2000  16297.5000  16838.8000  6.134623e+10\n",
       "2022-02-13  16862.4000  17238.9000  16486.1000  16734.4000  5.193749e+10\n",
       "2022-02-12  16804.6000  17280.8000  16429.2000  16865.5000  5.074447e+10\n",
       "...                ...         ...         ...         ...           ...\n",
       "2015-01-05     82.3484     88.3190     81.5787     86.2289  0.000000e+00\n",
       "2015-01-04     89.2479     91.1656     79.8710     82.2132  0.000000e+00\n",
       "2015-01-03    100.2530    101.5400     88.7442     89.3769  0.000000e+00\n",
       "2015-01-02     99.9137    101.8690     98.7938    100.2180  0.000000e+00\n",
       "2015-01-01    101.3600    102.1530     98.8187    100.0000  0.000000e+00\n",
       "\n",
       "[2604 rows x 5 columns]"
      ]
     },
     "execution_count": 37,
     "metadata": {},
     "output_type": "execute_result"
    }
   ],
   "source": [
    "CCI30 = pd.read_csv('datasets/cci30_OHLCV.csv', index_col=0)\n",
    "CCI30.index = pd.to_datetime(CCI30.index)\n",
    "CCI30\n"
   ]
  },
  {
   "cell_type": "code",
   "execution_count": 5,
   "metadata": {
    "executionInfo": {
     "elapsed": 6,
     "status": "ok",
     "timestamp": 1646262347102,
     "user": {
      "displayName": "Melvin Villafane",
      "photoUrl": "https://lh3.googleusercontent.com/a/default-user=s64",
      "userId": "02025715377408414002"
     },
     "user_tz": -60
    },
    "id": "4gOJrYcjcY2W"
   },
   "outputs": [],
   "source": [
    "from pandas_datareader import data as pdr\n",
    "import yfinance as yfin\n",
    "yfin.pdr_override()"
   ]
  },
  {
   "cell_type": "code",
   "execution_count": 6,
   "metadata": {
    "executionInfo": {
     "elapsed": 346,
     "status": "ok",
     "timestamp": 1646262353224,
     "user": {
      "displayName": "Melvin Villafane",
      "photoUrl": "https://lh3.googleusercontent.com/a/default-user=s64",
      "userId": "02025715377408414002"
     },
     "user_tz": -60
    },
    "id": "Ik3Cr65LcY2Y"
   },
   "outputs": [],
   "source": [
    "import datetime"
   ]
  },
  {
   "cell_type": "markdown",
   "metadata": {
    "id": "aUfwEVoJcY2Z"
   },
   "source": [
    "### Downloading historical data\n",
    "\n",
    "Capturing 5-year historical series data for the Telefónica share (TEF.MC) and for the IBEX 35 index"
   ]
  },
  {
   "cell_type": "code",
   "execution_count": 7,
   "metadata": {
    "id": "YsHQPcf5cY2y"
   },
   "outputs": [],
   "source": [
    "fecha_final =   datetime.datetime(2021,12, 31, 0, 0, 0, 0)\n",
    "fecha_inicial = fecha_final - datetime.timedelta(days=5*365)"
   ]
  },
  {
   "cell_type": "code",
   "execution_count": 8,
   "metadata": {
    "colab": {
     "base_uri": "https://localhost:8080/",
     "height": 472
    },
    "executionInfo": {
     "elapsed": 18,
     "status": "ok",
     "timestamp": 1646149117771,
     "user": {
      "displayName": "Raquel Ordonez",
      "photoUrl": "https://lh3.googleusercontent.com/a/default-user=s64",
      "userId": "13837430071386580170"
     },
     "user_tz": -60
    },
    "id": "Jnjm9eOFcY2z",
    "outputId": "53811c65-ba1d-4cbc-f1f4-df5192163424"
   },
   "outputs": [
    {
     "name": "stdout",
     "output_type": "stream",
     "text": [
      "[*********************100%***********************]  1 of 1 completed\n"
     ]
    },
    {
     "data": {
      "text/html": [
       "<div>\n",
       "<style scoped>\n",
       "    .dataframe tbody tr th:only-of-type {\n",
       "        vertical-align: middle;\n",
       "    }\n",
       "\n",
       "    .dataframe tbody tr th {\n",
       "        vertical-align: top;\n",
       "    }\n",
       "\n",
       "    .dataframe thead th {\n",
       "        text-align: right;\n",
       "    }\n",
       "</style>\n",
       "<table border=\"1\" class=\"dataframe\">\n",
       "  <thead>\n",
       "    <tr style=\"text-align: right;\">\n",
       "      <th></th>\n",
       "      <th>Open</th>\n",
       "      <th>High</th>\n",
       "      <th>Low</th>\n",
       "      <th>Close</th>\n",
       "      <th>Adj Close</th>\n",
       "      <th>Volume</th>\n",
       "    </tr>\n",
       "    <tr>\n",
       "      <th>Date</th>\n",
       "      <th></th>\n",
       "      <th></th>\n",
       "      <th></th>\n",
       "      <th></th>\n",
       "      <th></th>\n",
       "      <th></th>\n",
       "    </tr>\n",
       "  </thead>\n",
       "  <tbody>\n",
       "    <tr>\n",
       "      <th>2017-01-03</th>\n",
       "      <td>225.039993</td>\n",
       "      <td>225.830002</td>\n",
       "      <td>223.880005</td>\n",
       "      <td>225.240005</td>\n",
       "      <td>202.856567</td>\n",
       "      <td>91366500</td>\n",
       "    </tr>\n",
       "    <tr>\n",
       "      <th>2017-01-04</th>\n",
       "      <td>225.619995</td>\n",
       "      <td>226.750000</td>\n",
       "      <td>225.610001</td>\n",
       "      <td>226.580002</td>\n",
       "      <td>204.063385</td>\n",
       "      <td>78744400</td>\n",
       "    </tr>\n",
       "    <tr>\n",
       "      <th>2017-01-05</th>\n",
       "      <td>226.270004</td>\n",
       "      <td>226.580002</td>\n",
       "      <td>225.479996</td>\n",
       "      <td>226.399994</td>\n",
       "      <td>203.901245</td>\n",
       "      <td>78379000</td>\n",
       "    </tr>\n",
       "    <tr>\n",
       "      <th>2017-01-06</th>\n",
       "      <td>226.529999</td>\n",
       "      <td>227.750000</td>\n",
       "      <td>225.899994</td>\n",
       "      <td>227.210007</td>\n",
       "      <td>204.630753</td>\n",
       "      <td>71559900</td>\n",
       "    </tr>\n",
       "    <tr>\n",
       "      <th>2017-01-09</th>\n",
       "      <td>226.910004</td>\n",
       "      <td>227.070007</td>\n",
       "      <td>226.419998</td>\n",
       "      <td>226.460007</td>\n",
       "      <td>203.955307</td>\n",
       "      <td>46939700</td>\n",
       "    </tr>\n",
       "    <tr>\n",
       "      <th>...</th>\n",
       "      <td>...</td>\n",
       "      <td>...</td>\n",
       "      <td>...</td>\n",
       "      <td>...</td>\n",
       "      <td>...</td>\n",
       "      <td>...</td>\n",
       "    </tr>\n",
       "    <tr>\n",
       "      <th>2021-12-23</th>\n",
       "      <td>468.750000</td>\n",
       "      <td>472.190002</td>\n",
       "      <td>468.640015</td>\n",
       "      <td>470.600006</td>\n",
       "      <td>463.087189</td>\n",
       "      <td>56439700</td>\n",
       "    </tr>\n",
       "    <tr>\n",
       "      <th>2021-12-27</th>\n",
       "      <td>472.059998</td>\n",
       "      <td>477.309998</td>\n",
       "      <td>472.010010</td>\n",
       "      <td>477.260010</td>\n",
       "      <td>469.640869</td>\n",
       "      <td>56808600</td>\n",
       "    </tr>\n",
       "    <tr>\n",
       "      <th>2021-12-28</th>\n",
       "      <td>477.720001</td>\n",
       "      <td>478.809998</td>\n",
       "      <td>476.059998</td>\n",
       "      <td>476.869995</td>\n",
       "      <td>469.257080</td>\n",
       "      <td>47274600</td>\n",
       "    </tr>\n",
       "    <tr>\n",
       "      <th>2021-12-29</th>\n",
       "      <td>476.980011</td>\n",
       "      <td>478.559998</td>\n",
       "      <td>475.920013</td>\n",
       "      <td>477.480011</td>\n",
       "      <td>469.857391</td>\n",
       "      <td>54503000</td>\n",
       "    </tr>\n",
       "    <tr>\n",
       "      <th>2021-12-30</th>\n",
       "      <td>477.929993</td>\n",
       "      <td>479.000000</td>\n",
       "      <td>475.670013</td>\n",
       "      <td>476.160004</td>\n",
       "      <td>468.558472</td>\n",
       "      <td>55329000</td>\n",
       "    </tr>\n",
       "  </tbody>\n",
       "</table>\n",
       "<p>1258 rows × 6 columns</p>\n",
       "</div>"
      ],
      "text/plain": [
       "                  Open        High         Low       Close   Adj Close  \\\n",
       "Date                                                                     \n",
       "2017-01-03  225.039993  225.830002  223.880005  225.240005  202.856567   \n",
       "2017-01-04  225.619995  226.750000  225.610001  226.580002  204.063385   \n",
       "2017-01-05  226.270004  226.580002  225.479996  226.399994  203.901245   \n",
       "2017-01-06  226.529999  227.750000  225.899994  227.210007  204.630753   \n",
       "2017-01-09  226.910004  227.070007  226.419998  226.460007  203.955307   \n",
       "...                ...         ...         ...         ...         ...   \n",
       "2021-12-23  468.750000  472.190002  468.640015  470.600006  463.087189   \n",
       "2021-12-27  472.059998  477.309998  472.010010  477.260010  469.640869   \n",
       "2021-12-28  477.720001  478.809998  476.059998  476.869995  469.257080   \n",
       "2021-12-29  476.980011  478.559998  475.920013  477.480011  469.857391   \n",
       "2021-12-30  477.929993  479.000000  475.670013  476.160004  468.558472   \n",
       "\n",
       "              Volume  \n",
       "Date                  \n",
       "2017-01-03  91366500  \n",
       "2017-01-04  78744400  \n",
       "2017-01-05  78379000  \n",
       "2017-01-06  71559900  \n",
       "2017-01-09  46939700  \n",
       "...              ...  \n",
       "2021-12-23  56439700  \n",
       "2021-12-27  56808600  \n",
       "2021-12-28  47274600  \n",
       "2021-12-29  54503000  \n",
       "2021-12-30  55329000  \n",
       "\n",
       "[1258 rows x 6 columns]"
      ]
     },
     "execution_count": 8,
     "metadata": {},
     "output_type": "execute_result"
    }
   ],
   "source": [
    "df = pdr.get_data_yahoo(\"SPY\", start=fecha_inicial, end=fecha_final)\n",
    "df"
   ]
  },
  {
   "cell_type": "code",
   "execution_count": 9,
   "metadata": {
    "colab": {
     "base_uri": "https://localhost:8080/"
    },
    "executionInfo": {
     "elapsed": 15,
     "status": "ok",
     "timestamp": 1646149117771,
     "user": {
      "displayName": "Raquel Ordonez",
      "photoUrl": "https://lh3.googleusercontent.com/a/default-user=s64",
      "userId": "13837430071386580170"
     },
     "user_tz": -60
    },
    "id": "hX5yNfVUcY20",
    "outputId": "8ef2f300-1478-4952-8e05-2a525b8dec41"
   },
   "outputs": [
    {
     "data": {
      "text/plain": [
       "(datetime.datetime(2021, 12, 31, 0, 0), datetime.datetime(2017, 1, 1, 0, 0))"
      ]
     },
     "execution_count": 9,
     "metadata": {},
     "output_type": "execute_result"
    }
   ],
   "source": [
    "fecha_final, fecha_inicial"
   ]
  },
  {
   "cell_type": "code",
   "execution_count": 10,
   "metadata": {
    "colab": {
     "base_uri": "https://localhost:8080/"
    },
    "executionInfo": {
     "elapsed": 11,
     "status": "ok",
     "timestamp": 1646149117773,
     "user": {
      "displayName": "Raquel Ordonez",
      "photoUrl": "https://lh3.googleusercontent.com/a/default-user=s64",
      "userId": "13837430071386580170"
     },
     "user_tz": -60
    },
    "id": "8FfzvJApcY21",
    "outputId": "f095903b-e4ff-4a5e-bb2e-216a1559a4b2"
   },
   "outputs": [
    {
     "data": {
      "text/plain": [
       "('ETH-USD', 'BTC-USD')"
      ]
     },
     "execution_count": 10,
     "metadata": {},
     "output_type": "execute_result"
    }
   ],
   "source": [
    "ticker_symbol = 'ETH-USD'    #'TEF.MC'\n",
    "ref_index =  'BTC-USD'                #'^IBEX'\n",
    "\n",
    "ticker_symbol, ref_index"
   ]
  },
  {
   "cell_type": "markdown",
   "metadata": {
    "id": "CDAYaTaOcY21"
   },
   "source": [
    "Reading data via the API wrapper Pandas Data Reader from https://finance.yahoo.com/"
   ]
  },
  {
   "cell_type": "code",
   "execution_count": 11,
   "metadata": {
    "colab": {
     "base_uri": "https://localhost:8080/"
    },
    "executionInfo": {
     "elapsed": 549,
     "status": "ok",
     "timestamp": 1646149118313,
     "user": {
      "displayName": "Raquel Ordonez",
      "photoUrl": "https://lh3.googleusercontent.com/a/default-user=s64",
      "userId": "13837430071386580170"
     },
     "user_tz": -60
    },
    "id": "_LPnb-uscY22",
    "outputId": "cdc0c21e-475b-41b8-8266-741dc3635e55"
   },
   "outputs": [
    {
     "name": "stdout",
     "output_type": "stream",
     "text": [
      "[*********************100%***********************]  1 of 1 completed\n"
     ]
    }
   ],
   "source": [
    "df_stock = pdr.get_data_yahoo(ticker_symbol, start=fecha_inicial, end=fecha_final)"
   ]
  },
  {
   "cell_type": "code",
   "execution_count": 12,
   "metadata": {
    "colab": {
     "base_uri": "https://localhost:8080/",
     "height": 238
    },
    "executionInfo": {
     "elapsed": 21,
     "status": "ok",
     "timestamp": 1646149118314,
     "user": {
      "displayName": "Raquel Ordonez",
      "photoUrl": "https://lh3.googleusercontent.com/a/default-user=s64",
      "userId": "13837430071386580170"
     },
     "user_tz": -60
    },
    "id": "DWpTD8MCcY22",
    "outputId": "dd513dde-8481-488c-862b-a733052650f6"
   },
   "outputs": [
    {
     "data": {
      "text/html": [
       "<div>\n",
       "<style scoped>\n",
       "    .dataframe tbody tr th:only-of-type {\n",
       "        vertical-align: middle;\n",
       "    }\n",
       "\n",
       "    .dataframe tbody tr th {\n",
       "        vertical-align: top;\n",
       "    }\n",
       "\n",
       "    .dataframe thead th {\n",
       "        text-align: right;\n",
       "    }\n",
       "</style>\n",
       "<table border=\"1\" class=\"dataframe\">\n",
       "  <thead>\n",
       "    <tr style=\"text-align: right;\">\n",
       "      <th></th>\n",
       "      <th>Open</th>\n",
       "      <th>High</th>\n",
       "      <th>Low</th>\n",
       "      <th>Close</th>\n",
       "      <th>Adj Close</th>\n",
       "      <th>Volume</th>\n",
       "    </tr>\n",
       "    <tr>\n",
       "      <th>Date</th>\n",
       "      <th></th>\n",
       "      <th></th>\n",
       "      <th></th>\n",
       "      <th></th>\n",
       "      <th></th>\n",
       "      <th></th>\n",
       "    </tr>\n",
       "  </thead>\n",
       "  <tbody>\n",
       "    <tr>\n",
       "      <th>2017-11-09</th>\n",
       "      <td>308.644989</td>\n",
       "      <td>329.451996</td>\n",
       "      <td>307.056000</td>\n",
       "      <td>320.884003</td>\n",
       "      <td>320.884003</td>\n",
       "      <td>893249984</td>\n",
       "    </tr>\n",
       "    <tr>\n",
       "      <th>2017-11-10</th>\n",
       "      <td>320.670990</td>\n",
       "      <td>324.717987</td>\n",
       "      <td>294.541992</td>\n",
       "      <td>299.252991</td>\n",
       "      <td>299.252991</td>\n",
       "      <td>885985984</td>\n",
       "    </tr>\n",
       "    <tr>\n",
       "      <th>2017-11-11</th>\n",
       "      <td>298.585999</td>\n",
       "      <td>319.453003</td>\n",
       "      <td>298.191986</td>\n",
       "      <td>314.681000</td>\n",
       "      <td>314.681000</td>\n",
       "      <td>842300992</td>\n",
       "    </tr>\n",
       "    <tr>\n",
       "      <th>2017-11-12</th>\n",
       "      <td>314.690002</td>\n",
       "      <td>319.153015</td>\n",
       "      <td>298.513000</td>\n",
       "      <td>307.907990</td>\n",
       "      <td>307.907990</td>\n",
       "      <td>1613479936</td>\n",
       "    </tr>\n",
       "    <tr>\n",
       "      <th>2017-11-13</th>\n",
       "      <td>307.024994</td>\n",
       "      <td>328.415009</td>\n",
       "      <td>307.024994</td>\n",
       "      <td>316.716003</td>\n",
       "      <td>316.716003</td>\n",
       "      <td>1041889984</td>\n",
       "    </tr>\n",
       "  </tbody>\n",
       "</table>\n",
       "</div>"
      ],
      "text/plain": [
       "                  Open        High         Low       Close   Adj Close  \\\n",
       "Date                                                                     \n",
       "2017-11-09  308.644989  329.451996  307.056000  320.884003  320.884003   \n",
       "2017-11-10  320.670990  324.717987  294.541992  299.252991  299.252991   \n",
       "2017-11-11  298.585999  319.453003  298.191986  314.681000  314.681000   \n",
       "2017-11-12  314.690002  319.153015  298.513000  307.907990  307.907990   \n",
       "2017-11-13  307.024994  328.415009  307.024994  316.716003  316.716003   \n",
       "\n",
       "                Volume  \n",
       "Date                    \n",
       "2017-11-09   893249984  \n",
       "2017-11-10   885985984  \n",
       "2017-11-11   842300992  \n",
       "2017-11-12  1613479936  \n",
       "2017-11-13  1041889984  "
      ]
     },
     "execution_count": 12,
     "metadata": {},
     "output_type": "execute_result"
    }
   ],
   "source": [
    "df_stock.head()"
   ]
  },
  {
   "cell_type": "markdown",
   "metadata": {
    "id": "0GUNYIgycY23"
   },
   "source": [
    "Doing the same for the benchmark"
   ]
  },
  {
   "cell_type": "code",
   "execution_count": 13,
   "metadata": {
    "id": "OzL8uCJTcY24"
   },
   "outputs": [],
   "source": [
    "# df_index = pdr.get_data_yahoo(ref_index, start=fecha_inicial, end=fecha_final)"
   ]
  },
  {
   "cell_type": "code",
   "execution_count": 14,
   "metadata": {
    "id": "qsXWo74-cY25"
   },
   "outputs": [],
   "source": [
    "# df_index.head()"
   ]
  },
  {
   "cell_type": "markdown",
   "metadata": {
    "id": "d-u8kXRlcY26"
   },
   "source": [
    "### To calculate Beta we need to create a time series of monthly data points"
   ]
  },
  {
   "cell_type": "code",
   "execution_count": 15,
   "metadata": {
    "id": "lvsXiT1XcY26"
   },
   "outputs": [],
   "source": [
    "df_stock = df_stock.resample('M').last()"
   ]
  },
  {
   "cell_type": "code",
   "execution_count": 16,
   "metadata": {
    "colab": {
     "base_uri": "https://localhost:8080/",
     "height": 238
    },
    "executionInfo": {
     "elapsed": 22,
     "status": "ok",
     "timestamp": 1646149118317,
     "user": {
      "displayName": "Raquel Ordonez",
      "photoUrl": "https://lh3.googleusercontent.com/a/default-user=s64",
      "userId": "13837430071386580170"
     },
     "user_tz": -60
    },
    "id": "CXZuCQhkcY27",
    "outputId": "28247305-bfd5-40e9-cd2f-4028a117ecff"
   },
   "outputs": [
    {
     "data": {
      "text/html": [
       "<div>\n",
       "<style scoped>\n",
       "    .dataframe tbody tr th:only-of-type {\n",
       "        vertical-align: middle;\n",
       "    }\n",
       "\n",
       "    .dataframe tbody tr th {\n",
       "        vertical-align: top;\n",
       "    }\n",
       "\n",
       "    .dataframe thead th {\n",
       "        text-align: right;\n",
       "    }\n",
       "</style>\n",
       "<table border=\"1\" class=\"dataframe\">\n",
       "  <thead>\n",
       "    <tr style=\"text-align: right;\">\n",
       "      <th></th>\n",
       "      <th>Open</th>\n",
       "      <th>High</th>\n",
       "      <th>Low</th>\n",
       "      <th>Close</th>\n",
       "      <th>Adj Close</th>\n",
       "      <th>Volume</th>\n",
       "    </tr>\n",
       "    <tr>\n",
       "      <th>Date</th>\n",
       "      <th></th>\n",
       "      <th></th>\n",
       "      <th></th>\n",
       "      <th></th>\n",
       "      <th></th>\n",
       "      <th></th>\n",
       "    </tr>\n",
       "  </thead>\n",
       "  <tbody>\n",
       "    <tr>\n",
       "      <th>2017-11-30</th>\n",
       "      <td>431.214996</td>\n",
       "      <td>465.497009</td>\n",
       "      <td>401.243011</td>\n",
       "      <td>447.114014</td>\n",
       "      <td>447.114014</td>\n",
       "      <td>1903040000</td>\n",
       "    </tr>\n",
       "    <tr>\n",
       "      <th>2017-12-31</th>\n",
       "      <td>712.211975</td>\n",
       "      <td>760.348022</td>\n",
       "      <td>710.119019</td>\n",
       "      <td>756.732971</td>\n",
       "      <td>756.732971</td>\n",
       "      <td>2554269952</td>\n",
       "    </tr>\n",
       "    <tr>\n",
       "      <th>2018-01-31</th>\n",
       "      <td>1071.089966</td>\n",
       "      <td>1128.660034</td>\n",
       "      <td>1034.500000</td>\n",
       "      <td>1118.310059</td>\n",
       "      <td>1118.310059</td>\n",
       "      <td>3757560064</td>\n",
       "    </tr>\n",
       "    <tr>\n",
       "      <th>2018-02-28</th>\n",
       "      <td>877.934021</td>\n",
       "      <td>890.107971</td>\n",
       "      <td>855.124023</td>\n",
       "      <td>855.198975</td>\n",
       "      <td>855.198975</td>\n",
       "      <td>1963980032</td>\n",
       "    </tr>\n",
       "    <tr>\n",
       "      <th>2018-03-31</th>\n",
       "      <td>395.003998</td>\n",
       "      <td>418.467987</td>\n",
       "      <td>392.953003</td>\n",
       "      <td>396.457001</td>\n",
       "      <td>396.457001</td>\n",
       "      <td>1323920000</td>\n",
       "    </tr>\n",
       "  </tbody>\n",
       "</table>\n",
       "</div>"
      ],
      "text/plain": [
       "                   Open         High          Low        Close    Adj Close  \\\n",
       "Date                                                                          \n",
       "2017-11-30   431.214996   465.497009   401.243011   447.114014   447.114014   \n",
       "2017-12-31   712.211975   760.348022   710.119019   756.732971   756.732971   \n",
       "2018-01-31  1071.089966  1128.660034  1034.500000  1118.310059  1118.310059   \n",
       "2018-02-28   877.934021   890.107971   855.124023   855.198975   855.198975   \n",
       "2018-03-31   395.003998   418.467987   392.953003   396.457001   396.457001   \n",
       "\n",
       "                Volume  \n",
       "Date                    \n",
       "2017-11-30  1903040000  \n",
       "2017-12-31  2554269952  \n",
       "2018-01-31  3757560064  \n",
       "2018-02-28  1963980032  \n",
       "2018-03-31  1323920000  "
      ]
     },
     "execution_count": 16,
     "metadata": {},
     "output_type": "execute_result"
    }
   ],
   "source": [
    "df_stock.head()"
   ]
  },
  {
   "cell_type": "markdown",
   "metadata": {
    "id": "hilUY_x4cY28"
   },
   "source": [
    "Doing the same for the benchmark"
   ]
  },
  {
   "cell_type": "code",
   "execution_count": null,
   "metadata": {
    "id": "Vajlk1rOFXnw"
   },
   "outputs": [],
   "source": []
  },
  {
   "cell_type": "code",
   "execution_count": 17,
   "metadata": {
    "id": "fnA-3oXScY28"
   },
   "outputs": [],
   "source": [
    "# df_index = df_index.resample('M').last()\n",
    "CCI30 = CCI30.resample('M').last()"
   ]
  },
  {
   "cell_type": "code",
   "execution_count": 18,
   "metadata": {
    "colab": {
     "base_uri": "https://localhost:8080/",
     "height": 238
    },
    "executionInfo": {
     "elapsed": 21,
     "status": "ok",
     "timestamp": 1646149118318,
     "user": {
      "displayName": "Raquel Ordonez",
      "photoUrl": "https://lh3.googleusercontent.com/a/default-user=s64",
      "userId": "13837430071386580170"
     },
     "user_tz": -60
    },
    "id": "nq6yYDY6cY29",
    "outputId": "f1b96857-a3fa-4aab-cd00-782c91561077"
   },
   "outputs": [
    {
     "data": {
      "text/html": [
       "<div>\n",
       "<style scoped>\n",
       "    .dataframe tbody tr th:only-of-type {\n",
       "        vertical-align: middle;\n",
       "    }\n",
       "\n",
       "    .dataframe tbody tr th {\n",
       "        vertical-align: top;\n",
       "    }\n",
       "\n",
       "    .dataframe thead th {\n",
       "        text-align: right;\n",
       "    }\n",
       "</style>\n",
       "<table border=\"1\" class=\"dataframe\">\n",
       "  <thead>\n",
       "    <tr style=\"text-align: right;\">\n",
       "      <th></th>\n",
       "      <th>Open</th>\n",
       "      <th>High</th>\n",
       "      <th>Low</th>\n",
       "      <th>Close</th>\n",
       "      <th>Volume</th>\n",
       "    </tr>\n",
       "    <tr>\n",
       "      <th>Date</th>\n",
       "      <th></th>\n",
       "      <th></th>\n",
       "      <th></th>\n",
       "      <th></th>\n",
       "      <th></th>\n",
       "    </tr>\n",
       "  </thead>\n",
       "  <tbody>\n",
       "    <tr>\n",
       "      <th>2015-01-31</th>\n",
       "      <td>69.2036</td>\n",
       "      <td>72.4130</td>\n",
       "      <td>66.5724</td>\n",
       "      <td>67.3085</td>\n",
       "      <td>0.0</td>\n",
       "    </tr>\n",
       "    <tr>\n",
       "      <th>2015-02-28</th>\n",
       "      <td>73.2336</td>\n",
       "      <td>74.2414</td>\n",
       "      <td>70.9221</td>\n",
       "      <td>72.9642</td>\n",
       "      <td>0.0</td>\n",
       "    </tr>\n",
       "    <tr>\n",
       "      <th>2015-03-31</th>\n",
       "      <td>64.6089</td>\n",
       "      <td>67.1880</td>\n",
       "      <td>61.9628</td>\n",
       "      <td>63.5306</td>\n",
       "      <td>0.0</td>\n",
       "    </tr>\n",
       "    <tr>\n",
       "      <th>2015-04-30</th>\n",
       "      <td>66.7237</td>\n",
       "      <td>70.5503</td>\n",
       "      <td>65.8189</td>\n",
       "      <td>69.4152</td>\n",
       "      <td>0.0</td>\n",
       "    </tr>\n",
       "    <tr>\n",
       "      <th>2015-05-31</th>\n",
       "      <td>77.9418</td>\n",
       "      <td>83.6798</td>\n",
       "      <td>74.7192</td>\n",
       "      <td>75.9582</td>\n",
       "      <td>0.0</td>\n",
       "    </tr>\n",
       "  </tbody>\n",
       "</table>\n",
       "</div>"
      ],
      "text/plain": [
       "               Open     High      Low    Close  Volume\n",
       "Date                                                  \n",
       "2015-01-31  69.2036  72.4130  66.5724  67.3085     0.0\n",
       "2015-02-28  73.2336  74.2414  70.9221  72.9642     0.0\n",
       "2015-03-31  64.6089  67.1880  61.9628  63.5306     0.0\n",
       "2015-04-30  66.7237  70.5503  65.8189  69.4152     0.0\n",
       "2015-05-31  77.9418  83.6798  74.7192  75.9582     0.0"
      ]
     },
     "execution_count": 18,
     "metadata": {},
     "output_type": "execute_result"
    }
   ],
   "source": [
    "CCI30.head()"
   ]
  },
  {
   "cell_type": "markdown",
   "metadata": {
    "id": "cNEsB8z7cY29"
   },
   "source": [
    "### To calculate the Beta we use the percentage variation month to month, not the value of the stock directly"
   ]
  },
  {
   "cell_type": "code",
   "execution_count": 19,
   "metadata": {
    "id": "Se4aXnWScY29"
   },
   "outputs": [],
   "source": [
    "df_stock['returns'] = df_stock['Adj Close']/ df_stock['Adj Close'].shift(1) -1"
   ]
  },
  {
   "cell_type": "code",
   "execution_count": 20,
   "metadata": {
    "colab": {
     "base_uri": "https://localhost:8080/"
    },
    "executionInfo": {
     "elapsed": 20,
     "status": "ok",
     "timestamp": 1646149118319,
     "user": {
      "displayName": "Raquel Ordonez",
      "photoUrl": "https://lh3.googleusercontent.com/a/default-user=s64",
      "userId": "13837430071386580170"
     },
     "user_tz": -60
    },
    "id": "3mKx0DencY2-",
    "outputId": "60fba23f-e924-4059-b951-9373bde4e4eb"
   },
   "outputs": [
    {
     "data": {
      "text/plain": [
       "Date\n",
       "2017-11-30         NaN\n",
       "2017-12-31    0.692483\n",
       "2018-01-31    0.477813\n",
       "2018-02-28   -0.235276\n",
       "2018-03-31   -0.536415\n",
       "Freq: M, Name: returns, dtype: float64"
      ]
     },
     "execution_count": 20,
     "metadata": {},
     "output_type": "execute_result"
    }
   ],
   "source": [
    "df_stock['returns'].head()"
   ]
  },
  {
   "cell_type": "code",
   "execution_count": 21,
   "metadata": {
    "id": "uegVhkCqcY2_"
   },
   "outputs": [],
   "source": [
    "df_stock = df_stock.dropna()"
   ]
  },
  {
   "cell_type": "code",
   "execution_count": 22,
   "metadata": {
    "colab": {
     "base_uri": "https://localhost:8080/"
    },
    "executionInfo": {
     "elapsed": 17,
     "status": "ok",
     "timestamp": 1646149118320,
     "user": {
      "displayName": "Raquel Ordonez",
      "photoUrl": "https://lh3.googleusercontent.com/a/default-user=s64",
      "userId": "13837430071386580170"
     },
     "user_tz": -60
    },
    "id": "FT_K9olicY2_",
    "outputId": "3285d9d3-546b-401c-c790-8c40ba0e24be"
   },
   "outputs": [
    {
     "data": {
      "text/plain": [
       "Date\n",
       "2017-12-31    0.692483\n",
       "2018-01-31    0.477813\n",
       "2018-02-28   -0.235276\n",
       "2018-03-31   -0.536415\n",
       "2018-04-30    0.689777\n",
       "Freq: M, Name: returns, dtype: float64"
      ]
     },
     "execution_count": 22,
     "metadata": {},
     "output_type": "execute_result"
    }
   ],
   "source": [
    "df_stock['returns'].head()"
   ]
  },
  {
   "cell_type": "code",
   "execution_count": 23,
   "metadata": {
    "colab": {
     "base_uri": "https://localhost:8080/",
     "height": 238
    },
    "executionInfo": {
     "elapsed": 323,
     "status": "ok",
     "timestamp": 1646149118628,
     "user": {
      "displayName": "Raquel Ordonez",
      "photoUrl": "https://lh3.googleusercontent.com/a/default-user=s64",
      "userId": "13837430071386580170"
     },
     "user_tz": -60
    },
    "id": "0lD5RPyAcY2_",
    "outputId": "251d4d5a-0d72-4b0b-9571-2f1eaf3be0ca"
   },
   "outputs": [
    {
     "data": {
      "text/html": [
       "<div>\n",
       "<style scoped>\n",
       "    .dataframe tbody tr th:only-of-type {\n",
       "        vertical-align: middle;\n",
       "    }\n",
       "\n",
       "    .dataframe tbody tr th {\n",
       "        vertical-align: top;\n",
       "    }\n",
       "\n",
       "    .dataframe thead th {\n",
       "        text-align: right;\n",
       "    }\n",
       "</style>\n",
       "<table border=\"1\" class=\"dataframe\">\n",
       "  <thead>\n",
       "    <tr style=\"text-align: right;\">\n",
       "      <th></th>\n",
       "      <th>Open</th>\n",
       "      <th>High</th>\n",
       "      <th>Low</th>\n",
       "      <th>Close</th>\n",
       "      <th>Adj Close</th>\n",
       "      <th>Volume</th>\n",
       "      <th>returns</th>\n",
       "    </tr>\n",
       "    <tr>\n",
       "      <th>Date</th>\n",
       "      <th></th>\n",
       "      <th></th>\n",
       "      <th></th>\n",
       "      <th></th>\n",
       "      <th></th>\n",
       "      <th></th>\n",
       "      <th></th>\n",
       "    </tr>\n",
       "  </thead>\n",
       "  <tbody>\n",
       "    <tr>\n",
       "      <th>2017-12-31</th>\n",
       "      <td>712.211975</td>\n",
       "      <td>760.348022</td>\n",
       "      <td>710.119019</td>\n",
       "      <td>756.732971</td>\n",
       "      <td>756.732971</td>\n",
       "      <td>2554269952</td>\n",
       "      <td>0.692483</td>\n",
       "    </tr>\n",
       "    <tr>\n",
       "      <th>2018-01-31</th>\n",
       "      <td>1071.089966</td>\n",
       "      <td>1128.660034</td>\n",
       "      <td>1034.500000</td>\n",
       "      <td>1118.310059</td>\n",
       "      <td>1118.310059</td>\n",
       "      <td>3757560064</td>\n",
       "      <td>0.477813</td>\n",
       "    </tr>\n",
       "    <tr>\n",
       "      <th>2018-02-28</th>\n",
       "      <td>877.934021</td>\n",
       "      <td>890.107971</td>\n",
       "      <td>855.124023</td>\n",
       "      <td>855.198975</td>\n",
       "      <td>855.198975</td>\n",
       "      <td>1963980032</td>\n",
       "      <td>-0.235276</td>\n",
       "    </tr>\n",
       "    <tr>\n",
       "      <th>2018-03-31</th>\n",
       "      <td>395.003998</td>\n",
       "      <td>418.467987</td>\n",
       "      <td>392.953003</td>\n",
       "      <td>396.457001</td>\n",
       "      <td>396.457001</td>\n",
       "      <td>1323920000</td>\n",
       "      <td>-0.536415</td>\n",
       "    </tr>\n",
       "    <tr>\n",
       "      <th>2018-04-30</th>\n",
       "      <td>689.760986</td>\n",
       "      <td>694.439026</td>\n",
       "      <td>666.117004</td>\n",
       "      <td>669.924011</td>\n",
       "      <td>669.924011</td>\n",
       "      <td>2853100032</td>\n",
       "      <td>0.689777</td>\n",
       "    </tr>\n",
       "  </tbody>\n",
       "</table>\n",
       "</div>"
      ],
      "text/plain": [
       "                   Open         High          Low        Close    Adj Close  \\\n",
       "Date                                                                          \n",
       "2017-12-31   712.211975   760.348022   710.119019   756.732971   756.732971   \n",
       "2018-01-31  1071.089966  1128.660034  1034.500000  1118.310059  1118.310059   \n",
       "2018-02-28   877.934021   890.107971   855.124023   855.198975   855.198975   \n",
       "2018-03-31   395.003998   418.467987   392.953003   396.457001   396.457001   \n",
       "2018-04-30   689.760986   694.439026   666.117004   669.924011   669.924011   \n",
       "\n",
       "                Volume   returns  \n",
       "Date                              \n",
       "2017-12-31  2554269952  0.692483  \n",
       "2018-01-31  3757560064  0.477813  \n",
       "2018-02-28  1963980032 -0.235276  \n",
       "2018-03-31  1323920000 -0.536415  \n",
       "2018-04-30  2853100032  0.689777  "
      ]
     },
     "execution_count": 23,
     "metadata": {},
     "output_type": "execute_result"
    }
   ],
   "source": [
    "df_stock.head()"
   ]
  },
  {
   "cell_type": "markdown",
   "metadata": {
    "id": "RAqmGuIUcY3A"
   },
   "source": [
    "Doing the same for the benchmark"
   ]
  },
  {
   "cell_type": "code",
   "execution_count": 24,
   "metadata": {
    "id": "9o8Rff6icY3A"
   },
   "outputs": [],
   "source": [
    "df_index = CCI30\n",
    "#  Switched to normal close pay attention\n",
    "df_index['returns'] = df_index['Close']/ df_index['Close'].shift(1) -1\n",
    "df_index = df_index.dropna()\n"
   ]
  },
  {
   "cell_type": "code",
   "execution_count": 25,
   "metadata": {
    "colab": {
     "base_uri": "https://localhost:8080/",
     "height": 238
    },
    "executionInfo": {
     "elapsed": 24,
     "status": "ok",
     "timestamp": 1646149118630,
     "user": {
      "displayName": "Raquel Ordonez",
      "photoUrl": "https://lh3.googleusercontent.com/a/default-user=s64",
      "userId": "13837430071386580170"
     },
     "user_tz": -60
    },
    "id": "I6JYBYqScY3B",
    "outputId": "466bbe0b-7f7a-44ca-8d53-d88b0c370fea"
   },
   "outputs": [
    {
     "data": {
      "text/html": [
       "<div>\n",
       "<style scoped>\n",
       "    .dataframe tbody tr th:only-of-type {\n",
       "        vertical-align: middle;\n",
       "    }\n",
       "\n",
       "    .dataframe tbody tr th {\n",
       "        vertical-align: top;\n",
       "    }\n",
       "\n",
       "    .dataframe thead th {\n",
       "        text-align: right;\n",
       "    }\n",
       "</style>\n",
       "<table border=\"1\" class=\"dataframe\">\n",
       "  <thead>\n",
       "    <tr style=\"text-align: right;\">\n",
       "      <th></th>\n",
       "      <th>Open</th>\n",
       "      <th>High</th>\n",
       "      <th>Low</th>\n",
       "      <th>Close</th>\n",
       "      <th>Volume</th>\n",
       "      <th>returns</th>\n",
       "    </tr>\n",
       "    <tr>\n",
       "      <th>Date</th>\n",
       "      <th></th>\n",
       "      <th></th>\n",
       "      <th></th>\n",
       "      <th></th>\n",
       "      <th></th>\n",
       "      <th></th>\n",
       "    </tr>\n",
       "  </thead>\n",
       "  <tbody>\n",
       "    <tr>\n",
       "      <th>2021-10-31</th>\n",
       "      <td>26032.8</td>\n",
       "      <td>26737.8</td>\n",
       "      <td>25159.4</td>\n",
       "      <td>26109.5</td>\n",
       "      <td>8.782840e+10</td>\n",
       "      <td>0.259448</td>\n",
       "    </tr>\n",
       "    <tr>\n",
       "      <th>2021-11-30</th>\n",
       "      <td>25005.4</td>\n",
       "      <td>26209.2</td>\n",
       "      <td>24260.6</td>\n",
       "      <td>25253.3</td>\n",
       "      <td>4.294800e+10</td>\n",
       "      <td>-0.032793</td>\n",
       "    </tr>\n",
       "    <tr>\n",
       "      <th>2021-12-31</th>\n",
       "      <td>21466.7</td>\n",
       "      <td>22159.9</td>\n",
       "      <td>20798.3</td>\n",
       "      <td>21233.1</td>\n",
       "      <td>4.190034e+10</td>\n",
       "      <td>-0.159195</td>\n",
       "    </tr>\n",
       "    <tr>\n",
       "      <th>2022-01-31</th>\n",
       "      <td>15261.3</td>\n",
       "      <td>15812.0</td>\n",
       "      <td>14663.3</td>\n",
       "      <td>15681.4</td>\n",
       "      <td>6.222856e+10</td>\n",
       "      <td>-0.261464</td>\n",
       "    </tr>\n",
       "    <tr>\n",
       "      <th>2022-02-28</th>\n",
       "      <td>17515.5</td>\n",
       "      <td>18150.2</td>\n",
       "      <td>17094.9</td>\n",
       "      <td>17888.3</td>\n",
       "      <td>5.895838e+10</td>\n",
       "      <td>0.140734</td>\n",
       "    </tr>\n",
       "  </tbody>\n",
       "</table>\n",
       "</div>"
      ],
      "text/plain": [
       "               Open     High      Low    Close        Volume   returns\n",
       "Date                                                                  \n",
       "2021-10-31  26032.8  26737.8  25159.4  26109.5  8.782840e+10  0.259448\n",
       "2021-11-30  25005.4  26209.2  24260.6  25253.3  4.294800e+10 -0.032793\n",
       "2021-12-31  21466.7  22159.9  20798.3  21233.1  4.190034e+10 -0.159195\n",
       "2022-01-31  15261.3  15812.0  14663.3  15681.4  6.222856e+10 -0.261464\n",
       "2022-02-28  17515.5  18150.2  17094.9  17888.3  5.895838e+10  0.140734"
      ]
     },
     "execution_count": 25,
     "metadata": {},
     "output_type": "execute_result"
    }
   ],
   "source": [
    "df_index.tail()"
   ]
  },
  {
   "cell_type": "markdown",
   "metadata": {
    "id": "K49SDzC1cY3B"
   },
   "source": [
    "### Merging the 2 dataframes by date (the dataframe's index is the date) and taking only the stock_returns and index_returns columns"
   ]
  },
  {
   "cell_type": "code",
   "execution_count": 26,
   "metadata": {
    "id": "M4ouNfzkcY3B"
   },
   "outputs": [],
   "source": [
    "import pandas as pd"
   ]
  },
  {
   "cell_type": "code",
   "execution_count": 27,
   "metadata": {
    "id": "IRLQ4UPfcY3C"
   },
   "outputs": [],
   "source": [
    "df = pd.DataFrame({'stock_returns' : df_stock['returns'],\n",
    "                        'index_returns' : df_index['returns']},\n",
    "                        index=df_stock.index)"
   ]
  },
  {
   "cell_type": "code",
   "execution_count": 28,
   "metadata": {
    "colab": {
     "base_uri": "https://localhost:8080/",
     "height": 238
    },
    "executionInfo": {
     "elapsed": 24,
     "status": "ok",
     "timestamp": 1646149118632,
     "user": {
      "displayName": "Raquel Ordonez",
      "photoUrl": "https://lh3.googleusercontent.com/a/default-user=s64",
      "userId": "13837430071386580170"
     },
     "user_tz": -60
    },
    "id": "Iys6oIszcY3D",
    "outputId": "17effc3a-9cac-4bd3-98c3-8d0b985755a0"
   },
   "outputs": [
    {
     "data": {
      "text/html": [
       "<div>\n",
       "<style scoped>\n",
       "    .dataframe tbody tr th:only-of-type {\n",
       "        vertical-align: middle;\n",
       "    }\n",
       "\n",
       "    .dataframe tbody tr th {\n",
       "        vertical-align: top;\n",
       "    }\n",
       "\n",
       "    .dataframe thead th {\n",
       "        text-align: right;\n",
       "    }\n",
       "</style>\n",
       "<table border=\"1\" class=\"dataframe\">\n",
       "  <thead>\n",
       "    <tr style=\"text-align: right;\">\n",
       "      <th></th>\n",
       "      <th>stock_returns</th>\n",
       "      <th>index_returns</th>\n",
       "    </tr>\n",
       "    <tr>\n",
       "      <th>Date</th>\n",
       "      <th></th>\n",
       "      <th></th>\n",
       "    </tr>\n",
       "  </thead>\n",
       "  <tbody>\n",
       "    <tr>\n",
       "      <th>2021-08-31</th>\n",
       "      <td>0.353883</td>\n",
       "      <td>0.345245</td>\n",
       "    </tr>\n",
       "    <tr>\n",
       "      <th>2021-09-30</th>\n",
       "      <td>-0.125826</td>\n",
       "      <td>-0.123248</td>\n",
       "    </tr>\n",
       "    <tr>\n",
       "      <th>2021-10-31</th>\n",
       "      <td>0.428559</td>\n",
       "      <td>0.259448</td>\n",
       "    </tr>\n",
       "    <tr>\n",
       "      <th>2021-11-30</th>\n",
       "      <td>0.080084</td>\n",
       "      <td>-0.032793</td>\n",
       "    </tr>\n",
       "    <tr>\n",
       "      <th>2021-12-31</th>\n",
       "      <td>-0.198128</td>\n",
       "      <td>-0.159195</td>\n",
       "    </tr>\n",
       "  </tbody>\n",
       "</table>\n",
       "</div>"
      ],
      "text/plain": [
       "            stock_returns  index_returns\n",
       "Date                                    \n",
       "2021-08-31       0.353883       0.345245\n",
       "2021-09-30      -0.125826      -0.123248\n",
       "2021-10-31       0.428559       0.259448\n",
       "2021-11-30       0.080084      -0.032793\n",
       "2021-12-31      -0.198128      -0.159195"
      ]
     },
     "execution_count": 28,
     "metadata": {},
     "output_type": "execute_result"
    }
   ],
   "source": [
    "df.tail()"
   ]
  },
  {
   "cell_type": "markdown",
   "metadata": {
    "id": "cRchv53qcY3D"
   },
   "source": [
    "For safety we delete the rows that do not have the 2 values in case there are."
   ]
  },
  {
   "cell_type": "code",
   "execution_count": 29,
   "metadata": {
    "id": "cG5OVsrOcY3E"
   },
   "outputs": [],
   "source": [
    "df = df.dropna()"
   ]
  },
  {
   "cell_type": "code",
   "execution_count": 30,
   "metadata": {
    "colab": {
     "base_uri": "https://localhost:8080/",
     "height": 238
    },
    "executionInfo": {
     "elapsed": 24,
     "status": "ok",
     "timestamp": 1646149118633,
     "user": {
      "displayName": "Raquel Ordonez",
      "photoUrl": "https://lh3.googleusercontent.com/a/default-user=s64",
      "userId": "13837430071386580170"
     },
     "user_tz": -60
    },
    "id": "5DRWQsvPcY3E",
    "outputId": "bbe418a0-ab06-43ac-ef98-1ae7b89dc6bb"
   },
   "outputs": [
    {
     "data": {
      "text/html": [
       "<div>\n",
       "<style scoped>\n",
       "    .dataframe tbody tr th:only-of-type {\n",
       "        vertical-align: middle;\n",
       "    }\n",
       "\n",
       "    .dataframe tbody tr th {\n",
       "        vertical-align: top;\n",
       "    }\n",
       "\n",
       "    .dataframe thead th {\n",
       "        text-align: right;\n",
       "    }\n",
       "</style>\n",
       "<table border=\"1\" class=\"dataframe\">\n",
       "  <thead>\n",
       "    <tr style=\"text-align: right;\">\n",
       "      <th></th>\n",
       "      <th>stock_returns</th>\n",
       "      <th>index_returns</th>\n",
       "    </tr>\n",
       "    <tr>\n",
       "      <th>Date</th>\n",
       "      <th></th>\n",
       "      <th></th>\n",
       "    </tr>\n",
       "  </thead>\n",
       "  <tbody>\n",
       "    <tr>\n",
       "      <th>2017-12-31</th>\n",
       "      <td>0.692483</td>\n",
       "      <td>1.438946</td>\n",
       "    </tr>\n",
       "    <tr>\n",
       "      <th>2018-01-31</th>\n",
       "      <td>0.477813</td>\n",
       "      <td>-0.166225</td>\n",
       "    </tr>\n",
       "    <tr>\n",
       "      <th>2018-02-28</th>\n",
       "      <td>-0.235276</td>\n",
       "      <td>-0.189116</td>\n",
       "    </tr>\n",
       "    <tr>\n",
       "      <th>2018-03-31</th>\n",
       "      <td>-0.536415</td>\n",
       "      <td>-0.424873</td>\n",
       "    </tr>\n",
       "    <tr>\n",
       "      <th>2018-04-30</th>\n",
       "      <td>0.689777</td>\n",
       "      <td>0.731018</td>\n",
       "    </tr>\n",
       "  </tbody>\n",
       "</table>\n",
       "</div>"
      ],
      "text/plain": [
       "            stock_returns  index_returns\n",
       "Date                                    \n",
       "2017-12-31       0.692483       1.438946\n",
       "2018-01-31       0.477813      -0.166225\n",
       "2018-02-28      -0.235276      -0.189116\n",
       "2018-03-31      -0.536415      -0.424873\n",
       "2018-04-30       0.689777       0.731018"
      ]
     },
     "execution_count": 30,
     "metadata": {},
     "output_type": "execute_result"
    }
   ],
   "source": [
    "df.head()"
   ]
  },
  {
   "cell_type": "markdown",
   "metadata": {
    "id": "BOBy__KOcY3E"
   },
   "source": [
    "#### Implementing the function for covariance\n",
    "\n",
    "Reference: http://ci.columbia.edu/ci/premba_test/c0331/s7/s7_5.html"
   ]
  },
  {
   "cell_type": "code",
   "execution_count": 31,
   "metadata": {
    "id": "QP4Zja40cY3F"
   },
   "outputs": [],
   "source": [
    "def covariance(a, b):\n",
    "    if len(a) != len(b):\n",
    "        return\n",
    "    a_mean = np.mean(a)\n",
    "    b_mean = np.mean(b)\n",
    "    sum = 0\n",
    "    for i in range(0, len(a)):\n",
    "        sum += ((a[i] - a_mean) * (b[i] - b_mean))\n",
    "    return sum/(len(a)-1)"
   ]
  },
  {
   "cell_type": "markdown",
   "metadata": {
    "id": "alS3psU0cY3F"
   },
   "source": [
    "Miremos otra vez a la formula de la Beta:\n",
    "    \n",
    "<img src=\"img/BetaCalculation.png\" width=500 height=500 align=\"center\">"
   ]
  },
  {
   "cell_type": "code",
   "execution_count": 32,
   "metadata": {
    "colab": {
     "base_uri": "https://localhost:8080/"
    },
    "executionInfo": {
     "elapsed": 23,
     "status": "ok",
     "timestamp": 1646149118634,
     "user": {
      "displayName": "Raquel Ordonez",
      "photoUrl": "https://lh3.googleusercontent.com/a/default-user=s64",
      "userId": "13837430071386580170"
     },
     "user_tz": -60
    },
    "id": "I64zcT9bcY3G",
    "outputId": "9a46726a-3433-4b6b-b301-83a5d6db3b10"
   },
   "outputs": [
    {
     "name": "stdout",
     "output_type": "stream",
     "text": [
      "COVARIANCE(stock, benchmark) = COVARIANCE(ETH-USD, BTC-USD) = 0.08914590457687373\n"
     ]
    }
   ],
   "source": [
    "numerator = covariance(df['stock_returns'],df['index_returns'])\n",
    "print(\"COVARIANCE(stock, benchmark) = COVARIANCE(\"\n",
    "      +ticker_symbol+\", \"+ref_index +\") = \" +str(numerator))"
   ]
  },
  {
   "cell_type": "code",
   "execution_count": 33,
   "metadata": {
    "colab": {
     "base_uri": "https://localhost:8080/"
    },
    "executionInfo": {
     "elapsed": 403,
     "status": "ok",
     "timestamp": 1646149119019,
     "user": {
      "displayName": "Raquel Ordonez",
      "photoUrl": "https://lh3.googleusercontent.com/a/default-user=s64",
      "userId": "13837430071386580170"
     },
     "user_tz": -60
    },
    "id": "RcujYl2ocY3G",
    "outputId": "e08f89cd-2a57-4f56-afbb-85a5b425e637"
   },
   "outputs": [
    {
     "name": "stdout",
     "output_type": "stream",
     "text": [
      "VARIANCE(benchmark) = COVARIANCE(benchmark, benchmark) = COVARIANCE(BTC-USD, BTC-USD) = 0.11178283606411131\n"
     ]
    }
   ],
   "source": [
    "denominator = covariance(df['index_returns'],df['index_returns'])\n",
    "print(\"VARIANCE(benchmark) = COVARIANCE(benchmark, benchmark) = COVARIANCE(\"\n",
    "      +ref_index+\", \"+ref_index +\") = \" +str(denominator))\n"
   ]
  },
  {
   "cell_type": "code",
   "execution_count": 34,
   "metadata": {
    "colab": {
     "base_uri": "https://localhost:8080/"
    },
    "executionInfo": {
     "elapsed": 5,
     "status": "ok",
     "timestamp": 1646149119372,
     "user": {
      "displayName": "Raquel Ordonez",
      "photoUrl": "https://lh3.googleusercontent.com/a/default-user=s64",
      "userId": "13837430071386580170"
     },
     "user_tz": -60
    },
    "id": "WYNUCcj1cY3H",
    "outputId": "41d3d381-2ced-479c-e895-373d5167a721"
   },
   "outputs": [
    {
     "name": "stdout",
     "output_type": "stream",
     "text": [
      "BETA = COVARIANCE(stock, benchmark) / VARIANCE(benchmark) = 0.08914590457687373 / 0.11178283606411131 = 0.7974918844047353\n"
     ]
    }
   ],
   "source": [
    "# BETA = Covariance (stock,index) / Variance (Index) = Covariance (stock,index) / Covariance (stock,stock)\n",
    "print(\"BETA = COVARIANCE(stock, benchmark) / VARIANCE(benchmark) = \" \n",
    "      + str(numerator) + \" / \" + str(denominator) + \" = \" \n",
    "      +str(covariance(df['stock_returns'],df['index_returns'])\n",
    "           /covariance(df['index_returns'],df['index_returns'])))"
   ]
  },
  {
   "cell_type": "markdown",
   "metadata": {
    "id": "gUGaOAkbcY3H"
   },
   "source": [
    "# Everything in one function:"
   ]
  },
  {
   "cell_type": "code",
   "execution_count": 35,
   "metadata": {
    "id": "yofK2rYXcY3I"
   },
   "outputs": [],
   "source": [
    "import datetime\n",
    "end_date =   datetime.datetime(2022,2, 12, 0, 0, 0, 0)\n",
    "start_date = end_date - datetime.timedelta(days=5*365)"
   ]
  },
  {
   "cell_type": "code",
   "execution_count": 36,
   "metadata": {
    "colab": {
     "base_uri": "https://localhost:8080/",
     "height": 780
    },
    "executionInfo": {
     "elapsed": 22817,
     "status": "ok",
     "timestamp": 1646149143594,
     "user": {
      "displayName": "Raquel Ordonez",
      "photoUrl": "https://lh3.googleusercontent.com/a/default-user=s64",
      "userId": "13837430071386580170"
     },
     "user_tz": -60
    },
    "id": "QICKbLRTEjCV",
    "outputId": "69c8fb23-d942-4dcb-8bd4-552dd26f84d9"
   },
   "outputs": [],
   "source": [
    "#!pip install yfinance\n",
    "#!pip install --upgrade pandas\n",
    "#!pip install --upgrade pandas-datareader"
   ]
  },
  {
   "cell_type": "code",
   "execution_count": null,
   "metadata": {
    "colab": {
     "base_uri": "https://localhost:8080/"
    },
    "executionInfo": {
     "elapsed": 2060,
     "status": "ok",
     "timestamp": 1646149145642,
     "user": {
      "displayName": "Raquel Ordonez",
      "photoUrl": "https://lh3.googleusercontent.com/a/default-user=s64",
      "userId": "13837430071386580170"
     },
     "user_tz": -60
    },
    "id": "LwvOzfmHEmcV",
    "outputId": "e116466f-c184-4136-da68-c0b123a1bfef"
   },
   "outputs": [],
   "source": [
    "#from google.colab import drive\n",
    "#drive.mount('/content/drive')"
   ]
  },
  {
   "cell_type": "code",
   "execution_count": 39,
   "metadata": {
    "id": "-N4AcBmZcY3I"
   },
   "outputs": [],
   "source": [
    "import datetime\n",
    "import pandas as pd\n",
    "import numpy as np\n",
    "from pandas_datareader import data as pdr\n",
    "import yfinance as yfin\n",
    "yfin.pdr_override()\n",
    "\n",
    "### this function isn't so good\n",
    "\n",
    "\n",
    "CCI30 = pd.read_csv('datasets/cci30_OHLCV.csv', index_col=0)\n",
    "CCI30.index = pd.to_datetime(CCI30.index)\n",
    "\n",
    "def covariance(a, b):\n",
    "    if len(a) != len(b):\n",
    "        return\n",
    "    a_mean = np.mean(a)\n",
    "    b_mean = np.mean(b)\n",
    "    sum = 0\n",
    "    for i in range(0, len(a)):\n",
    "        sum += ((a[i] - a_mean) * (b[i] - b_mean))\n",
    "    return sum/(len(a)-1)\n",
    "\n",
    "\n",
    "\n",
    "def calculate_beta(ticker_symbol, reference_index, start_date, end_date):\n",
    "    \"\"\" Monthly Beta calculation using historical series data for the ticker_symbol stock and \n",
    "    the reference_index for the periob between start_date and end_date \"\"\"\n",
    "    df_stock = pdr.get_data_yahoo(ticker_symbol, start=start_date, end=end_date)\n",
    "    df_index = CCI30\n",
    "    df_stock = df_stock.resample('M').last()\n",
    "    df_index = df_index.resample('M').last()\n",
    "    df_stock['returns'] = df_stock['Adj Close']/ df_stock['Adj Close'].shift(1) -1\n",
    "    df_stock = df_stock.dropna()\n",
    "    df_index['returns'] = df_index['Close']/ df_index['Close'].shift(1) -1\n",
    "    df_index = df_index.dropna()\n",
    "    df = pd.DataFrame({'stock_returns' : df_stock['returns'],\n",
    "                            'index_returns' : df_index['returns']},\n",
    "                            index=df_stock.index)\n",
    "    df = df.dropna()\n",
    "\n",
    "\n",
    "    numerator = covariance(df['stock_returns'],df['index_returns'])\n",
    "    denominator = covariance(df['index_returns'],df['index_returns'])\n",
    "    beta = numerator/denominator\n",
    "    return {'sotck': ticker_symbol, 'reference_index': 'CCI30', 'beta': beta}"
   ]
  },
  {
   "cell_type": "code",
   "execution_count": 40,
   "metadata": {
    "id": "7tcjw1Alpwh1"
   },
   "outputs": [],
   "source": [
    "crypto_list = [\"BTC-USD\",\n",
    "              \"ETH-USD\",\n",
    "              \"BNB-USD\",\n",
    "              \"XRP-USD\",\n",
    "              \"ADA-USD\",\n",
    "              \"SOL-USD\",\n",
    "              \"LUNA1-USD\",\n",
    "              \"AVAX-USD\",\n",
    "              \"MATIC-USD\",\n",
    "              \"LTC-USD\",\n",
    "              \"ATOM-USD\",\n",
    "              \"LINK-USD\",\n",
    "              \"DOT-USD\",\n",
    "              \"CRO-USD\",\n",
    "              \"LINK-USD\",\n",
    "              \"NEAR-USD\",\n",
    "              \"UNI1-USD\",\n",
    "              \"TRX-USD\",\n",
    "              \"FTT-USD\",\n",
    "              \"ALGO-USD\",\n",
    "              \"XLM-USD\",\n",
    "              \"MANA-USD\",\n",
    "              \"FTM-USD\",\n",
    "              \"SAND-USD\",\n",
    "              \"HBAR-USD\",\n",
    "              \"EGLD-USD\",\n",
    "               \"VET-USD\",\n",
    "               \"AXS-USD\",\n",
    "               \"FIL-USD\",\n",
    "              \n",
    "\n",
    "\n",
    "              \n",
    "]"
   ]
  },
  {
   "cell_type": "code",
   "execution_count": 41,
   "metadata": {
    "colab": {
     "base_uri": "https://localhost:8080/"
    },
    "executionInfo": {
     "elapsed": 4912,
     "status": "ok",
     "timestamp": 1646149150550,
     "user": {
      "displayName": "Raquel Ordonez",
      "photoUrl": "https://lh3.googleusercontent.com/a/default-user=s64",
      "userId": "13837430071386580170"
     },
     "user_tz": -60
    },
    "id": "MKpSrjNsrzuV",
    "outputId": "329c5cc8-e878-4f45-e4a4-89ddd39770b2"
   },
   "outputs": [
    {
     "name": "stdout",
     "output_type": "stream",
     "text": [
      "[*********************100%***********************]  1 of 1 completed\n",
      "[*********************100%***********************]  1 of 1 completed\n",
      "[*********************100%***********************]  1 of 1 completed\n",
      "[*********************100%***********************]  1 of 1 completed\n",
      "[*********************100%***********************]  1 of 1 completed\n",
      "[*********************100%***********************]  1 of 1 completed\n",
      "[*********************100%***********************]  1 of 1 completed\n",
      "[*********************100%***********************]  1 of 1 completed\n",
      "[*********************100%***********************]  1 of 1 completed\n",
      "[*********************100%***********************]  1 of 1 completed\n",
      "[*********************100%***********************]  1 of 1 completed\n",
      "[*********************100%***********************]  1 of 1 completed\n",
      "[*********************100%***********************]  1 of 1 completed\n",
      "[*********************100%***********************]  1 of 1 completed\n",
      "[*********************100%***********************]  1 of 1 completed\n",
      "[*********************100%***********************]  1 of 1 completed\n",
      "[*********************100%***********************]  1 of 1 completed\n",
      "[*********************100%***********************]  1 of 1 completed\n",
      "[*********************100%***********************]  1 of 1 completed\n",
      "[*********************100%***********************]  1 of 1 completed\n",
      "[*********************100%***********************]  1 of 1 completed\n",
      "[*********************100%***********************]  1 of 1 completed\n",
      "[*********************100%***********************]  1 of 1 completed\n",
      "[*********************100%***********************]  1 of 1 completed\n",
      "[*********************100%***********************]  1 of 1 completed\n",
      "[*********************100%***********************]  1 of 1 completed\n",
      "[*********************100%***********************]  1 of 1 completed\n",
      "[*********************100%***********************]  1 of 1 completed\n",
      "[*********************100%***********************]  1 of 1 completed\n"
     ]
    }
   ],
   "source": [
    "final_df = []\n",
    "for i in crypto_list:\n",
    "  final_df.append(calculate_beta(i, 'CCI30', start_date, end_date))\n"
   ]
  },
  {
   "cell_type": "code",
   "execution_count": 42,
   "metadata": {
    "colab": {
     "base_uri": "https://localhost:8080/"
    },
    "executionInfo": {
     "elapsed": 12,
     "status": "ok",
     "timestamp": 1646149150551,
     "user": {
      "displayName": "Raquel Ordonez",
      "photoUrl": "https://lh3.googleusercontent.com/a/default-user=s64",
      "userId": "13837430071386580170"
     },
     "user_tz": -60
    },
    "id": "h08R6Rq_cY3J",
    "outputId": "6f5dee92-18a1-47a3-eb4a-1b0831502d71"
   },
   "outputs": [
    {
     "data": {
      "text/plain": [
       "count    29.000000\n",
       "mean      1.651643\n",
       "std       0.950641\n",
       "min       0.506748\n",
       "10%       0.870875\n",
       "20%       0.962401\n",
       "30%       1.117626\n",
       "40%       1.305988\n",
       "50%       1.473584\n",
       "60%       1.613487\n",
       "70%       1.845611\n",
       "80%       2.261023\n",
       "90%       2.490963\n",
       "max       5.453499\n",
       "Name: beta, dtype: float64"
      ]
     },
     "execution_count": 42,
     "metadata": {},
     "output_type": "execute_result"
    }
   ],
   "source": [
    "betas_df = pd.DataFrame(final_df)\n",
    "betas_df['beta'].describe(percentiles=[.1,.2,.3,.4,.5,.6,.7,.8,.9])"
   ]
  },
  {
   "cell_type": "code",
   "execution_count": 43,
   "metadata": {
    "colab": {
     "base_uri": "https://localhost:8080/",
     "height": 279
    },
    "executionInfo": {
     "elapsed": 1291,
     "status": "ok",
     "timestamp": 1646149151837,
     "user": {
      "displayName": "Raquel Ordonez",
      "photoUrl": "https://lh3.googleusercontent.com/a/default-user=s64",
      "userId": "13837430071386580170"
     },
     "user_tz": -60
    },
    "id": "Sr3khA-3Oj27",
    "outputId": "92f9afb8-8638-445e-8119-fc362d48be13"
   },
   "outputs": [
    {
     "name": "stderr",
     "output_type": "stream",
     "text": [
      "C:\\Anaconda3\\lib\\site-packages\\scipy\\__init__.py:138: UserWarning: A NumPy version >=1.16.5 and <1.23.0 is required for this version of SciPy (detected version 1.24.1)\n",
      "  warnings.warn(f\"A NumPy version >={np_minversion} and <{np_maxversion} is required for this version of \"\n"
     ]
    },
    {
     "data": {
      "image/png": "[encoded data removed]",
      "text/plain": [
       "<Figure size 432x288 with 1 Axes>"
      ]
     },
     "metadata": {
      "needs_background": "light"
     },
     "output_type": "display_data"
    }
   ],
   "source": [
    "import seaborn as sns\n",
    "import matplotlib.pyplot as plt\n",
    "\n",
    "sns.kdeplot(betas_df['beta'])\n",
    "plt.show()\n"
   ]
  },
  {
   "cell_type": "code",
   "execution_count": 44,
   "metadata": {
    "colab": {
     "base_uri": "https://localhost:8080/",
     "height": 206
    },
    "executionInfo": {
     "elapsed": 21,
     "status": "ok",
     "timestamp": 1646149151837,
     "user": {
      "displayName": "Raquel Ordonez",
      "photoUrl": "https://lh3.googleusercontent.com/a/default-user=s64",
      "userId": "13837430071386580170"
     },
     "user_tz": -60
    },
    "id": "MKbmWlrrFQ0b",
    "outputId": "41945058-57d8-4a0f-9f8e-749e47278a96"
   },
   "outputs": [
    {
     "data": {
      "text/html": [
       "<div>\n",
       "<style scoped>\n",
       "    .dataframe tbody tr th:only-of-type {\n",
       "        vertical-align: middle;\n",
       "    }\n",
       "\n",
       "    .dataframe tbody tr th {\n",
       "        vertical-align: top;\n",
       "    }\n",
       "\n",
       "    .dataframe thead th {\n",
       "        text-align: right;\n",
       "    }\n",
       "</style>\n",
       "<table border=\"1\" class=\"dataframe\">\n",
       "  <thead>\n",
       "    <tr style=\"text-align: right;\">\n",
       "      <th></th>\n",
       "      <th>sotck</th>\n",
       "      <th>reference_index</th>\n",
       "      <th>beta</th>\n",
       "    </tr>\n",
       "  </thead>\n",
       "  <tbody>\n",
       "    <tr>\n",
       "      <th>0</th>\n",
       "      <td>BTC-USD</td>\n",
       "      <td>CCI30</td>\n",
       "      <td>0.506748</td>\n",
       "    </tr>\n",
       "    <tr>\n",
       "      <th>1</th>\n",
       "      <td>ETH-USD</td>\n",
       "      <td>CCI30</td>\n",
       "      <td>0.802784</td>\n",
       "    </tr>\n",
       "    <tr>\n",
       "      <th>2</th>\n",
       "      <td>BNB-USD</td>\n",
       "      <td>CCI30</td>\n",
       "      <td>1.600632</td>\n",
       "    </tr>\n",
       "    <tr>\n",
       "      <th>3</th>\n",
       "      <td>XRP-USD</td>\n",
       "      <td>CCI30</td>\n",
       "      <td>2.816550</td>\n",
       "    </tr>\n",
       "    <tr>\n",
       "      <th>4</th>\n",
       "      <td>ADA-USD</td>\n",
       "      <td>CCI30</td>\n",
       "      <td>2.214094</td>\n",
       "    </tr>\n",
       "  </tbody>\n",
       "</table>\n",
       "</div>"
      ],
      "text/plain": [
       "     sotck reference_index      beta\n",
       "0  BTC-USD           CCI30  0.506748\n",
       "1  ETH-USD           CCI30  0.802784\n",
       "2  BNB-USD           CCI30  1.600632\n",
       "3  XRP-USD           CCI30  2.816550\n",
       "4  ADA-USD           CCI30  2.214094"
      ]
     },
     "execution_count": 44,
     "metadata": {},
     "output_type": "execute_result"
    }
   ],
   "source": [
    "betas_df.head()"
   ]
  },
  {
   "cell_type": "code",
   "execution_count": 45,
   "metadata": {
    "id": "zZjOQ_U4PB9P"
   },
   "outputs": [],
   "source": [
    "def get_stcoks_for_beta_range(min_beta, max_beta):\n",
    "  beta_df_temp = betas_df[(betas_df['beta']>=min_beta)&(betas_df['beta']<=max_beta)]\n",
    "  return beta_df_temp"
   ]
  },
  {
   "cell_type": "code",
   "execution_count": 46,
   "metadata": {
    "colab": {
     "base_uri": "https://localhost:8080/"
    },
    "executionInfo": {
     "elapsed": 21,
     "status": "ok",
     "timestamp": 1646149151838,
     "user": {
      "displayName": "Raquel Ordonez",
      "photoUrl": "https://lh3.googleusercontent.com/a/default-user=s64",
      "userId": "13837430071386580170"
     },
     "user_tz": -60
    },
    "id": "IjT2jAijPxpf",
    "outputId": "615f2eb5-3a88-4ed4-87de-3d37a9bd7709"
   },
   "outputs": [
    {
     "data": {
      "text/plain": [
       "['BTC-USD',\n",
       " 'ETH-USD',\n",
       " 'LTC-USD',\n",
       " 'ATOM-USD',\n",
       " 'CRO-USD',\n",
       " 'NEAR-USD',\n",
       " 'FTT-USD',\n",
       " 'ALGO-USD',\n",
       " 'HBAR-USD',\n",
       " 'FIL-USD']"
      ]
     },
     "execution_count": 46,
     "metadata": {},
     "output_type": "execute_result"
    }
   ],
   "source": [
    "beta_until_1_2 = get_stcoks_for_beta_range(0, 1.2)\n",
    "beta_until_1_2['sotck'].unique().tolist()\n"
   ]
  },
  {
   "cell_type": "code",
   "execution_count": 47,
   "metadata": {
    "colab": {
     "base_uri": "https://localhost:8080/"
    },
    "executionInfo": {
     "elapsed": 16,
     "status": "ok",
     "timestamp": 1646149151839,
     "user": {
      "displayName": "Raquel Ordonez",
      "photoUrl": "https://lh3.googleusercontent.com/a/default-user=s64",
      "userId": "13837430071386580170"
     },
     "user_tz": -60
    },
    "id": "M4FfGg-JcY3K",
    "outputId": "eb99de4b-8628-4172-bb0b-9939e18e0591"
   },
   "outputs": [
    {
     "name": "stdout",
     "output_type": "stream",
     "text": [
      "Help on function calculate_beta in module __main__:\n",
      "\n",
      "calculate_beta(ticker_symbol, reference_index, start_date, end_date)\n",
      "    Monthly Beta calculation using historical series data for the ticker_symbol stock and \n",
      "    the reference_index for the periob between start_date and end_date\n",
      "\n"
     ]
    }
   ],
   "source": [
    "help(calculate_beta)"
   ]
  },
  {
   "cell_type": "code",
   "execution_count": 48,
   "metadata": {
    "colab": {
     "base_uri": "https://localhost:8080/"
    },
    "executionInfo": {
     "elapsed": 13,
     "status": "ok",
     "timestamp": 1646149151839,
     "user": {
      "displayName": "Raquel Ordonez",
      "photoUrl": "https://lh3.googleusercontent.com/a/default-user=s64",
      "userId": "13837430071386580170"
     },
     "user_tz": -60
    },
    "id": "Lkw7-NYQcY3K",
    "outputId": "7e802321-96cb-4d5e-e01d-238a93e75eba"
   },
   "outputs": [
    {
     "data": {
      "text/plain": [
       "[{'sotck': 'BTC-USD', 'reference_index': 'CCI30', 'beta': 0.5067479936191599},\n",
       " {'sotck': 'ETH-USD', 'reference_index': 'CCI30', 'beta': 0.802783756295934},\n",
       " {'sotck': 'BNB-USD', 'reference_index': 'CCI30', 'beta': 1.6006321426993828},\n",
       " {'sotck': 'XRP-USD', 'reference_index': 'CCI30', 'beta': 2.816550275037331},\n",
       " {'sotck': 'ADA-USD', 'reference_index': 'CCI30', 'beta': 2.214094388417558},\n",
       " {'sotck': 'SOL-USD', 'reference_index': 'CCI30', 'beta': 2.3436696700130644},\n",
       " {'sotck': 'LUNA1-USD',\n",
       "  'reference_index': 'CCI30',\n",
       "  'beta': 1.8757301598573914},\n",
       " {'sotck': 'AVAX-USD', 'reference_index': 'CCI30', 'beta': 1.6167011710416577},\n",
       " {'sotck': 'MATIC-USD',\n",
       "  'reference_index': 'CCI30',\n",
       "  'beta': 2.4653996501757307},\n",
       " {'sotck': 'LTC-USD', 'reference_index': 'CCI30', 'beta': 0.9019606201973563},\n",
       " {'sotck': 'ATOM-USD', 'reference_index': 'CCI30', 'beta': 0.8878984358487436},\n",
       " {'sotck': 'LINK-USD', 'reference_index': 'CCI30', 'beta': 1.3059876655533371},\n",
       " {'sotck': 'DOT-USD', 'reference_index': 'CCI30', 'beta': 1.3380735668192256},\n",
       " {'sotck': 'CRO-USD', 'reference_index': 'CCI30', 'beta': 0.7071977179574107},\n",
       " {'sotck': 'LINK-USD', 'reference_index': 'CCI30', 'beta': 1.3059876655533371},\n",
       " {'sotck': 'NEAR-USD', 'reference_index': 'CCI30', 'beta': 1.1202857657761096},\n",
       " {'sotck': 'UNI1-USD', 'reference_index': 'CCI30', 'beta': 1.5089335579170462},\n",
       " {'sotck': 'TRX-USD', 'reference_index': 'CCI30', 'beta': 5.453498785866122},\n",
       " {'sotck': 'FTT-USD', 'reference_index': 'CCI30', 'beta': 0.9607478495937267},\n",
       " {'sotck': 'ALGO-USD', 'reference_index': 'CCI30', 'beta': 0.9969767006085949},\n",
       " {'sotck': 'XLM-USD', 'reference_index': 'CCI30', 'beta': 1.730924635230189},\n",
       " {'sotck': 'MANA-USD', 'reference_index': 'CCI30', 'beta': 2.3314164990076014},\n",
       " {'sotck': 'FTM-USD', 'reference_index': 'CCI30', 'beta': 2.5932171665842327},\n",
       " {'sotck': 'SAND-USD', 'reference_index': 'CCI30', 'beta': 1.8504215473007644},\n",
       " {'sotck': 'HBAR-USD', 'reference_index': 'CCI30', 'beta': 0.9635036855249955},\n",
       " {'sotck': 'EGLD-USD', 'reference_index': 'CCI30', 'beta': 1.4735840330832655},\n",
       " {'sotck': 'VET-USD', 'reference_index': 'CCI30', 'beta': 1.2704770605394453},\n",
       " {'sotck': 'AXS-USD', 'reference_index': 'CCI30', 'beta': 1.8383939377550813},\n",
       " {'sotck': 'FIL-USD', 'reference_index': 'CCI30', 'beta': 1.1158524313154377}]"
      ]
     },
     "execution_count": 48,
     "metadata": {},
     "output_type": "execute_result"
    }
   ],
   "source": [
    "final_df"
   ]
  },
  {
   "cell_type": "code",
   "execution_count": 49,
   "metadata": {
    "id": "z5NbRcrGGD5z"
   },
   "outputs": [],
   "source": [
    "import datetime\n",
    "end_date =   datetime.datetime(2022,2, 12, 0, 0, 0, 0)\n",
    "start_date = end_date - datetime.timedelta(days=5*365)"
   ]
  },
  {
   "cell_type": "code",
   "execution_count": 50,
   "metadata": {
    "colab": {
     "base_uri": "https://localhost:8080/"
    },
    "executionInfo": {
     "elapsed": 372,
     "status": "ok",
     "timestamp": 1646149152202,
     "user": {
      "displayName": "Raquel Ordonez",
      "photoUrl": "https://lh3.googleusercontent.com/a/default-user=s64",
      "userId": "13837430071386580170"
     },
     "user_tz": -60
    },
    "id": "sWZu2lgEF1m3",
    "outputId": "d41f8e20-c1d0-4aa0-91d7-dd54985dded1"
   },
   "outputs": [
    {
     "name": "stdout",
     "output_type": "stream",
     "text": [
      "[*********************100%***********************]  1 of 1 completed\n"
     ]
    }
   ],
   "source": [
    "df_stock = pdr.get_data_yahoo('BTC-USD', start=start_date, end=end_date)"
   ]
  },
  {
   "cell_type": "code",
   "execution_count": 51,
   "metadata": {
    "colab": {
     "base_uri": "https://localhost:8080/",
     "height": 394
    },
    "executionInfo": {
     "elapsed": 11,
     "status": "ok",
     "timestamp": 1646149152203,
     "user": {
      "displayName": "Raquel Ordonez",
      "photoUrl": "https://lh3.googleusercontent.com/a/default-user=s64",
      "userId": "13837430071386580170"
     },
     "user_tz": -60
    },
    "id": "KREq8_vPGHRg",
    "outputId": "57b9227b-3f99-4a61-a8a8-f2813f5a6284"
   },
   "outputs": [
    {
     "data": {
      "text/html": [
       "<div>\n",
       "<style scoped>\n",
       "    .dataframe tbody tr th:only-of-type {\n",
       "        vertical-align: middle;\n",
       "    }\n",
       "\n",
       "    .dataframe tbody tr th {\n",
       "        vertical-align: top;\n",
       "    }\n",
       "\n",
       "    .dataframe thead th {\n",
       "        text-align: right;\n",
       "    }\n",
       "</style>\n",
       "<table border=\"1\" class=\"dataframe\">\n",
       "  <thead>\n",
       "    <tr style=\"text-align: right;\">\n",
       "      <th></th>\n",
       "      <th>Open</th>\n",
       "      <th>High</th>\n",
       "      <th>Low</th>\n",
       "      <th>Close</th>\n",
       "      <th>Adj Close</th>\n",
       "      <th>Volume</th>\n",
       "    </tr>\n",
       "    <tr>\n",
       "      <th>Date</th>\n",
       "      <th></th>\n",
       "      <th></th>\n",
       "      <th></th>\n",
       "      <th></th>\n",
       "      <th></th>\n",
       "      <th></th>\n",
       "    </tr>\n",
       "  </thead>\n",
       "  <tbody>\n",
       "    <tr>\n",
       "      <th>2017-02-12</th>\n",
       "      <td>1003.520020</td>\n",
       "      <td>1004.760010</td>\n",
       "      <td>996.921021</td>\n",
       "      <td>999.181030</td>\n",
       "      <td>999.181030</td>\n",
       "      <td>67530000</td>\n",
       "    </tr>\n",
       "    <tr>\n",
       "      <th>2017-02-13</th>\n",
       "      <td>998.885010</td>\n",
       "      <td>1002.099976</td>\n",
       "      <td>976.002014</td>\n",
       "      <td>990.642029</td>\n",
       "      <td>990.642029</td>\n",
       "      <td>100607000</td>\n",
       "    </tr>\n",
       "    <tr>\n",
       "      <th>2017-02-14</th>\n",
       "      <td>991.734985</td>\n",
       "      <td>1011.510010</td>\n",
       "      <td>986.471008</td>\n",
       "      <td>1004.549988</td>\n",
       "      <td>1004.549988</td>\n",
       "      <td>137946000</td>\n",
       "    </tr>\n",
       "    <tr>\n",
       "      <th>2017-02-15</th>\n",
       "      <td>1006.210022</td>\n",
       "      <td>1008.840027</td>\n",
       "      <td>1001.580017</td>\n",
       "      <td>1007.479980</td>\n",
       "      <td>1007.479980</td>\n",
       "      <td>89759400</td>\n",
       "    </tr>\n",
       "    <tr>\n",
       "      <th>2017-02-16</th>\n",
       "      <td>1007.650024</td>\n",
       "      <td>1033.369995</td>\n",
       "      <td>1007.650024</td>\n",
       "      <td>1027.439941</td>\n",
       "      <td>1027.439941</td>\n",
       "      <td>122277000</td>\n",
       "    </tr>\n",
       "    <tr>\n",
       "      <th>2017-02-17</th>\n",
       "      <td>1026.119995</td>\n",
       "      <td>1053.170044</td>\n",
       "      <td>1025.640015</td>\n",
       "      <td>1046.209961</td>\n",
       "      <td>1046.209961</td>\n",
       "      <td>136474000</td>\n",
       "    </tr>\n",
       "    <tr>\n",
       "      <th>2017-02-18</th>\n",
       "      <td>1049.209961</td>\n",
       "      <td>1061.099976</td>\n",
       "      <td>1046.959961</td>\n",
       "      <td>1054.420044</td>\n",
       "      <td>1054.420044</td>\n",
       "      <td>99073504</td>\n",
       "    </tr>\n",
       "    <tr>\n",
       "      <th>2017-02-19</th>\n",
       "      <td>1054.760010</td>\n",
       "      <td>1056.810059</td>\n",
       "      <td>1043.459961</td>\n",
       "      <td>1047.869995</td>\n",
       "      <td>1047.869995</td>\n",
       "      <td>77423296</td>\n",
       "    </tr>\n",
       "    <tr>\n",
       "      <th>2017-02-20</th>\n",
       "      <td>1048.689941</td>\n",
       "      <td>1080.489990</td>\n",
       "      <td>1041.689941</td>\n",
       "      <td>1079.979980</td>\n",
       "      <td>1079.979980</td>\n",
       "      <td>109478000</td>\n",
       "    </tr>\n",
       "    <tr>\n",
       "      <th>2017-02-21</th>\n",
       "      <td>1079.280029</td>\n",
       "      <td>1117.250000</td>\n",
       "      <td>1076.930054</td>\n",
       "      <td>1115.300049</td>\n",
       "      <td>1115.300049</td>\n",
       "      <td>186868992</td>\n",
       "    </tr>\n",
       "  </tbody>\n",
       "</table>\n",
       "</div>"
      ],
      "text/plain": [
       "                   Open         High          Low        Close    Adj Close  \\\n",
       "Date                                                                          \n",
       "2017-02-12  1003.520020  1004.760010   996.921021   999.181030   999.181030   \n",
       "2017-02-13   998.885010  1002.099976   976.002014   990.642029   990.642029   \n",
       "2017-02-14   991.734985  1011.510010   986.471008  1004.549988  1004.549988   \n",
       "2017-02-15  1006.210022  1008.840027  1001.580017  1007.479980  1007.479980   \n",
       "2017-02-16  1007.650024  1033.369995  1007.650024  1027.439941  1027.439941   \n",
       "2017-02-17  1026.119995  1053.170044  1025.640015  1046.209961  1046.209961   \n",
       "2017-02-18  1049.209961  1061.099976  1046.959961  1054.420044  1054.420044   \n",
       "2017-02-19  1054.760010  1056.810059  1043.459961  1047.869995  1047.869995   \n",
       "2017-02-20  1048.689941  1080.489990  1041.689941  1079.979980  1079.979980   \n",
       "2017-02-21  1079.280029  1117.250000  1076.930054  1115.300049  1115.300049   \n",
       "\n",
       "               Volume  \n",
       "Date                   \n",
       "2017-02-12   67530000  \n",
       "2017-02-13  100607000  \n",
       "2017-02-14  137946000  \n",
       "2017-02-15   89759400  \n",
       "2017-02-16  122277000  \n",
       "2017-02-17  136474000  \n",
       "2017-02-18   99073504  \n",
       "2017-02-19   77423296  \n",
       "2017-02-20  109478000  \n",
       "2017-02-21  186868992  "
      ]
     },
     "execution_count": 51,
     "metadata": {},
     "output_type": "execute_result"
    }
   ],
   "source": [
    "df_stock.head(10)"
   ]
  },
  {
   "cell_type": "code",
   "execution_count": 54,
   "metadata": {},
   "outputs": [
    {
     "data": {
      "text/plain": [
       "0.041699756478167496"
      ]
     },
     "execution_count": 54,
     "metadata": {},
     "output_type": "execute_result"
    }
   ],
   "source": [
    "df_stock['Close'].pct_change().std()"
   ]
  },
  {
   "cell_type": "code",
   "execution_count": 55,
   "metadata": {
    "id": "vBkFXSq9xIkQ"
   },
   "outputs": [],
   "source": [
    "from datetime import timedelta\n",
    "def calculate_volatility_per_stock(list_of_stock_in_index):\n",
    "  output_df = []\n",
    "  for stock in list_of_stock_in_index:\n",
    "      df_stock = pdr.get_data_yahoo(stock, start=end_date-timedelta(days=30), end=end_date)\n",
    "#      std_of_stock = df_stock['Close'].std() # FIX RETURN HERE\n",
    "      std_of_stock = df_stock['Close'].pct_change().std() # FIXED WITH RETURN!\n",
    "\n",
    "      log_of_stock_std = np.log(std_of_stock)\n",
    "      output_df.append({'stock': stock, 'std_as_volatility': max(0,log_of_stock_std)})\n",
    "  return pd.DataFrame(output_df)\n",
    "\n",
    "\n",
    "def get_stock_weigthing_based_on_volatility(df_of_volatilities):\n",
    "  sum_of_volatility = df_of_volatilities['std_as_volatility'].sum()\n",
    "  df_of_volatilities['volatilityOutOfTotal'] = df_of_volatilities['std_as_volatility'] / sum_of_volatility\n",
    "  df_of_volatilities['not_final_weight'] = 1 - df_of_volatilities['volatilityOutOfTotal']\n",
    "  df_of_volatilities['final_weight'] = df_of_volatilities['not_final_weight'] / df_of_volatilities['not_final_weight'].sum()\n",
    "  return df_of_volatilities\n"
   ]
  },
  {
   "cell_type": "code",
   "execution_count": 56,
   "metadata": {
    "colab": {
     "base_uri": "https://localhost:8080/",
     "height": 293
    },
    "executionInfo": {
     "elapsed": 779,
     "status": "ok",
     "timestamp": 1646149152973,
     "user": {
      "displayName": "Raquel Ordonez",
      "photoUrl": "https://lh3.googleusercontent.com/a/default-user=s64",
      "userId": "13837430071386580170"
     },
     "user_tz": -60
    },
    "id": "IXg6hOFPHpEY",
    "outputId": "4cc0649a-3726-4a51-f959-afdc4f4335b7"
   },
   "outputs": [
    {
     "name": "stdout",
     "output_type": "stream",
     "text": [
      "[*********************100%***********************]  1 of 1 completed\n",
      "[*********************100%***********************]  1 of 1 completed\n",
      "[*********************100%***********************]  1 of 1 completed\n",
      "[*********************100%***********************]  1 of 1 completed\n",
      "[*********************100%***********************]  1 of 1 completed\n"
     ]
    },
    {
     "data": {
      "text/html": [
       "<div>\n",
       "<style scoped>\n",
       "    .dataframe tbody tr th:only-of-type {\n",
       "        vertical-align: middle;\n",
       "    }\n",
       "\n",
       "    .dataframe tbody tr th {\n",
       "        vertical-align: top;\n",
       "    }\n",
       "\n",
       "    .dataframe thead th {\n",
       "        text-align: right;\n",
       "    }\n",
       "</style>\n",
       "<table border=\"1\" class=\"dataframe\">\n",
       "  <thead>\n",
       "    <tr style=\"text-align: right;\">\n",
       "      <th></th>\n",
       "      <th>stock</th>\n",
       "      <th>std_as_volatility</th>\n",
       "    </tr>\n",
       "  </thead>\n",
       "  <tbody>\n",
       "    <tr>\n",
       "      <th>0</th>\n",
       "      <td>BTC-USD</td>\n",
       "      <td>0</td>\n",
       "    </tr>\n",
       "    <tr>\n",
       "      <th>1</th>\n",
       "      <td>ETH-USD</td>\n",
       "      <td>0</td>\n",
       "    </tr>\n",
       "    <tr>\n",
       "      <th>2</th>\n",
       "      <td>BNB-USD</td>\n",
       "      <td>0</td>\n",
       "    </tr>\n",
       "    <tr>\n",
       "      <th>3</th>\n",
       "      <td>XRP-USD</td>\n",
       "      <td>0</td>\n",
       "    </tr>\n",
       "    <tr>\n",
       "      <th>4</th>\n",
       "      <td>ADA-USD</td>\n",
       "      <td>0</td>\n",
       "    </tr>\n",
       "  </tbody>\n",
       "</table>\n",
       "</div>"
      ],
      "text/plain": [
       "     stock  std_as_volatility\n",
       "0  BTC-USD                  0\n",
       "1  ETH-USD                  0\n",
       "2  BNB-USD                  0\n",
       "3  XRP-USD                  0\n",
       "4  ADA-USD                  0"
      ]
     },
     "execution_count": 56,
     "metadata": {},
     "output_type": "execute_result"
    }
   ],
   "source": [
    "list_of_stocks = crypto_list[:5]\n",
    "vol_df = calculate_volatility_per_stock(list_of_stocks)\n",
    "vol_df.head()"
   ]
  },
  {
   "cell_type": "code",
   "execution_count": 57,
   "metadata": {
    "colab": {
     "base_uri": "https://localhost:8080/",
     "height": 206
    },
    "executionInfo": {
     "elapsed": 15,
     "status": "ok",
     "timestamp": 1646149152974,
     "user": {
      "displayName": "Raquel Ordonez",
      "photoUrl": "https://lh3.googleusercontent.com/a/default-user=s64",
      "userId": "13837430071386580170"
     },
     "user_tz": -60
    },
    "id": "ww7lcqS9IHEn",
    "outputId": "7e6bf2e6-d01f-42ca-c258-387dcc6ba856"
   },
   "outputs": [
    {
     "data": {
      "text/html": [
       "<div>\n",
       "<style scoped>\n",
       "    .dataframe tbody tr th:only-of-type {\n",
       "        vertical-align: middle;\n",
       "    }\n",
       "\n",
       "    .dataframe tbody tr th {\n",
       "        vertical-align: top;\n",
       "    }\n",
       "\n",
       "    .dataframe thead th {\n",
       "        text-align: right;\n",
       "    }\n",
       "</style>\n",
       "<table border=\"1\" class=\"dataframe\">\n",
       "  <thead>\n",
       "    <tr style=\"text-align: right;\">\n",
       "      <th></th>\n",
       "      <th>stock</th>\n",
       "      <th>std_as_volatility</th>\n",
       "      <th>volatilityOutOfTotal</th>\n",
       "      <th>not_final_weight</th>\n",
       "      <th>final_weight</th>\n",
       "    </tr>\n",
       "  </thead>\n",
       "  <tbody>\n",
       "    <tr>\n",
       "      <th>0</th>\n",
       "      <td>BTC-USD</td>\n",
       "      <td>0</td>\n",
       "      <td>NaN</td>\n",
       "      <td>NaN</td>\n",
       "      <td>NaN</td>\n",
       "    </tr>\n",
       "    <tr>\n",
       "      <th>1</th>\n",
       "      <td>ETH-USD</td>\n",
       "      <td>0</td>\n",
       "      <td>NaN</td>\n",
       "      <td>NaN</td>\n",
       "      <td>NaN</td>\n",
       "    </tr>\n",
       "    <tr>\n",
       "      <th>2</th>\n",
       "      <td>BNB-USD</td>\n",
       "      <td>0</td>\n",
       "      <td>NaN</td>\n",
       "      <td>NaN</td>\n",
       "      <td>NaN</td>\n",
       "    </tr>\n",
       "    <tr>\n",
       "      <th>3</th>\n",
       "      <td>XRP-USD</td>\n",
       "      <td>0</td>\n",
       "      <td>NaN</td>\n",
       "      <td>NaN</td>\n",
       "      <td>NaN</td>\n",
       "    </tr>\n",
       "    <tr>\n",
       "      <th>4</th>\n",
       "      <td>ADA-USD</td>\n",
       "      <td>0</td>\n",
       "      <td>NaN</td>\n",
       "      <td>NaN</td>\n",
       "      <td>NaN</td>\n",
       "    </tr>\n",
       "  </tbody>\n",
       "</table>\n",
       "</div>"
      ],
      "text/plain": [
       "     stock  std_as_volatility  volatilityOutOfTotal  not_final_weight  \\\n",
       "0  BTC-USD                  0                   NaN               NaN   \n",
       "1  ETH-USD                  0                   NaN               NaN   \n",
       "2  BNB-USD                  0                   NaN               NaN   \n",
       "3  XRP-USD                  0                   NaN               NaN   \n",
       "4  ADA-USD                  0                   NaN               NaN   \n",
       "\n",
       "   final_weight  \n",
       "0           NaN  \n",
       "1           NaN  \n",
       "2           NaN  \n",
       "3           NaN  \n",
       "4           NaN  "
      ]
     },
     "execution_count": 57,
     "metadata": {},
     "output_type": "execute_result"
    }
   ],
   "source": [
    "vold_df = get_stock_weigthing_based_on_volatility(vol_df)\n",
    "vold_df.head(10)"
   ]
  },
  {
   "cell_type": "code",
   "execution_count": null,
   "metadata": {
    "id": "-x9fpiKZM69z"
   },
   "outputs": [],
   "source": []
  },
  {
   "cell_type": "markdown",
   "metadata": {
    "id": "auCWGxLxM7YR"
   },
   "source": [
    "IMPORT LIST OF TOP 200 CRYPTOS TO THEN FILTER BY TRADING VOLUME (TOP 25TH PERCENTILE)"
   ]
  },
  {
   "cell_type": "code",
   "execution_count": 59,
   "metadata": {
    "colab": {
     "base_uri": "https://localhost:8080/",
     "height": 455
    },
    "executionInfo": {
     "elapsed": 1094,
     "status": "ok",
     "timestamp": 1646162283509,
     "user": {
      "displayName": "Asaf Lev",
      "photoUrl": "https://lh3.googleusercontent.com/a/default-user=s64",
      "userId": "09861833383940371879"
     },
     "user_tz": -60
    },
    "id": "NQLZFfCbNCmX",
    "outputId": "09a9eaf0-7b29-47dd-8f6a-074afc4afbba"
   },
   "outputs": [
    {
     "data": {
      "text/html": [
       "<div>\n",
       "<style scoped>\n",
       "    .dataframe tbody tr th:only-of-type {\n",
       "        vertical-align: middle;\n",
       "    }\n",
       "\n",
       "    .dataframe tbody tr th {\n",
       "        vertical-align: top;\n",
       "    }\n",
       "\n",
       "    .dataframe thead th {\n",
       "        text-align: right;\n",
       "    }\n",
       "</style>\n",
       "<table border=\"1\" class=\"dataframe\">\n",
       "  <thead>\n",
       "    <tr style=\"text-align: right;\">\n",
       "      <th></th>\n",
       "      <th>Name</th>\n",
       "      <th>Price</th>\n",
       "      <th>Market Cap</th>\n",
       "      <th>Volume(24h)</th>\n",
       "    </tr>\n",
       "    <tr>\n",
       "      <th>Rank</th>\n",
       "      <th></th>\n",
       "      <th></th>\n",
       "      <th></th>\n",
       "      <th></th>\n",
       "    </tr>\n",
       "  </thead>\n",
       "  <tbody>\n",
       "    <tr>\n",
       "      <th>1.0</th>\n",
       "      <td>NaN</td>\n",
       "      <td>35678.4200</td>\n",
       "      <td>6.778563e+11</td>\n",
       "      <td>40964636287</td>\n",
       "    </tr>\n",
       "    <tr>\n",
       "      <th>NaN</th>\n",
       "      <td>Bitcoin</td>\n",
       "      <td>NaN</td>\n",
       "      <td>NaN</td>\n",
       "      <td>1,146,237 BTC</td>\n",
       "    </tr>\n",
       "    <tr>\n",
       "      <th>NaN</th>\n",
       "      <td>BTC</td>\n",
       "      <td>NaN</td>\n",
       "      <td>NaN</td>\n",
       "      <td>NaN</td>\n",
       "    </tr>\n",
       "    <tr>\n",
       "      <th>NaN</th>\n",
       "      <td>NaN</td>\n",
       "      <td>NaN</td>\n",
       "      <td>NaN</td>\n",
       "      <td>NaN</td>\n",
       "    </tr>\n",
       "    <tr>\n",
       "      <th>2.0</th>\n",
       "      <td>NaN</td>\n",
       "      <td>2446.4100</td>\n",
       "      <td>2.928334e+11</td>\n",
       "      <td>24419180925</td>\n",
       "    </tr>\n",
       "    <tr>\n",
       "      <th>...</th>\n",
       "      <td>...</td>\n",
       "      <td>...</td>\n",
       "      <td>...</td>\n",
       "      <td>...</td>\n",
       "    </tr>\n",
       "    <tr>\n",
       "      <th>NaN</th>\n",
       "      <td>Mdex</td>\n",
       "      <td>NaN</td>\n",
       "      <td>NaN</td>\n",
       "      <td>54,565,051 MDX</td>\n",
       "    </tr>\n",
       "    <tr>\n",
       "      <th>NaN</th>\n",
       "      <td>MDX</td>\n",
       "      <td>NaN</td>\n",
       "      <td>NaN</td>\n",
       "      <td>NaN</td>\n",
       "    </tr>\n",
       "    <tr>\n",
       "      <th>200.0</th>\n",
       "      <td>NaN</td>\n",
       "      <td>0.4536</td>\n",
       "      <td>1.765466e+08</td>\n",
       "      <td>2108928</td>\n",
       "    </tr>\n",
       "    <tr>\n",
       "      <th>NaN</th>\n",
       "      <td>AVINOC</td>\n",
       "      <td>NaN</td>\n",
       "      <td>NaN</td>\n",
       "      <td>4,649,699 AVINOC</td>\n",
       "    </tr>\n",
       "    <tr>\n",
       "      <th>NaN</th>\n",
       "      <td>AVINOC</td>\n",
       "      <td>NaN</td>\n",
       "      <td>NaN</td>\n",
       "      <td>NaN</td>\n",
       "    </tr>\n",
       "  </tbody>\n",
       "</table>\n",
       "<p>608 rows × 4 columns</p>\n",
       "</div>"
      ],
      "text/plain": [
       "          Name       Price    Market Cap       Volume(24h)\n",
       "Rank                                                      \n",
       "1.0        NaN  35678.4200  6.778563e+11       40964636287\n",
       "NaN    Bitcoin         NaN           NaN     1,146,237 BTC\n",
       "NaN        BTC         NaN           NaN               NaN\n",
       "NaN        NaN         NaN           NaN               NaN\n",
       "2.0        NaN   2446.4100  2.928334e+11       24419180925\n",
       "...        ...         ...           ...               ...\n",
       "NaN       Mdex         NaN           NaN    54,565,051 MDX\n",
       "NaN        MDX         NaN           NaN               NaN\n",
       "200.0      NaN      0.4536  1.765466e+08           2108928\n",
       "NaN     AVINOC         NaN           NaN  4,649,699 AVINOC\n",
       "NaN     AVINOC         NaN           NaN               NaN\n",
       "\n",
       "[608 rows x 4 columns]"
      ]
     },
     "execution_count": 59,
     "metadata": {},
     "output_type": "execute_result"
    }
   ],
   "source": [
    "top200_df = pd.read_excel('dataset/Top 200 cryptos (by Market Cap).xlsx', index_col=0)\n",
    "#top200_df.index = pd.to_datetime(top200_df.index)\n",
    "top200_df"
   ]
  },
  {
   "cell_type": "code",
   "execution_count": 60,
   "metadata": {
    "colab": {
     "base_uri": "https://localhost:8080/",
     "height": 455
    },
    "executionInfo": {
     "elapsed": 28,
     "status": "ok",
     "timestamp": 1646149154108,
     "user": {
      "displayName": "Raquel Ordonez",
      "photoUrl": "https://lh3.googleusercontent.com/a/default-user=s64",
      "userId": "13837430071386580170"
     },
     "user_tz": -60
    },
    "id": "aFVI3wKhVGng",
    "outputId": "ece70dca-0b58-41db-9b73-aa261009bf93"
   },
   "outputs": [
    {
     "data": {
      "text/html": [
       "<div>\n",
       "<style scoped>\n",
       "    .dataframe tbody tr th:only-of-type {\n",
       "        vertical-align: middle;\n",
       "    }\n",
       "\n",
       "    .dataframe tbody tr th {\n",
       "        vertical-align: top;\n",
       "    }\n",
       "\n",
       "    .dataframe thead th {\n",
       "        text-align: right;\n",
       "    }\n",
       "</style>\n",
       "<table border=\"1\" class=\"dataframe\">\n",
       "  <thead>\n",
       "    <tr style=\"text-align: right;\">\n",
       "      <th></th>\n",
       "      <th>Name</th>\n",
       "      <th>Price</th>\n",
       "      <th>Market Cap</th>\n",
       "      <th>Volume(24h)</th>\n",
       "    </tr>\n",
       "    <tr>\n",
       "      <th>Rank</th>\n",
       "      <th></th>\n",
       "      <th></th>\n",
       "      <th></th>\n",
       "      <th></th>\n",
       "    </tr>\n",
       "  </thead>\n",
       "  <tbody>\n",
       "    <tr>\n",
       "      <th>1.0</th>\n",
       "      <td>NaN</td>\n",
       "      <td>35678.420</td>\n",
       "      <td>6.778563e+11</td>\n",
       "      <td>40964636287</td>\n",
       "    </tr>\n",
       "    <tr>\n",
       "      <th>2.0</th>\n",
       "      <td>NaN</td>\n",
       "      <td>2446.410</td>\n",
       "      <td>2.928334e+11</td>\n",
       "      <td>24419180925</td>\n",
       "    </tr>\n",
       "    <tr>\n",
       "      <th>3.0</th>\n",
       "      <td>NaN</td>\n",
       "      <td>1.000</td>\n",
       "      <td>7.954243e+10</td>\n",
       "      <td>95053917880</td>\n",
       "    </tr>\n",
       "    <tr>\n",
       "      <th>NaN</th>\n",
       "      <td>BNB</td>\n",
       "      <td>NaN</td>\n",
       "      <td>NaN</td>\n",
       "      <td>7,620,410 BNB</td>\n",
       "    </tr>\n",
       "    <tr>\n",
       "      <th>NaN</th>\n",
       "      <td>USD Coin</td>\n",
       "      <td>NaN</td>\n",
       "      <td>NaN</td>\n",
       "      <td>7,403,573,358 USDC</td>\n",
       "    </tr>\n",
       "    <tr>\n",
       "      <th>...</th>\n",
       "      <td>...</td>\n",
       "      <td>...</td>\n",
       "      <td>...</td>\n",
       "      <td>...</td>\n",
       "    </tr>\n",
       "    <tr>\n",
       "      <th>NaN</th>\n",
       "      <td>MediBloc</td>\n",
       "      <td>NaN</td>\n",
       "      <td>NaN</td>\n",
       "      <td>214,796,783 MED</td>\n",
       "    </tr>\n",
       "    <tr>\n",
       "      <th>NaN</th>\n",
       "      <td>LSK</td>\n",
       "      <td>NaN</td>\n",
       "      <td>NaN</td>\n",
       "      <td>NaN</td>\n",
       "    </tr>\n",
       "    <tr>\n",
       "      <th>197.0</th>\n",
       "      <td>NaN</td>\n",
       "      <td>0.245</td>\n",
       "      <td>1.832759e+08</td>\n",
       "      <td>31420190</td>\n",
       "    </tr>\n",
       "    <tr>\n",
       "      <th>NaN</th>\n",
       "      <td>Alchemy Pay</td>\n",
       "      <td>NaN</td>\n",
       "      <td>NaN</td>\n",
       "      <td>1,439,123,027 ACH</td>\n",
       "    </tr>\n",
       "    <tr>\n",
       "      <th>NaN</th>\n",
       "      <td>MDX</td>\n",
       "      <td>NaN</td>\n",
       "      <td>NaN</td>\n",
       "      <td>NaN</td>\n",
       "    </tr>\n",
       "  </tbody>\n",
       "</table>\n",
       "<p>152 rows × 4 columns</p>\n",
       "</div>"
      ],
      "text/plain": [
       "              Name      Price    Market Cap         Volume(24h)\n",
       "Rank                                                           \n",
       "1.0            NaN  35678.420  6.778563e+11         40964636287\n",
       "2.0            NaN   2446.410  2.928334e+11         24419180925\n",
       "3.0            NaN      1.000  7.954243e+10         95053917880\n",
       "NaN            BNB        NaN           NaN       7,620,410 BNB\n",
       "NaN       USD Coin        NaN           NaN  7,403,573,358 USDC\n",
       "...            ...        ...           ...                 ...\n",
       "NaN       MediBloc        NaN           NaN     214,796,783 MED\n",
       "NaN            LSK        NaN           NaN                 NaN\n",
       "197.0          NaN      0.245  1.832759e+08            31420190\n",
       "NaN    Alchemy Pay        NaN           NaN   1,439,123,027 ACH\n",
       "NaN            MDX        NaN           NaN                 NaN\n",
       "\n",
       "[152 rows x 4 columns]"
      ]
     },
     "execution_count": 60,
     "metadata": {},
     "output_type": "execute_result"
    }
   ],
   "source": [
    "top200_df.iloc[::4,:]"
   ]
  },
  {
   "cell_type": "code",
   "execution_count": 61,
   "metadata": {
    "colab": {
     "base_uri": "https://localhost:8080/"
    },
    "executionInfo": {
     "elapsed": 25,
     "status": "ok",
     "timestamp": 1646149154109,
     "user": {
      "displayName": "Raquel Ordonez",
      "photoUrl": "https://lh3.googleusercontent.com/a/default-user=s64",
      "userId": "13837430071386580170"
     },
     "user_tz": -60
    },
    "id": "RgFKigURVSkG",
    "outputId": "70f6089e-e052-4f46-a6f2-94293b290b3f"
   },
   "outputs": [
    {
     "data": {
      "text/plain": [
       "Index(['Name', 'Price', 'Market Cap', 'Volume(24h)'], dtype='object')"
      ]
     },
     "execution_count": 61,
     "metadata": {},
     "output_type": "execute_result"
    }
   ],
   "source": [
    "top200_df.columns\n",
    " "
   ]
  },
  {
   "cell_type": "code",
   "execution_count": 62,
   "metadata": {
    "colab": {
     "base_uri": "https://localhost:8080/"
    },
    "executionInfo": {
     "elapsed": 21,
     "status": "ok",
     "timestamp": 1646149154109,
     "user": {
      "displayName": "Raquel Ordonez",
      "photoUrl": "https://lh3.googleusercontent.com/a/default-user=s64",
      "userId": "13837430071386580170"
     },
     "user_tz": -60
    },
    "id": "DPhoXURMVv6z",
    "outputId": "b0ffa6d7-f950-4cc8-fa5c-00d356ede0ed"
   },
   "outputs": [
    {
     "data": {
      "text/plain": [
       "Rank\n",
       "1.0       True\n",
       "NaN      False\n",
       "NaN      False\n",
       "NaN      False\n",
       "2.0       True\n",
       "         ...  \n",
       "NaN      False\n",
       "NaN      False\n",
       "200.0     True\n",
       "NaN      False\n",
       "NaN      False\n",
       "Name: Price, Length: 608, dtype: bool"
      ]
     },
     "execution_count": 62,
     "metadata": {},
     "output_type": "execute_result"
    }
   ],
   "source": [
    "top200_df[\"Price\"].notnull()"
   ]
  },
  {
   "cell_type": "code",
   "execution_count": 63,
   "metadata": {
    "colab": {
     "base_uri": "https://localhost:8080/",
     "height": 424
    },
    "executionInfo": {
     "elapsed": 19,
     "status": "ok",
     "timestamp": 1646149154110,
     "user": {
      "displayName": "Raquel Ordonez",
      "photoUrl": "https://lh3.googleusercontent.com/a/default-user=s64",
      "userId": "13837430071386580170"
     },
     "user_tz": -60
    },
    "id": "9bt87g2iWCAU",
    "outputId": "f25b8273-27fd-450e-8993-650360dd5b63"
   },
   "outputs": [
    {
     "data": {
      "text/html": [
       "<div>\n",
       "<style scoped>\n",
       "    .dataframe tbody tr th:only-of-type {\n",
       "        vertical-align: middle;\n",
       "    }\n",
       "\n",
       "    .dataframe tbody tr th {\n",
       "        vertical-align: top;\n",
       "    }\n",
       "\n",
       "    .dataframe thead th {\n",
       "        text-align: right;\n",
       "    }\n",
       "</style>\n",
       "<table border=\"1\" class=\"dataframe\">\n",
       "  <thead>\n",
       "    <tr style=\"text-align: right;\">\n",
       "      <th></th>\n",
       "      <th>Rank</th>\n",
       "      <th>Name</th>\n",
       "      <th>Price</th>\n",
       "      <th>Market Cap</th>\n",
       "      <th>Volume(24h)</th>\n",
       "    </tr>\n",
       "  </thead>\n",
       "  <tbody>\n",
       "    <tr>\n",
       "      <th>0</th>\n",
       "      <td>1.0</td>\n",
       "      <td>NaN</td>\n",
       "      <td>35678.42000</td>\n",
       "      <td>6.778563e+11</td>\n",
       "      <td>40964636287</td>\n",
       "    </tr>\n",
       "    <tr>\n",
       "      <th>1</th>\n",
       "      <td>2.0</td>\n",
       "      <td>NaN</td>\n",
       "      <td>2446.41000</td>\n",
       "      <td>2.928334e+11</td>\n",
       "      <td>24419180925</td>\n",
       "    </tr>\n",
       "    <tr>\n",
       "      <th>2</th>\n",
       "      <td>3.0</td>\n",
       "      <td>NaN</td>\n",
       "      <td>1.00000</td>\n",
       "      <td>7.954243e+10</td>\n",
       "      <td>95053917880</td>\n",
       "    </tr>\n",
       "    <tr>\n",
       "      <th>3</th>\n",
       "      <td>4.0</td>\n",
       "      <td>NaN</td>\n",
       "      <td>342.04000</td>\n",
       "      <td>5.658012e+10</td>\n",
       "      <td>2611265562</td>\n",
       "    </tr>\n",
       "    <tr>\n",
       "      <th>4</th>\n",
       "      <td>5.0</td>\n",
       "      <td>NaN</td>\n",
       "      <td>1.00000</td>\n",
       "      <td>5.305233e+10</td>\n",
       "      <td>7404386033</td>\n",
       "    </tr>\n",
       "    <tr>\n",
       "      <th>...</th>\n",
       "      <td>...</td>\n",
       "      <td>...</td>\n",
       "      <td>...</td>\n",
       "      <td>...</td>\n",
       "      <td>...</td>\n",
       "    </tr>\n",
       "    <tr>\n",
       "      <th>195</th>\n",
       "      <td>196.0</td>\n",
       "      <td>NaN</td>\n",
       "      <td>2.33000</td>\n",
       "      <td>1.864749e+08</td>\n",
       "      <td>81929802</td>\n",
       "    </tr>\n",
       "    <tr>\n",
       "      <th>196</th>\n",
       "      <td>197.0</td>\n",
       "      <td>NaN</td>\n",
       "      <td>0.24500</td>\n",
       "      <td>1.832759e+08</td>\n",
       "      <td>31420190</td>\n",
       "    </tr>\n",
       "    <tr>\n",
       "      <th>197</th>\n",
       "      <td>198.0</td>\n",
       "      <td>NaN</td>\n",
       "      <td>0.04422</td>\n",
       "      <td>1.799899e+08</td>\n",
       "      <td>63649526</td>\n",
       "    </tr>\n",
       "    <tr>\n",
       "      <th>198</th>\n",
       "      <td>199.0</td>\n",
       "      <td>NaN</td>\n",
       "      <td>0.20760</td>\n",
       "      <td>1.784649e+08</td>\n",
       "      <td>11346026</td>\n",
       "    </tr>\n",
       "    <tr>\n",
       "      <th>199</th>\n",
       "      <td>200.0</td>\n",
       "      <td>NaN</td>\n",
       "      <td>0.45360</td>\n",
       "      <td>1.765466e+08</td>\n",
       "      <td>2108928</td>\n",
       "    </tr>\n",
       "  </tbody>\n",
       "</table>\n",
       "<p>200 rows × 5 columns</p>\n",
       "</div>"
      ],
      "text/plain": [
       "      Rank Name        Price    Market Cap  Volume(24h)\n",
       "0      1.0  NaN  35678.42000  6.778563e+11  40964636287\n",
       "1      2.0  NaN   2446.41000  2.928334e+11  24419180925\n",
       "2      3.0  NaN      1.00000  7.954243e+10  95053917880\n",
       "3      4.0  NaN    342.04000  5.658012e+10   2611265562\n",
       "4      5.0  NaN      1.00000  5.305233e+10   7404386033\n",
       "..     ...  ...          ...           ...          ...\n",
       "195  196.0  NaN      2.33000  1.864749e+08     81929802\n",
       "196  197.0  NaN      0.24500  1.832759e+08     31420190\n",
       "197  198.0  NaN      0.04422  1.799899e+08     63649526\n",
       "198  199.0  NaN      0.20760  1.784649e+08     11346026\n",
       "199  200.0  NaN      0.45360  1.765466e+08      2108928\n",
       "\n",
       "[200 rows x 5 columns]"
      ]
     },
     "execution_count": 63,
     "metadata": {},
     "output_type": "execute_result"
    }
   ],
   "source": [
    "  values_df = top200_df[top200_df[\"Price\"].notnull()].reset_index()\n",
    "  values_df"
   ]
  },
  {
   "cell_type": "code",
   "execution_count": 64,
   "metadata": {
    "colab": {
     "base_uri": "https://localhost:8080/"
    },
    "executionInfo": {
     "elapsed": 310,
     "status": "ok",
     "timestamp": 1646162286495,
     "user": {
      "displayName": "Asaf Lev",
      "photoUrl": "https://lh3.googleusercontent.com/a/default-user=s64",
      "userId": "09861833383940371879"
     },
     "user_tz": -60
    },
    "id": "rtRWKZpuWG0A",
    "outputId": "5008da1b-1f76-40ba-b061-ac3703181b3f"
   },
   "outputs": [
    {
     "data": {
      "text/plain": [
       "array([  2,   6,  10,  13,  17,  20,  23,  27,  30,  34,  37,  41,  44,\n",
       "        47,  50,  54,  58,  61,  64,  67,  70,  73,  76,  79,  82,  85,\n",
       "        88,  91,  94,  97, 100, 103, 106, 109, 112, 115, 118, 121, 124,\n",
       "       127, 130, 133, 136, 139, 142, 145, 148, 151, 154, 157, 160, 163,\n",
       "       166, 169, 172, 175, 178, 181, 184, 187, 190, 193, 196, 199, 202,\n",
       "       205, 208, 211, 214, 217, 220, 223, 226, 229, 232, 235, 238, 241,\n",
       "       244, 247, 250, 253, 256, 259, 262, 265, 268, 271, 274, 277, 280,\n",
       "       283, 286, 289, 292, 295, 298, 301, 304, 307, 310, 313, 316, 319,\n",
       "       322, 325, 328, 331, 334, 337, 340, 343, 346, 349, 352, 355, 358,\n",
       "       361, 364, 367, 370, 373, 376, 379, 382, 385, 388, 391, 394, 397,\n",
       "       400, 403, 406, 409, 412, 415, 418, 421, 424, 427, 430, 433, 436,\n",
       "       439, 442, 445, 448, 451, 454, 457, 460, 463, 466, 469, 472, 475,\n",
       "       478, 481, 484, 487, 490, 493, 496, 499, 502, 505, 508, 511, 514,\n",
       "       517, 520, 523, 526, 529, 532, 535, 538, 541, 544, 547, 550, 553,\n",
       "       556, 559, 562, 565, 568, 571, 574, 577, 580, 583, 586, 589, 592,\n",
       "       595, 598, 601, 604, 607], dtype=int64)"
      ]
     },
     "execution_count": 64,
     "metadata": {},
     "output_type": "execute_result"
    }
   ],
   "source": [
    "index_of_names = np.where(top200_df['Price'].isnull() == False)[0] +2\n",
    "index_of_names"
   ]
  },
  {
   "cell_type": "code",
   "execution_count": 65,
   "metadata": {
    "colab": {
     "base_uri": "https://localhost:8080/",
     "height": 424
    },
    "executionInfo": {
     "elapsed": 480,
     "status": "ok",
     "timestamp": 1646149154576,
     "user": {
      "displayName": "Raquel Ordonez",
      "photoUrl": "https://lh3.googleusercontent.com/a/default-user=s64",
      "userId": "13837430071386580170"
     },
     "user_tz": -60
    },
    "id": "mYEF8_eIWqSc",
    "outputId": "166e733b-391d-4b67-81ae-2e3db400253c"
   },
   "outputs": [
    {
     "data": {
      "text/html": [
       "<div>\n",
       "<style scoped>\n",
       "    .dataframe tbody tr th:only-of-type {\n",
       "        vertical-align: middle;\n",
       "    }\n",
       "\n",
       "    .dataframe tbody tr th {\n",
       "        vertical-align: top;\n",
       "    }\n",
       "\n",
       "    .dataframe thead th {\n",
       "        text-align: right;\n",
       "    }\n",
       "</style>\n",
       "<table border=\"1\" class=\"dataframe\">\n",
       "  <thead>\n",
       "    <tr style=\"text-align: right;\">\n",
       "      <th></th>\n",
       "      <th>Rank</th>\n",
       "      <th>Name</th>\n",
       "    </tr>\n",
       "  </thead>\n",
       "  <tbody>\n",
       "    <tr>\n",
       "      <th>0</th>\n",
       "      <td>NaN</td>\n",
       "      <td>BTC</td>\n",
       "    </tr>\n",
       "    <tr>\n",
       "      <th>1</th>\n",
       "      <td>NaN</td>\n",
       "      <td>ETH</td>\n",
       "    </tr>\n",
       "    <tr>\n",
       "      <th>2</th>\n",
       "      <td>NaN</td>\n",
       "      <td>USDT</td>\n",
       "    </tr>\n",
       "    <tr>\n",
       "      <th>3</th>\n",
       "      <td>NaN</td>\n",
       "      <td>BNB</td>\n",
       "    </tr>\n",
       "    <tr>\n",
       "      <th>4</th>\n",
       "      <td>NaN</td>\n",
       "      <td>USDC</td>\n",
       "    </tr>\n",
       "    <tr>\n",
       "      <th>...</th>\n",
       "      <td>...</td>\n",
       "      <td>...</td>\n",
       "    </tr>\n",
       "    <tr>\n",
       "      <th>195</th>\n",
       "      <td>NaN</td>\n",
       "      <td>MBOX</td>\n",
       "    </tr>\n",
       "    <tr>\n",
       "      <th>196</th>\n",
       "      <td>NaN</td>\n",
       "      <td>FET</td>\n",
       "    </tr>\n",
       "    <tr>\n",
       "      <th>197</th>\n",
       "      <td>NaN</td>\n",
       "      <td>ACH</td>\n",
       "    </tr>\n",
       "    <tr>\n",
       "      <th>198</th>\n",
       "      <td>NaN</td>\n",
       "      <td>MDX</td>\n",
       "    </tr>\n",
       "    <tr>\n",
       "      <th>199</th>\n",
       "      <td>NaN</td>\n",
       "      <td>AVINOC</td>\n",
       "    </tr>\n",
       "  </tbody>\n",
       "</table>\n",
       "<p>200 rows × 2 columns</p>\n",
       "</div>"
      ],
      "text/plain": [
       "     Rank    Name\n",
       "0     NaN     BTC\n",
       "1     NaN     ETH\n",
       "2     NaN    USDT\n",
       "3     NaN     BNB\n",
       "4     NaN    USDC\n",
       "..    ...     ...\n",
       "195   NaN    MBOX\n",
       "196   NaN     FET\n",
       "197   NaN     ACH\n",
       "198   NaN     MDX\n",
       "199   NaN  AVINOC\n",
       "\n",
       "[200 rows x 2 columns]"
      ]
     },
     "execution_count": 65,
     "metadata": {},
     "output_type": "execute_result"
    }
   ],
   "source": [
    "crypto_names =top200_df.iloc[index_of_names,0].reset_index()\n",
    "crypto_names"
   ]
  },
  {
   "cell_type": "code",
   "execution_count": 66,
   "metadata": {
    "colab": {
     "base_uri": "https://localhost:8080/",
     "height": 183
    },
    "executionInfo": {
     "elapsed": 652,
     "status": "error",
     "timestamp": 1646162289396,
     "user": {
      "displayName": "Asaf Lev",
      "photoUrl": "https://lh3.googleusercontent.com/a/default-user=s64",
      "userId": "09861833383940371879"
     },
     "user_tz": -60
    },
    "id": "PpURgbsNXE7t",
    "outputId": "b4fff4bc-ad0b-4fcc-f73c-e68d86bc3fa0"
   },
   "outputs": [
    {
     "data": {
      "text/html": [
       "<div>\n",
       "<style scoped>\n",
       "    .dataframe tbody tr th:only-of-type {\n",
       "        vertical-align: middle;\n",
       "    }\n",
       "\n",
       "    .dataframe tbody tr th {\n",
       "        vertical-align: top;\n",
       "    }\n",
       "\n",
       "    .dataframe thead th {\n",
       "        text-align: right;\n",
       "    }\n",
       "</style>\n",
       "<table border=\"1\" class=\"dataframe\">\n",
       "  <thead>\n",
       "    <tr style=\"text-align: right;\">\n",
       "      <th></th>\n",
       "      <th>Rank</th>\n",
       "      <th>Name</th>\n",
       "      <th>Rank</th>\n",
       "      <th>Name</th>\n",
       "      <th>Price</th>\n",
       "      <th>Market Cap</th>\n",
       "      <th>Volume(24h)</th>\n",
       "    </tr>\n",
       "  </thead>\n",
       "  <tbody>\n",
       "    <tr>\n",
       "      <th>0</th>\n",
       "      <td>NaN</td>\n",
       "      <td>BTC</td>\n",
       "      <td>1.0</td>\n",
       "      <td>NaN</td>\n",
       "      <td>35678.42000</td>\n",
       "      <td>6.778563e+11</td>\n",
       "      <td>40964636287</td>\n",
       "    </tr>\n",
       "    <tr>\n",
       "      <th>1</th>\n",
       "      <td>NaN</td>\n",
       "      <td>ETH</td>\n",
       "      <td>2.0</td>\n",
       "      <td>NaN</td>\n",
       "      <td>2446.41000</td>\n",
       "      <td>2.928334e+11</td>\n",
       "      <td>24419180925</td>\n",
       "    </tr>\n",
       "    <tr>\n",
       "      <th>2</th>\n",
       "      <td>NaN</td>\n",
       "      <td>USDT</td>\n",
       "      <td>3.0</td>\n",
       "      <td>NaN</td>\n",
       "      <td>1.00000</td>\n",
       "      <td>7.954243e+10</td>\n",
       "      <td>95053917880</td>\n",
       "    </tr>\n",
       "    <tr>\n",
       "      <th>3</th>\n",
       "      <td>NaN</td>\n",
       "      <td>BNB</td>\n",
       "      <td>4.0</td>\n",
       "      <td>NaN</td>\n",
       "      <td>342.04000</td>\n",
       "      <td>5.658012e+10</td>\n",
       "      <td>2611265562</td>\n",
       "    </tr>\n",
       "    <tr>\n",
       "      <th>4</th>\n",
       "      <td>NaN</td>\n",
       "      <td>USDC</td>\n",
       "      <td>5.0</td>\n",
       "      <td>NaN</td>\n",
       "      <td>1.00000</td>\n",
       "      <td>5.305233e+10</td>\n",
       "      <td>7404386033</td>\n",
       "    </tr>\n",
       "    <tr>\n",
       "      <th>...</th>\n",
       "      <td>...</td>\n",
       "      <td>...</td>\n",
       "      <td>...</td>\n",
       "      <td>...</td>\n",
       "      <td>...</td>\n",
       "      <td>...</td>\n",
       "      <td>...</td>\n",
       "    </tr>\n",
       "    <tr>\n",
       "      <th>195</th>\n",
       "      <td>NaN</td>\n",
       "      <td>MBOX</td>\n",
       "      <td>196.0</td>\n",
       "      <td>NaN</td>\n",
       "      <td>2.33000</td>\n",
       "      <td>1.864749e+08</td>\n",
       "      <td>81929802</td>\n",
       "    </tr>\n",
       "    <tr>\n",
       "      <th>196</th>\n",
       "      <td>NaN</td>\n",
       "      <td>FET</td>\n",
       "      <td>197.0</td>\n",
       "      <td>NaN</td>\n",
       "      <td>0.24500</td>\n",
       "      <td>1.832759e+08</td>\n",
       "      <td>31420190</td>\n",
       "    </tr>\n",
       "    <tr>\n",
       "      <th>197</th>\n",
       "      <td>NaN</td>\n",
       "      <td>ACH</td>\n",
       "      <td>198.0</td>\n",
       "      <td>NaN</td>\n",
       "      <td>0.04422</td>\n",
       "      <td>1.799899e+08</td>\n",
       "      <td>63649526</td>\n",
       "    </tr>\n",
       "    <tr>\n",
       "      <th>198</th>\n",
       "      <td>NaN</td>\n",
       "      <td>MDX</td>\n",
       "      <td>199.0</td>\n",
       "      <td>NaN</td>\n",
       "      <td>0.20760</td>\n",
       "      <td>1.784649e+08</td>\n",
       "      <td>11346026</td>\n",
       "    </tr>\n",
       "    <tr>\n",
       "      <th>199</th>\n",
       "      <td>NaN</td>\n",
       "      <td>AVINOC</td>\n",
       "      <td>200.0</td>\n",
       "      <td>NaN</td>\n",
       "      <td>0.45360</td>\n",
       "      <td>1.765466e+08</td>\n",
       "      <td>2108928</td>\n",
       "    </tr>\n",
       "  </tbody>\n",
       "</table>\n",
       "<p>200 rows × 7 columns</p>\n",
       "</div>"
      ],
      "text/plain": [
       "     Rank    Name   Rank Name        Price    Market Cap  Volume(24h)\n",
       "0     NaN     BTC    1.0  NaN  35678.42000  6.778563e+11  40964636287\n",
       "1     NaN     ETH    2.0  NaN   2446.41000  2.928334e+11  24419180925\n",
       "2     NaN    USDT    3.0  NaN      1.00000  7.954243e+10  95053917880\n",
       "3     NaN     BNB    4.0  NaN    342.04000  5.658012e+10   2611265562\n",
       "4     NaN    USDC    5.0  NaN      1.00000  5.305233e+10   7404386033\n",
       "..    ...     ...    ...  ...          ...           ...          ...\n",
       "195   NaN    MBOX  196.0  NaN      2.33000  1.864749e+08     81929802\n",
       "196   NaN     FET  197.0  NaN      0.24500  1.832759e+08     31420190\n",
       "197   NaN     ACH  198.0  NaN      0.04422  1.799899e+08     63649526\n",
       "198   NaN     MDX  199.0  NaN      0.20760  1.784649e+08     11346026\n",
       "199   NaN  AVINOC  200.0  NaN      0.45360  1.765466e+08      2108928\n",
       "\n",
       "[200 rows x 7 columns]"
      ]
     },
     "execution_count": 66,
     "metadata": {},
     "output_type": "execute_result"
    }
   ],
   "source": [
    "new_df = pd.concat([crypto_names, values_df], axis= 1)\n",
    "new_df"
   ]
  },
  {
   "cell_type": "code",
   "execution_count": 67,
   "metadata": {
    "colab": {
     "base_uri": "https://localhost:8080/",
     "height": 424
    },
    "executionInfo": {
     "elapsed": 20,
     "status": "ok",
     "timestamp": 1646149154577,
     "user": {
      "displayName": "Raquel Ordonez",
      "photoUrl": "https://lh3.googleusercontent.com/a/default-user=s64",
      "userId": "13837430071386580170"
     },
     "user_tz": -60
    },
    "id": "cNoa4UUUYgC5",
    "outputId": "0d3bbe63-4d10-4acd-8f4b-4bd1cee9b474"
   },
   "outputs": [
    {
     "data": {
      "text/html": [
       "<div>\n",
       "<style scoped>\n",
       "    .dataframe tbody tr th:only-of-type {\n",
       "        vertical-align: middle;\n",
       "    }\n",
       "\n",
       "    .dataframe tbody tr th {\n",
       "        vertical-align: top;\n",
       "    }\n",
       "\n",
       "    .dataframe thead th {\n",
       "        text-align: right;\n",
       "    }\n",
       "</style>\n",
       "<table border=\"1\" class=\"dataframe\">\n",
       "  <thead>\n",
       "    <tr style=\"text-align: right;\">\n",
       "      <th></th>\n",
       "      <th>Name</th>\n",
       "      <th>Price</th>\n",
       "      <th>Market Cap</th>\n",
       "      <th>Volume(24h)</th>\n",
       "    </tr>\n",
       "  </thead>\n",
       "  <tbody>\n",
       "    <tr>\n",
       "      <th>0</th>\n",
       "      <td>BTC</td>\n",
       "      <td>35678.42000</td>\n",
       "      <td>6.778563e+11</td>\n",
       "      <td>40964636287</td>\n",
       "    </tr>\n",
       "    <tr>\n",
       "      <th>1</th>\n",
       "      <td>ETH</td>\n",
       "      <td>2446.41000</td>\n",
       "      <td>2.928334e+11</td>\n",
       "      <td>24419180925</td>\n",
       "    </tr>\n",
       "    <tr>\n",
       "      <th>2</th>\n",
       "      <td>USDT</td>\n",
       "      <td>1.00000</td>\n",
       "      <td>7.954243e+10</td>\n",
       "      <td>95053917880</td>\n",
       "    </tr>\n",
       "    <tr>\n",
       "      <th>3</th>\n",
       "      <td>BNB</td>\n",
       "      <td>342.04000</td>\n",
       "      <td>5.658012e+10</td>\n",
       "      <td>2611265562</td>\n",
       "    </tr>\n",
       "    <tr>\n",
       "      <th>4</th>\n",
       "      <td>USDC</td>\n",
       "      <td>1.00000</td>\n",
       "      <td>5.305233e+10</td>\n",
       "      <td>7404386033</td>\n",
       "    </tr>\n",
       "    <tr>\n",
       "      <th>...</th>\n",
       "      <td>...</td>\n",
       "      <td>...</td>\n",
       "      <td>...</td>\n",
       "      <td>...</td>\n",
       "    </tr>\n",
       "    <tr>\n",
       "      <th>195</th>\n",
       "      <td>MBOX</td>\n",
       "      <td>2.33000</td>\n",
       "      <td>1.864749e+08</td>\n",
       "      <td>81929802</td>\n",
       "    </tr>\n",
       "    <tr>\n",
       "      <th>196</th>\n",
       "      <td>FET</td>\n",
       "      <td>0.24500</td>\n",
       "      <td>1.832759e+08</td>\n",
       "      <td>31420190</td>\n",
       "    </tr>\n",
       "    <tr>\n",
       "      <th>197</th>\n",
       "      <td>ACH</td>\n",
       "      <td>0.04422</td>\n",
       "      <td>1.799899e+08</td>\n",
       "      <td>63649526</td>\n",
       "    </tr>\n",
       "    <tr>\n",
       "      <th>198</th>\n",
       "      <td>MDX</td>\n",
       "      <td>0.20760</td>\n",
       "      <td>1.784649e+08</td>\n",
       "      <td>11346026</td>\n",
       "    </tr>\n",
       "    <tr>\n",
       "      <th>199</th>\n",
       "      <td>AVINOC</td>\n",
       "      <td>0.45360</td>\n",
       "      <td>1.765466e+08</td>\n",
       "      <td>2108928</td>\n",
       "    </tr>\n",
       "  </tbody>\n",
       "</table>\n",
       "<p>200 rows × 4 columns</p>\n",
       "</div>"
      ],
      "text/plain": [
       "       Name        Price    Market Cap  Volume(24h)\n",
       "0       BTC  35678.42000  6.778563e+11  40964636287\n",
       "1       ETH   2446.41000  2.928334e+11  24419180925\n",
       "2      USDT      1.00000  7.954243e+10  95053917880\n",
       "3       BNB    342.04000  5.658012e+10   2611265562\n",
       "4      USDC      1.00000  5.305233e+10   7404386033\n",
       "..      ...          ...           ...          ...\n",
       "195    MBOX      2.33000  1.864749e+08     81929802\n",
       "196     FET      0.24500  1.832759e+08     31420190\n",
       "197     ACH      0.04422  1.799899e+08     63649526\n",
       "198     MDX      0.20760  1.784649e+08     11346026\n",
       "199  AVINOC      0.45360  1.765466e+08      2108928\n",
       "\n",
       "[200 rows x 4 columns]"
      ]
     },
     "execution_count": 67,
     "metadata": {},
     "output_type": "execute_result"
    }
   ],
   "source": [
    "pablo_df = new_df.iloc[:, [1,4,5,6] ]\n",
    "pablo_df"
   ]
  },
  {
   "cell_type": "code",
   "execution_count": 68,
   "metadata": {
    "colab": {
     "base_uri": "https://localhost:8080/"
    },
    "executionInfo": {
     "elapsed": 20,
     "status": "ok",
     "timestamp": 1646149154578,
     "user": {
      "displayName": "Raquel Ordonez",
      "photoUrl": "https://lh3.googleusercontent.com/a/default-user=s64",
      "userId": "13837430071386580170"
     },
     "user_tz": -60
    },
    "id": "eCOeJxSuZP1J",
    "outputId": "2610a55a-d6ae-4c47-aea7-e6f0fd60d2dc"
   },
   "outputs": [
    {
     "data": {
      "text/plain": [
       "Index(['Name', 'Price', 'Market Cap', 'Volume(24h)'], dtype='object')"
      ]
     },
     "execution_count": 68,
     "metadata": {},
     "output_type": "execute_result"
    }
   ],
   "source": [
    "pablo_df.columns"
   ]
  },
  {
   "cell_type": "code",
   "execution_count": 69,
   "metadata": {
    "colab": {
     "base_uri": "https://localhost:8080/"
    },
    "executionInfo": {
     "elapsed": 18,
     "status": "ok",
     "timestamp": 1646149154578,
     "user": {
      "displayName": "Raquel Ordonez",
      "photoUrl": "https://lh3.googleusercontent.com/a/default-user=s64",
      "userId": "13837430071386580170"
     },
     "user_tz": -60
    },
    "id": "Kans5wp6Zmt1",
    "outputId": "1d3591c5-68f6-479f-fd00-af2e1f59c625"
   },
   "outputs": [
    {
     "data": {
      "text/plain": [
       "Index(['name', 'price', 'market cap', 'volume(24h)'], dtype='object')"
      ]
     },
     "execution_count": 69,
     "metadata": {},
     "output_type": "execute_result"
    }
   ],
   "source": [
    "pablo_df.columns.str.lower()"
   ]
  },
  {
   "cell_type": "code",
   "execution_count": 70,
   "metadata": {
    "id": "LooS6WRXZyWL"
   },
   "outputs": [],
   "source": [
    "pablo_df.columns = pablo_df.columns.str.lower().str.replace(\" \", \"_\")"
   ]
  },
  {
   "cell_type": "code",
   "execution_count": 71,
   "metadata": {
    "colab": {
     "base_uri": "https://localhost:8080/"
    },
    "executionInfo": {
     "elapsed": 16,
     "status": "ok",
     "timestamp": 1646149154579,
     "user": {
      "displayName": "Raquel Ordonez",
      "photoUrl": "https://lh3.googleusercontent.com/a/default-user=s64",
      "userId": "13837430071386580170"
     },
     "user_tz": -60
    },
    "id": "IPs0SB8NaEYC",
    "outputId": "bb5e67a6-9143-4ef9-9bcc-f9bdc421db39"
   },
   "outputs": [
    {
     "data": {
      "text/plain": [
       "Index(['name', 'price', 'market_cap', 'volume(24h)'], dtype='object')"
      ]
     },
     "execution_count": 71,
     "metadata": {},
     "output_type": "execute_result"
    }
   ],
   "source": [
    "pablo_df.columns"
   ]
  },
  {
   "cell_type": "code",
   "execution_count": 72,
   "metadata": {
    "id": "l5jctxcwa3IN"
   },
   "outputs": [],
   "source": [
    "final_df = pablo_df.rename(columns= {\"volume(24h)\": \"daily_trading_volume\"})"
   ]
  },
  {
   "cell_type": "code",
   "execution_count": 73,
   "metadata": {
    "id": "5xLbdiScbJig"
   },
   "outputs": [],
   "source": [
    "final_df.to_csv(\"datasets/clean_crypto_list.csv\")"
   ]
  },
  {
   "cell_type": "code",
   "execution_count": null,
   "metadata": {
    "id": "0cfc8XkjdVnF"
   },
   "outputs": [],
   "source": [
    " "
   ]
  },
  {
   "cell_type": "code",
   "execution_count": 74,
   "metadata": {
    "colab": {
     "base_uri": "https://localhost:8080/",
     "height": 424
    },
    "executionInfo": {
     "elapsed": 1730,
     "status": "ok",
     "timestamp": 1646212355275,
     "user": {
      "displayName": "Melvin Villafane",
      "photoUrl": "https://lh3.googleusercontent.com/a/default-user=s64",
      "userId": "02025715377408414002"
     },
     "user_tz": -60
    },
    "id": "3tuubFUQbjrp",
    "outputId": "66c29bd4-6966-44f3-e825-2f11fc24669b"
   },
   "outputs": [
    {
     "data": {
      "text/html": [
       "<div>\n",
       "<style scoped>\n",
       "    .dataframe tbody tr th:only-of-type {\n",
       "        vertical-align: middle;\n",
       "    }\n",
       "\n",
       "    .dataframe tbody tr th {\n",
       "        vertical-align: top;\n",
       "    }\n",
       "\n",
       "    .dataframe thead th {\n",
       "        text-align: right;\n",
       "    }\n",
       "</style>\n",
       "<table border=\"1\" class=\"dataframe\">\n",
       "  <thead>\n",
       "    <tr style=\"text-align: right;\">\n",
       "      <th></th>\n",
       "      <th>name</th>\n",
       "      <th>price</th>\n",
       "      <th>market_cap</th>\n",
       "      <th>daily_trading_volume</th>\n",
       "    </tr>\n",
       "  </thead>\n",
       "  <tbody>\n",
       "    <tr>\n",
       "      <th>0</th>\n",
       "      <td>BTC</td>\n",
       "      <td>35678.42000</td>\n",
       "      <td>6.778563e+11</td>\n",
       "      <td>40964636287</td>\n",
       "    </tr>\n",
       "    <tr>\n",
       "      <th>1</th>\n",
       "      <td>ETH</td>\n",
       "      <td>2446.41000</td>\n",
       "      <td>2.928334e+11</td>\n",
       "      <td>24419180925</td>\n",
       "    </tr>\n",
       "    <tr>\n",
       "      <th>2</th>\n",
       "      <td>USDT</td>\n",
       "      <td>1.00000</td>\n",
       "      <td>7.954243e+10</td>\n",
       "      <td>95053917880</td>\n",
       "    </tr>\n",
       "    <tr>\n",
       "      <th>3</th>\n",
       "      <td>BNB</td>\n",
       "      <td>342.04000</td>\n",
       "      <td>5.658012e+10</td>\n",
       "      <td>2611265562</td>\n",
       "    </tr>\n",
       "    <tr>\n",
       "      <th>4</th>\n",
       "      <td>USDC</td>\n",
       "      <td>1.00000</td>\n",
       "      <td>5.305233e+10</td>\n",
       "      <td>7404386033</td>\n",
       "    </tr>\n",
       "    <tr>\n",
       "      <th>...</th>\n",
       "      <td>...</td>\n",
       "      <td>...</td>\n",
       "      <td>...</td>\n",
       "      <td>...</td>\n",
       "    </tr>\n",
       "    <tr>\n",
       "      <th>195</th>\n",
       "      <td>MBOX</td>\n",
       "      <td>2.33000</td>\n",
       "      <td>1.864749e+08</td>\n",
       "      <td>81929802</td>\n",
       "    </tr>\n",
       "    <tr>\n",
       "      <th>196</th>\n",
       "      <td>FET</td>\n",
       "      <td>0.24500</td>\n",
       "      <td>1.832759e+08</td>\n",
       "      <td>31420190</td>\n",
       "    </tr>\n",
       "    <tr>\n",
       "      <th>197</th>\n",
       "      <td>ACH</td>\n",
       "      <td>0.04422</td>\n",
       "      <td>1.799899e+08</td>\n",
       "      <td>63649526</td>\n",
       "    </tr>\n",
       "    <tr>\n",
       "      <th>198</th>\n",
       "      <td>MDX</td>\n",
       "      <td>0.20760</td>\n",
       "      <td>1.784649e+08</td>\n",
       "      <td>11346026</td>\n",
       "    </tr>\n",
       "    <tr>\n",
       "      <th>199</th>\n",
       "      <td>AVINOC</td>\n",
       "      <td>0.45360</td>\n",
       "      <td>1.765466e+08</td>\n",
       "      <td>2108928</td>\n",
       "    </tr>\n",
       "  </tbody>\n",
       "</table>\n",
       "<p>200 rows × 4 columns</p>\n",
       "</div>"
      ],
      "text/plain": [
       "       name        price    market_cap  daily_trading_volume\n",
       "0       BTC  35678.42000  6.778563e+11           40964636287\n",
       "1       ETH   2446.41000  2.928334e+11           24419180925\n",
       "2      USDT      1.00000  7.954243e+10           95053917880\n",
       "3       BNB    342.04000  5.658012e+10            2611265562\n",
       "4      USDC      1.00000  5.305233e+10            7404386033\n",
       "..      ...          ...           ...                   ...\n",
       "195    MBOX      2.33000  1.864749e+08              81929802\n",
       "196     FET      0.24500  1.832759e+08              31420190\n",
       "197     ACH      0.04422  1.799899e+08              63649526\n",
       "198     MDX      0.20760  1.784649e+08              11346026\n",
       "199  AVINOC      0.45360  1.765466e+08               2108928\n",
       "\n",
       "[200 rows x 4 columns]"
      ]
     },
     "execution_count": 74,
     "metadata": {},
     "output_type": "execute_result"
    }
   ],
   "source": [
    "crypto_list_top_200 = pd.read_csv('datasets/clean_crypto_list.csv', index_col=0)\n",
    "#top200_df.index = pd.to_datetime(top200_df.index)\n",
    "crypto_list_top_200"
   ]
  },
  {
   "cell_type": "code",
   "execution_count": null,
   "metadata": {
    "id": "TsHnA6aUcUot"
   },
   "outputs": [],
   "source": []
  },
  {
   "cell_type": "markdown",
   "metadata": {
    "id": "tRto6xjtdu_L"
   },
   "source": [
    "NOW WE CAN DO THE FILTER FOR THE TOP 25TH PERCENTILE BASED ON DAILY TRADING VOLUME"
   ]
  },
  {
   "cell_type": "code",
   "execution_count": 75,
   "metadata": {
    "id": "b0Vzw8LSd1It"
   },
   "outputs": [],
   "source": [
    " dtv_threshold  =crypto_list_top_200.quantile(0.75)[\"daily_trading_volume\"]"
   ]
  },
  {
   "cell_type": "code",
   "execution_count": 76,
   "metadata": {
    "colab": {
     "base_uri": "https://localhost:8080/"
    },
    "executionInfo": {
     "elapsed": 4,
     "status": "ok",
     "timestamp": 1646212360057,
     "user": {
      "displayName": "Melvin Villafane",
      "photoUrl": "https://lh3.googleusercontent.com/a/default-user=s64",
      "userId": "02025715377408414002"
     },
     "user_tz": -60
    },
    "id": "oIjNaeNmhWVc",
    "outputId": "4cff8a25-57c3-47ee-eb64-3949202485c8"
   },
   "outputs": [
    {
     "data": {
      "text/plain": [
       "0       True\n",
       "1       True\n",
       "2       True\n",
       "3       True\n",
       "4       True\n",
       "       ...  \n",
       "195    False\n",
       "196    False\n",
       "197    False\n",
       "198    False\n",
       "199    False\n",
       "Name: daily_trading_volume, Length: 200, dtype: bool"
      ]
     },
     "execution_count": 76,
     "metadata": {},
     "output_type": "execute_result"
    }
   ],
   "source": [
    "crypto_list_top_200[\"daily_trading_volume\"] > dtv_threshold"
   ]
  },
  {
   "cell_type": "code",
   "execution_count": 77,
   "metadata": {
    "colab": {
     "base_uri": "https://localhost:8080/",
     "height": 1000
    },
    "executionInfo": {
     "elapsed": 430,
     "status": "ok",
     "timestamp": 1646212368348,
     "user": {
      "displayName": "Melvin Villafane",
      "photoUrl": "https://lh3.googleusercontent.com/a/default-user=s64",
      "userId": "02025715377408414002"
     },
     "user_tz": -60
    },
    "id": "Bdftkw6SeDWB",
    "outputId": "5b0a2ddd-26b8-4a4a-fbc6-1d6f7ccadc00"
   },
   "outputs": [
    {
     "data": {
      "text/html": [
       "<div>\n",
       "<style scoped>\n",
       "    .dataframe tbody tr th:only-of-type {\n",
       "        vertical-align: middle;\n",
       "    }\n",
       "\n",
       "    .dataframe tbody tr th {\n",
       "        vertical-align: top;\n",
       "    }\n",
       "\n",
       "    .dataframe thead th {\n",
       "        text-align: right;\n",
       "    }\n",
       "</style>\n",
       "<table border=\"1\" class=\"dataframe\">\n",
       "  <thead>\n",
       "    <tr style=\"text-align: right;\">\n",
       "      <th></th>\n",
       "      <th>name</th>\n",
       "      <th>price</th>\n",
       "      <th>market_cap</th>\n",
       "      <th>daily_trading_volume</th>\n",
       "    </tr>\n",
       "  </thead>\n",
       "  <tbody>\n",
       "    <tr>\n",
       "      <th>0</th>\n",
       "      <td>BTC</td>\n",
       "      <td>35678.420000</td>\n",
       "      <td>6.778563e+11</td>\n",
       "      <td>40964636287</td>\n",
       "    </tr>\n",
       "    <tr>\n",
       "      <th>1</th>\n",
       "      <td>ETH</td>\n",
       "      <td>2446.410000</td>\n",
       "      <td>2.928334e+11</td>\n",
       "      <td>24419180925</td>\n",
       "    </tr>\n",
       "    <tr>\n",
       "      <th>2</th>\n",
       "      <td>USDT</td>\n",
       "      <td>1.000000</td>\n",
       "      <td>7.954243e+10</td>\n",
       "      <td>95053917880</td>\n",
       "    </tr>\n",
       "    <tr>\n",
       "      <th>3</th>\n",
       "      <td>BNB</td>\n",
       "      <td>342.040000</td>\n",
       "      <td>5.658012e+10</td>\n",
       "      <td>2611265562</td>\n",
       "    </tr>\n",
       "    <tr>\n",
       "      <th>4</th>\n",
       "      <td>USDC</td>\n",
       "      <td>1.000000</td>\n",
       "      <td>5.305233e+10</td>\n",
       "      <td>7404386033</td>\n",
       "    </tr>\n",
       "    <tr>\n",
       "      <th>5</th>\n",
       "      <td>XRP</td>\n",
       "      <td>0.647000</td>\n",
       "      <td>3.108629e+10</td>\n",
       "      <td>4300113951</td>\n",
       "    </tr>\n",
       "    <tr>\n",
       "      <th>6</th>\n",
       "      <td>SOL</td>\n",
       "      <td>84.250000</td>\n",
       "      <td>2.706960e+10</td>\n",
       "      <td>4305710775</td>\n",
       "    </tr>\n",
       "    <tr>\n",
       "      <th>7</th>\n",
       "      <td>ADA</td>\n",
       "      <td>0.797100</td>\n",
       "      <td>2.690567e+10</td>\n",
       "      <td>3179807660</td>\n",
       "    </tr>\n",
       "    <tr>\n",
       "      <th>8</th>\n",
       "      <td>LUNA</td>\n",
       "      <td>56.690000</td>\n",
       "      <td>2.174330e+10</td>\n",
       "      <td>5169176737</td>\n",
       "    </tr>\n",
       "    <tr>\n",
       "      <th>9</th>\n",
       "      <td>BUSD</td>\n",
       "      <td>1.000000</td>\n",
       "      <td>1.832483e+10</td>\n",
       "      <td>7576501858</td>\n",
       "    </tr>\n",
       "    <tr>\n",
       "      <th>10</th>\n",
       "      <td>AVAX</td>\n",
       "      <td>70.330000</td>\n",
       "      <td>1.728299e+10</td>\n",
       "      <td>2558888071</td>\n",
       "    </tr>\n",
       "    <tr>\n",
       "      <th>11</th>\n",
       "      <td>DOGE</td>\n",
       "      <td>0.116600</td>\n",
       "      <td>1.546996e+10</td>\n",
       "      <td>1655990358</td>\n",
       "    </tr>\n",
       "    <tr>\n",
       "      <th>12</th>\n",
       "      <td>DOT</td>\n",
       "      <td>15.340000</td>\n",
       "      <td>1.515754e+10</td>\n",
       "      <td>2076032710</td>\n",
       "    </tr>\n",
       "    <tr>\n",
       "      <th>13</th>\n",
       "      <td>UST</td>\n",
       "      <td>1.010000</td>\n",
       "      <td>1.250567e+10</td>\n",
       "      <td>719961178</td>\n",
       "    </tr>\n",
       "    <tr>\n",
       "      <th>14</th>\n",
       "      <td>SHIB</td>\n",
       "      <td>0.000022</td>\n",
       "      <td>1.235115e+10</td>\n",
       "      <td>2652337318</td>\n",
       "    </tr>\n",
       "    <tr>\n",
       "      <th>15</th>\n",
       "      <td>MATIC</td>\n",
       "      <td>1.340000</td>\n",
       "      <td>1.009026e+10</td>\n",
       "      <td>2329266200</td>\n",
       "    </tr>\n",
       "    <tr>\n",
       "      <th>16</th>\n",
       "      <td>DAI</td>\n",
       "      <td>1.000000</td>\n",
       "      <td>1.004935e+10</td>\n",
       "      <td>561564159</td>\n",
       "    </tr>\n",
       "    <tr>\n",
       "      <th>17</th>\n",
       "      <td>WBTC</td>\n",
       "      <td>35779.620000</td>\n",
       "      <td>9.418349e+09</td>\n",
       "      <td>322584018</td>\n",
       "    </tr>\n",
       "    <tr>\n",
       "      <th>18</th>\n",
       "      <td>LTC</td>\n",
       "      <td>97.290000</td>\n",
       "      <td>6.781951e+09</td>\n",
       "      <td>1378346906</td>\n",
       "    </tr>\n",
       "    <tr>\n",
       "      <th>19</th>\n",
       "      <td>ATOM</td>\n",
       "      <td>23.030000</td>\n",
       "      <td>6.599627e+09</td>\n",
       "      <td>1247750159</td>\n",
       "    </tr>\n",
       "    <tr>\n",
       "      <th>20</th>\n",
       "      <td>TRX</td>\n",
       "      <td>0.058790</td>\n",
       "      <td>5.984051e+09</td>\n",
       "      <td>1213510734</td>\n",
       "    </tr>\n",
       "    <tr>\n",
       "      <th>21</th>\n",
       "      <td>LINK</td>\n",
       "      <td>12.190000</td>\n",
       "      <td>5.690836e+09</td>\n",
       "      <td>1324400604</td>\n",
       "    </tr>\n",
       "    <tr>\n",
       "      <th>22</th>\n",
       "      <td>UNI</td>\n",
       "      <td>8.220000</td>\n",
       "      <td>5.200881e+09</td>\n",
       "      <td>368074117</td>\n",
       "    </tr>\n",
       "    <tr>\n",
       "      <th>23</th>\n",
       "      <td>BCH</td>\n",
       "      <td>271.980000</td>\n",
       "      <td>5.165378e+09</td>\n",
       "      <td>4354412754</td>\n",
       "    </tr>\n",
       "    <tr>\n",
       "      <th>24</th>\n",
       "      <td>NEAR</td>\n",
       "      <td>7.960000</td>\n",
       "      <td>5.093901e+09</td>\n",
       "      <td>653075020</td>\n",
       "    </tr>\n",
       "    <tr>\n",
       "      <th>25</th>\n",
       "      <td>ALGO</td>\n",
       "      <td>0.742200</td>\n",
       "      <td>4.912367e+09</td>\n",
       "      <td>383015464</td>\n",
       "    </tr>\n",
       "    <tr>\n",
       "      <th>26</th>\n",
       "      <td>MANA</td>\n",
       "      <td>2.390000</td>\n",
       "      <td>4.373573e+09</td>\n",
       "      <td>1439257625</td>\n",
       "    </tr>\n",
       "    <tr>\n",
       "      <th>27</th>\n",
       "      <td>XLM</td>\n",
       "      <td>0.171700</td>\n",
       "      <td>4.280057e+09</td>\n",
       "      <td>501981989</td>\n",
       "    </tr>\n",
       "    <tr>\n",
       "      <th>28</th>\n",
       "      <td>FTM</td>\n",
       "      <td>1.390000</td>\n",
       "      <td>3.544978e+09</td>\n",
       "      <td>1460379585</td>\n",
       "    </tr>\n",
       "    <tr>\n",
       "      <th>29</th>\n",
       "      <td>ETC</td>\n",
       "      <td>24.540000</td>\n",
       "      <td>3.268073e+09</td>\n",
       "      <td>653424108</td>\n",
       "    </tr>\n",
       "    <tr>\n",
       "      <th>30</th>\n",
       "      <td>ICP</td>\n",
       "      <td>15.740000</td>\n",
       "      <td>3.264201e+09</td>\n",
       "      <td>431704336</td>\n",
       "    </tr>\n",
       "    <tr>\n",
       "      <th>31</th>\n",
       "      <td>SAND</td>\n",
       "      <td>2.800000</td>\n",
       "      <td>3.045107e+09</td>\n",
       "      <td>1458120345</td>\n",
       "    </tr>\n",
       "    <tr>\n",
       "      <th>32</th>\n",
       "      <td>FIL</td>\n",
       "      <td>17.520000</td>\n",
       "      <td>2.941638e+09</td>\n",
       "      <td>555920636</td>\n",
       "    </tr>\n",
       "    <tr>\n",
       "      <th>33</th>\n",
       "      <td>EGLD</td>\n",
       "      <td>128.300000</td>\n",
       "      <td>2.765449e+09</td>\n",
       "      <td>374453166</td>\n",
       "    </tr>\n",
       "    <tr>\n",
       "      <th>34</th>\n",
       "      <td>AXS</td>\n",
       "      <td>44.350000</td>\n",
       "      <td>2.701029e+09</td>\n",
       "      <td>520123164</td>\n",
       "    </tr>\n",
       "    <tr>\n",
       "      <th>35</th>\n",
       "      <td>VET</td>\n",
       "      <td>0.041600</td>\n",
       "      <td>2.675792e+09</td>\n",
       "      <td>488079031</td>\n",
       "    </tr>\n",
       "    <tr>\n",
       "      <th>36</th>\n",
       "      <td>THETA</td>\n",
       "      <td>2.430000</td>\n",
       "      <td>2.430892e+09</td>\n",
       "      <td>401873854</td>\n",
       "    </tr>\n",
       "    <tr>\n",
       "      <th>37</th>\n",
       "      <td>EOS</td>\n",
       "      <td>1.950000</td>\n",
       "      <td>1.913893e+09</td>\n",
       "      <td>598498073</td>\n",
       "    </tr>\n",
       "    <tr>\n",
       "      <th>38</th>\n",
       "      <td>AAVE</td>\n",
       "      <td>119.700000</td>\n",
       "      <td>1.630538e+09</td>\n",
       "      <td>257544076</td>\n",
       "    </tr>\n",
       "    <tr>\n",
       "      <th>39</th>\n",
       "      <td>GALA</td>\n",
       "      <td>0.207800</td>\n",
       "      <td>1.449753e+09</td>\n",
       "      <td>1731294464</td>\n",
       "    </tr>\n",
       "    <tr>\n",
       "      <th>40</th>\n",
       "      <td>NEO</td>\n",
       "      <td>18.320000</td>\n",
       "      <td>1.292291e+09</td>\n",
       "      <td>277661226</td>\n",
       "    </tr>\n",
       "    <tr>\n",
       "      <th>41</th>\n",
       "      <td>ZEC</td>\n",
       "      <td>92.630000</td>\n",
       "      <td>1.279717e+09</td>\n",
       "      <td>267709007</td>\n",
       "    </tr>\n",
       "    <tr>\n",
       "      <th>42</th>\n",
       "      <td>ENJ</td>\n",
       "      <td>1.240000</td>\n",
       "      <td>1.071139e+09</td>\n",
       "      <td>357967442</td>\n",
       "    </tr>\n",
       "    <tr>\n",
       "      <th>43</th>\n",
       "      <td>OKB</td>\n",
       "      <td>16.260000</td>\n",
       "      <td>9.754570e+08</td>\n",
       "      <td>349452008</td>\n",
       "    </tr>\n",
       "    <tr>\n",
       "      <th>44</th>\n",
       "      <td>WAVES</td>\n",
       "      <td>8.670000</td>\n",
       "      <td>9.328595e+08</td>\n",
       "      <td>332251985</td>\n",
       "    </tr>\n",
       "    <tr>\n",
       "      <th>45</th>\n",
       "      <td>CRV</td>\n",
       "      <td>2.040000</td>\n",
       "      <td>9.188392e+08</td>\n",
       "      <td>449883065</td>\n",
       "    </tr>\n",
       "    <tr>\n",
       "      <th>46</th>\n",
       "      <td>LRC</td>\n",
       "      <td>0.679200</td>\n",
       "      <td>9.030242e+08</td>\n",
       "      <td>313187835</td>\n",
       "    </tr>\n",
       "    <tr>\n",
       "      <th>47</th>\n",
       "      <td>ROSE</td>\n",
       "      <td>0.193500</td>\n",
       "      <td>6.758624e+08</td>\n",
       "      <td>260132656</td>\n",
       "    </tr>\n",
       "    <tr>\n",
       "      <th>48</th>\n",
       "      <td>API3</td>\n",
       "      <td>6.270000</td>\n",
       "      <td>2.314901e+08</td>\n",
       "      <td>309708981</td>\n",
       "    </tr>\n",
       "    <tr>\n",
       "      <th>49</th>\n",
       "      <td>ALICE</td>\n",
       "      <td>6.360000</td>\n",
       "      <td>1.944875e+08</td>\n",
       "      <td>548664193</td>\n",
       "    </tr>\n",
       "  </tbody>\n",
       "</table>\n",
       "</div>"
      ],
      "text/plain": [
       "     name         price    market_cap  daily_trading_volume\n",
       "0     BTC  35678.420000  6.778563e+11           40964636287\n",
       "1     ETH   2446.410000  2.928334e+11           24419180925\n",
       "2    USDT      1.000000  7.954243e+10           95053917880\n",
       "3     BNB    342.040000  5.658012e+10            2611265562\n",
       "4    USDC      1.000000  5.305233e+10            7404386033\n",
       "5     XRP      0.647000  3.108629e+10            4300113951\n",
       "6     SOL     84.250000  2.706960e+10            4305710775\n",
       "7     ADA      0.797100  2.690567e+10            3179807660\n",
       "8    LUNA     56.690000  2.174330e+10            5169176737\n",
       "9    BUSD      1.000000  1.832483e+10            7576501858\n",
       "10   AVAX     70.330000  1.728299e+10            2558888071\n",
       "11   DOGE      0.116600  1.546996e+10            1655990358\n",
       "12    DOT     15.340000  1.515754e+10            2076032710\n",
       "13    UST      1.010000  1.250567e+10             719961178\n",
       "14   SHIB      0.000022  1.235115e+10            2652337318\n",
       "15  MATIC      1.340000  1.009026e+10            2329266200\n",
       "16    DAI      1.000000  1.004935e+10             561564159\n",
       "17   WBTC  35779.620000  9.418349e+09             322584018\n",
       "18    LTC     97.290000  6.781951e+09            1378346906\n",
       "19   ATOM     23.030000  6.599627e+09            1247750159\n",
       "20    TRX      0.058790  5.984051e+09            1213510734\n",
       "21   LINK     12.190000  5.690836e+09            1324400604\n",
       "22    UNI      8.220000  5.200881e+09             368074117\n",
       "23    BCH    271.980000  5.165378e+09            4354412754\n",
       "24   NEAR      7.960000  5.093901e+09             653075020\n",
       "25   ALGO      0.742200  4.912367e+09             383015464\n",
       "26   MANA      2.390000  4.373573e+09            1439257625\n",
       "27    XLM      0.171700  4.280057e+09             501981989\n",
       "28    FTM      1.390000  3.544978e+09            1460379585\n",
       "29    ETC     24.540000  3.268073e+09             653424108\n",
       "30    ICP     15.740000  3.264201e+09             431704336\n",
       "31   SAND      2.800000  3.045107e+09            1458120345\n",
       "32    FIL     17.520000  2.941638e+09             555920636\n",
       "33   EGLD    128.300000  2.765449e+09             374453166\n",
       "34    AXS     44.350000  2.701029e+09             520123164\n",
       "35    VET      0.041600  2.675792e+09             488079031\n",
       "36  THETA      2.430000  2.430892e+09             401873854\n",
       "37    EOS      1.950000  1.913893e+09             598498073\n",
       "38   AAVE    119.700000  1.630538e+09             257544076\n",
       "39   GALA      0.207800  1.449753e+09            1731294464\n",
       "40    NEO     18.320000  1.292291e+09             277661226\n",
       "41    ZEC     92.630000  1.279717e+09             267709007\n",
       "42    ENJ      1.240000  1.071139e+09             357967442\n",
       "43    OKB     16.260000  9.754570e+08             349452008\n",
       "44  WAVES      8.670000  9.328595e+08             332251985\n",
       "45    CRV      2.040000  9.188392e+08             449883065\n",
       "46    LRC      0.679200  9.030242e+08             313187835\n",
       "47   ROSE      0.193500  6.758624e+08             260132656\n",
       "48   API3      6.270000  2.314901e+08             309708981\n",
       "49  ALICE      6.360000  1.944875e+08             548664193"
      ]
     },
     "execution_count": 77,
     "metadata": {},
     "output_type": "execute_result"
    }
   ],
   "source": [
    "filtered_df = crypto_list_top_200[crypto_list_top_200[\"daily_trading_volume\"] > dtv_threshold].reset_index(drop = True)\n",
    "filtered_df"
   ]
  },
  {
   "cell_type": "code",
   "execution_count": 78,
   "metadata": {
    "colab": {
     "base_uri": "https://localhost:8080/"
    },
    "executionInfo": {
     "elapsed": 4,
     "status": "ok",
     "timestamp": 1646162804860,
     "user": {
      "displayName": "Melvin Villafane",
      "photoUrl": "https://lh3.googleusercontent.com/a/default-user=s64",
      "userId": "02025715377408414002"
     },
     "user_tz": -60
    },
    "id": "rwwfY53qesn6",
    "outputId": "a2a764fd-c898-4bb1-d191-aed3fefeabab"
   },
   "outputs": [
    {
     "data": {
      "text/plain": [
       "(50, 4)"
      ]
     },
     "execution_count": 78,
     "metadata": {},
     "output_type": "execute_result"
    }
   ],
   "source": [
    "filtered_df.shape"
   ]
  },
  {
   "cell_type": "code",
   "execution_count": 79,
   "metadata": {
    "id": "WunGlhVykatK"
   },
   "outputs": [],
   "source": [
    "stock_names = filtered_df.name + \"-USD\"\n",
    "import datetime"
   ]
  },
  {
   "cell_type": "code",
   "execution_count": 80,
   "metadata": {
    "colab": {
     "base_uri": "https://localhost:8080/"
    },
    "executionInfo": {
     "elapsed": 3,
     "status": "ok",
     "timestamp": 1646213035399,
     "user": {
      "displayName": "Melvin Villafane",
      "photoUrl": "https://lh3.googleusercontent.com/a/default-user=s64",
      "userId": "02025715377408414002"
     },
     "user_tz": -60
    },
    "id": "HLlcKI3I7zV7",
    "outputId": "b3c9ae46-b8ba-4df9-b953-f509def3ba62"
   },
   "outputs": [
    {
     "data": {
      "text/plain": [
       "0       BTC-USD\n",
       "1       ETH-USD\n",
       "2      USDT-USD\n",
       "3       BNB-USD\n",
       "4      USDC-USD\n",
       "5       XRP-USD\n",
       "6       SOL-USD\n",
       "7       ADA-USD\n",
       "8      LUNA-USD\n",
       "9      BUSD-USD\n",
       "10     AVAX-USD\n",
       "11     DOGE-USD\n",
       "12      DOT-USD\n",
       "13      UST-USD\n",
       "14     SHIB-USD\n",
       "15    MATIC-USD\n",
       "16      DAI-USD\n",
       "17     WBTC-USD\n",
       "18      LTC-USD\n",
       "19     ATOM-USD\n",
       "20      TRX-USD\n",
       "21     LINK-USD\n",
       "22      UNI-USD\n",
       "23      BCH-USD\n",
       "24     NEAR-USD\n",
       "25     ALGO-USD\n",
       "26     MANA-USD\n",
       "27      XLM-USD\n",
       "28      FTM-USD\n",
       "29      ETC-USD\n",
       "30      ICP-USD\n",
       "31     SAND-USD\n",
       "32      FIL-USD\n",
       "33     EGLD-USD\n",
       "34      AXS-USD\n",
       "35      VET-USD\n",
       "36    THETA-USD\n",
       "37      EOS-USD\n",
       "38     AAVE-USD\n",
       "39     GALA-USD\n",
       "40      NEO-USD\n",
       "41      ZEC-USD\n",
       "42      ENJ-USD\n",
       "43      OKB-USD\n",
       "44    WAVES-USD\n",
       "45      CRV-USD\n",
       "46      LRC-USD\n",
       "47     ROSE-USD\n",
       "48     API3-USD\n",
       "49    ALICE-USD\n",
       "Name: name, dtype: object"
      ]
     },
     "execution_count": 80,
     "metadata": {},
     "output_type": "execute_result"
    }
   ],
   "source": [
    "filtered_df.name + \"-USD\""
   ]
  },
  {
   "cell_type": "code",
   "execution_count": 81,
   "metadata": {
    "colab": {
     "base_uri": "https://localhost:8080/",
     "height": 1000
    },
    "executionInfo": {
     "elapsed": 570,
     "status": "ok",
     "timestamp": 1646213116578,
     "user": {
      "displayName": "Melvin Villafane",
      "photoUrl": "https://lh3.googleusercontent.com/a/default-user=s64",
      "userId": "02025715377408414002"
     },
     "user_tz": -60
    },
    "id": "3l1rqk9m8YXJ",
    "outputId": "6c56de73-9e6b-4133-8476-3f62fcf1eced"
   },
   "outputs": [
    {
     "data": {
      "text/html": [
       "<div>\n",
       "<style scoped>\n",
       "    .dataframe tbody tr th:only-of-type {\n",
       "        vertical-align: middle;\n",
       "    }\n",
       "\n",
       "    .dataframe tbody tr th {\n",
       "        vertical-align: top;\n",
       "    }\n",
       "\n",
       "    .dataframe thead th {\n",
       "        text-align: right;\n",
       "    }\n",
       "</style>\n",
       "<table border=\"1\" class=\"dataframe\">\n",
       "  <thead>\n",
       "    <tr style=\"text-align: right;\">\n",
       "      <th></th>\n",
       "      <th>name</th>\n",
       "      <th>price</th>\n",
       "      <th>market_cap</th>\n",
       "      <th>daily_trading_volume</th>\n",
       "    </tr>\n",
       "  </thead>\n",
       "  <tbody>\n",
       "    <tr>\n",
       "      <th>0</th>\n",
       "      <td>BTC</td>\n",
       "      <td>35678.420000</td>\n",
       "      <td>6.778563e+11</td>\n",
       "      <td>40964636287</td>\n",
       "    </tr>\n",
       "    <tr>\n",
       "      <th>1</th>\n",
       "      <td>ETH</td>\n",
       "      <td>2446.410000</td>\n",
       "      <td>2.928334e+11</td>\n",
       "      <td>24419180925</td>\n",
       "    </tr>\n",
       "    <tr>\n",
       "      <th>2</th>\n",
       "      <td>USDT</td>\n",
       "      <td>1.000000</td>\n",
       "      <td>7.954243e+10</td>\n",
       "      <td>95053917880</td>\n",
       "    </tr>\n",
       "    <tr>\n",
       "      <th>3</th>\n",
       "      <td>BNB</td>\n",
       "      <td>342.040000</td>\n",
       "      <td>5.658012e+10</td>\n",
       "      <td>2611265562</td>\n",
       "    </tr>\n",
       "    <tr>\n",
       "      <th>4</th>\n",
       "      <td>USDC</td>\n",
       "      <td>1.000000</td>\n",
       "      <td>5.305233e+10</td>\n",
       "      <td>7404386033</td>\n",
       "    </tr>\n",
       "    <tr>\n",
       "      <th>5</th>\n",
       "      <td>XRP</td>\n",
       "      <td>0.647000</td>\n",
       "      <td>3.108629e+10</td>\n",
       "      <td>4300113951</td>\n",
       "    </tr>\n",
       "    <tr>\n",
       "      <th>6</th>\n",
       "      <td>SOL</td>\n",
       "      <td>84.250000</td>\n",
       "      <td>2.706960e+10</td>\n",
       "      <td>4305710775</td>\n",
       "    </tr>\n",
       "    <tr>\n",
       "      <th>7</th>\n",
       "      <td>ADA</td>\n",
       "      <td>0.797100</td>\n",
       "      <td>2.690567e+10</td>\n",
       "      <td>3179807660</td>\n",
       "    </tr>\n",
       "    <tr>\n",
       "      <th>8</th>\n",
       "      <td>LUNA</td>\n",
       "      <td>56.690000</td>\n",
       "      <td>2.174330e+10</td>\n",
       "      <td>5169176737</td>\n",
       "    </tr>\n",
       "    <tr>\n",
       "      <th>9</th>\n",
       "      <td>BUSD</td>\n",
       "      <td>1.000000</td>\n",
       "      <td>1.832483e+10</td>\n",
       "      <td>7576501858</td>\n",
       "    </tr>\n",
       "    <tr>\n",
       "      <th>10</th>\n",
       "      <td>AVAX</td>\n",
       "      <td>70.330000</td>\n",
       "      <td>1.728299e+10</td>\n",
       "      <td>2558888071</td>\n",
       "    </tr>\n",
       "    <tr>\n",
       "      <th>11</th>\n",
       "      <td>DOGE</td>\n",
       "      <td>0.116600</td>\n",
       "      <td>1.546996e+10</td>\n",
       "      <td>1655990358</td>\n",
       "    </tr>\n",
       "    <tr>\n",
       "      <th>12</th>\n",
       "      <td>DOT</td>\n",
       "      <td>15.340000</td>\n",
       "      <td>1.515754e+10</td>\n",
       "      <td>2076032710</td>\n",
       "    </tr>\n",
       "    <tr>\n",
       "      <th>13</th>\n",
       "      <td>UST</td>\n",
       "      <td>1.010000</td>\n",
       "      <td>1.250567e+10</td>\n",
       "      <td>719961178</td>\n",
       "    </tr>\n",
       "    <tr>\n",
       "      <th>14</th>\n",
       "      <td>SHIB</td>\n",
       "      <td>0.000022</td>\n",
       "      <td>1.235115e+10</td>\n",
       "      <td>2652337318</td>\n",
       "    </tr>\n",
       "    <tr>\n",
       "      <th>15</th>\n",
       "      <td>MATIC</td>\n",
       "      <td>1.340000</td>\n",
       "      <td>1.009026e+10</td>\n",
       "      <td>2329266200</td>\n",
       "    </tr>\n",
       "    <tr>\n",
       "      <th>16</th>\n",
       "      <td>DAI</td>\n",
       "      <td>1.000000</td>\n",
       "      <td>1.004935e+10</td>\n",
       "      <td>561564159</td>\n",
       "    </tr>\n",
       "    <tr>\n",
       "      <th>17</th>\n",
       "      <td>WBTC</td>\n",
       "      <td>35779.620000</td>\n",
       "      <td>9.418349e+09</td>\n",
       "      <td>322584018</td>\n",
       "    </tr>\n",
       "    <tr>\n",
       "      <th>18</th>\n",
       "      <td>LTC</td>\n",
       "      <td>97.290000</td>\n",
       "      <td>6.781951e+09</td>\n",
       "      <td>1378346906</td>\n",
       "    </tr>\n",
       "    <tr>\n",
       "      <th>19</th>\n",
       "      <td>ATOM</td>\n",
       "      <td>23.030000</td>\n",
       "      <td>6.599627e+09</td>\n",
       "      <td>1247750159</td>\n",
       "    </tr>\n",
       "    <tr>\n",
       "      <th>20</th>\n",
       "      <td>TRX</td>\n",
       "      <td>0.058790</td>\n",
       "      <td>5.984051e+09</td>\n",
       "      <td>1213510734</td>\n",
       "    </tr>\n",
       "    <tr>\n",
       "      <th>21</th>\n",
       "      <td>LINK</td>\n",
       "      <td>12.190000</td>\n",
       "      <td>5.690836e+09</td>\n",
       "      <td>1324400604</td>\n",
       "    </tr>\n",
       "    <tr>\n",
       "      <th>22</th>\n",
       "      <td>UNI</td>\n",
       "      <td>8.220000</td>\n",
       "      <td>5.200881e+09</td>\n",
       "      <td>368074117</td>\n",
       "    </tr>\n",
       "    <tr>\n",
       "      <th>23</th>\n",
       "      <td>BCH</td>\n",
       "      <td>271.980000</td>\n",
       "      <td>5.165378e+09</td>\n",
       "      <td>4354412754</td>\n",
       "    </tr>\n",
       "    <tr>\n",
       "      <th>24</th>\n",
       "      <td>NEAR</td>\n",
       "      <td>7.960000</td>\n",
       "      <td>5.093901e+09</td>\n",
       "      <td>653075020</td>\n",
       "    </tr>\n",
       "    <tr>\n",
       "      <th>25</th>\n",
       "      <td>ALGO</td>\n",
       "      <td>0.742200</td>\n",
       "      <td>4.912367e+09</td>\n",
       "      <td>383015464</td>\n",
       "    </tr>\n",
       "    <tr>\n",
       "      <th>26</th>\n",
       "      <td>MANA</td>\n",
       "      <td>2.390000</td>\n",
       "      <td>4.373573e+09</td>\n",
       "      <td>1439257625</td>\n",
       "    </tr>\n",
       "    <tr>\n",
       "      <th>27</th>\n",
       "      <td>XLM</td>\n",
       "      <td>0.171700</td>\n",
       "      <td>4.280057e+09</td>\n",
       "      <td>501981989</td>\n",
       "    </tr>\n",
       "    <tr>\n",
       "      <th>28</th>\n",
       "      <td>FTM</td>\n",
       "      <td>1.390000</td>\n",
       "      <td>3.544978e+09</td>\n",
       "      <td>1460379585</td>\n",
       "    </tr>\n",
       "    <tr>\n",
       "      <th>29</th>\n",
       "      <td>ETC</td>\n",
       "      <td>24.540000</td>\n",
       "      <td>3.268073e+09</td>\n",
       "      <td>653424108</td>\n",
       "    </tr>\n",
       "    <tr>\n",
       "      <th>31</th>\n",
       "      <td>SAND</td>\n",
       "      <td>2.800000</td>\n",
       "      <td>3.045107e+09</td>\n",
       "      <td>1458120345</td>\n",
       "    </tr>\n",
       "    <tr>\n",
       "      <th>32</th>\n",
       "      <td>FIL</td>\n",
       "      <td>17.520000</td>\n",
       "      <td>2.941638e+09</td>\n",
       "      <td>555920636</td>\n",
       "    </tr>\n",
       "    <tr>\n",
       "      <th>33</th>\n",
       "      <td>EGLD</td>\n",
       "      <td>128.300000</td>\n",
       "      <td>2.765449e+09</td>\n",
       "      <td>374453166</td>\n",
       "    </tr>\n",
       "    <tr>\n",
       "      <th>34</th>\n",
       "      <td>AXS</td>\n",
       "      <td>44.350000</td>\n",
       "      <td>2.701029e+09</td>\n",
       "      <td>520123164</td>\n",
       "    </tr>\n",
       "    <tr>\n",
       "      <th>35</th>\n",
       "      <td>VET</td>\n",
       "      <td>0.041600</td>\n",
       "      <td>2.675792e+09</td>\n",
       "      <td>488079031</td>\n",
       "    </tr>\n",
       "    <tr>\n",
       "      <th>36</th>\n",
       "      <td>THETA</td>\n",
       "      <td>2.430000</td>\n",
       "      <td>2.430892e+09</td>\n",
       "      <td>401873854</td>\n",
       "    </tr>\n",
       "    <tr>\n",
       "      <th>37</th>\n",
       "      <td>EOS</td>\n",
       "      <td>1.950000</td>\n",
       "      <td>1.913893e+09</td>\n",
       "      <td>598498073</td>\n",
       "    </tr>\n",
       "    <tr>\n",
       "      <th>38</th>\n",
       "      <td>AAVE</td>\n",
       "      <td>119.700000</td>\n",
       "      <td>1.630538e+09</td>\n",
       "      <td>257544076</td>\n",
       "    </tr>\n",
       "    <tr>\n",
       "      <th>40</th>\n",
       "      <td>NEO</td>\n",
       "      <td>18.320000</td>\n",
       "      <td>1.292291e+09</td>\n",
       "      <td>277661226</td>\n",
       "    </tr>\n",
       "    <tr>\n",
       "      <th>41</th>\n",
       "      <td>ZEC</td>\n",
       "      <td>92.630000</td>\n",
       "      <td>1.279717e+09</td>\n",
       "      <td>267709007</td>\n",
       "    </tr>\n",
       "    <tr>\n",
       "      <th>42</th>\n",
       "      <td>ENJ</td>\n",
       "      <td>1.240000</td>\n",
       "      <td>1.071139e+09</td>\n",
       "      <td>357967442</td>\n",
       "    </tr>\n",
       "    <tr>\n",
       "      <th>43</th>\n",
       "      <td>OKB</td>\n",
       "      <td>16.260000</td>\n",
       "      <td>9.754570e+08</td>\n",
       "      <td>349452008</td>\n",
       "    </tr>\n",
       "    <tr>\n",
       "      <th>44</th>\n",
       "      <td>WAVES</td>\n",
       "      <td>8.670000</td>\n",
       "      <td>9.328595e+08</td>\n",
       "      <td>332251985</td>\n",
       "    </tr>\n",
       "    <tr>\n",
       "      <th>45</th>\n",
       "      <td>CRV</td>\n",
       "      <td>2.040000</td>\n",
       "      <td>9.188392e+08</td>\n",
       "      <td>449883065</td>\n",
       "    </tr>\n",
       "    <tr>\n",
       "      <th>46</th>\n",
       "      <td>LRC</td>\n",
       "      <td>0.679200</td>\n",
       "      <td>9.030242e+08</td>\n",
       "      <td>313187835</td>\n",
       "    </tr>\n",
       "    <tr>\n",
       "      <th>47</th>\n",
       "      <td>ROSE</td>\n",
       "      <td>0.193500</td>\n",
       "      <td>6.758624e+08</td>\n",
       "      <td>260132656</td>\n",
       "    </tr>\n",
       "    <tr>\n",
       "      <th>48</th>\n",
       "      <td>API3</td>\n",
       "      <td>6.270000</td>\n",
       "      <td>2.314901e+08</td>\n",
       "      <td>309708981</td>\n",
       "    </tr>\n",
       "    <tr>\n",
       "      <th>49</th>\n",
       "      <td>ALICE</td>\n",
       "      <td>6.360000</td>\n",
       "      <td>1.944875e+08</td>\n",
       "      <td>548664193</td>\n",
       "    </tr>\n",
       "  </tbody>\n",
       "</table>\n",
       "</div>"
      ],
      "text/plain": [
       "     name         price    market_cap  daily_trading_volume\n",
       "0     BTC  35678.420000  6.778563e+11           40964636287\n",
       "1     ETH   2446.410000  2.928334e+11           24419180925\n",
       "2    USDT      1.000000  7.954243e+10           95053917880\n",
       "3     BNB    342.040000  5.658012e+10            2611265562\n",
       "4    USDC      1.000000  5.305233e+10            7404386033\n",
       "5     XRP      0.647000  3.108629e+10            4300113951\n",
       "6     SOL     84.250000  2.706960e+10            4305710775\n",
       "7     ADA      0.797100  2.690567e+10            3179807660\n",
       "8    LUNA     56.690000  2.174330e+10            5169176737\n",
       "9    BUSD      1.000000  1.832483e+10            7576501858\n",
       "10   AVAX     70.330000  1.728299e+10            2558888071\n",
       "11   DOGE      0.116600  1.546996e+10            1655990358\n",
       "12    DOT     15.340000  1.515754e+10            2076032710\n",
       "13    UST      1.010000  1.250567e+10             719961178\n",
       "14   SHIB      0.000022  1.235115e+10            2652337318\n",
       "15  MATIC      1.340000  1.009026e+10            2329266200\n",
       "16    DAI      1.000000  1.004935e+10             561564159\n",
       "17   WBTC  35779.620000  9.418349e+09             322584018\n",
       "18    LTC     97.290000  6.781951e+09            1378346906\n",
       "19   ATOM     23.030000  6.599627e+09            1247750159\n",
       "20    TRX      0.058790  5.984051e+09            1213510734\n",
       "21   LINK     12.190000  5.690836e+09            1324400604\n",
       "22    UNI      8.220000  5.200881e+09             368074117\n",
       "23    BCH    271.980000  5.165378e+09            4354412754\n",
       "24   NEAR      7.960000  5.093901e+09             653075020\n",
       "25   ALGO      0.742200  4.912367e+09             383015464\n",
       "26   MANA      2.390000  4.373573e+09            1439257625\n",
       "27    XLM      0.171700  4.280057e+09             501981989\n",
       "28    FTM      1.390000  3.544978e+09            1460379585\n",
       "29    ETC     24.540000  3.268073e+09             653424108\n",
       "31   SAND      2.800000  3.045107e+09            1458120345\n",
       "32    FIL     17.520000  2.941638e+09             555920636\n",
       "33   EGLD    128.300000  2.765449e+09             374453166\n",
       "34    AXS     44.350000  2.701029e+09             520123164\n",
       "35    VET      0.041600  2.675792e+09             488079031\n",
       "36  THETA      2.430000  2.430892e+09             401873854\n",
       "37    EOS      1.950000  1.913893e+09             598498073\n",
       "38   AAVE    119.700000  1.630538e+09             257544076\n",
       "40    NEO     18.320000  1.292291e+09             277661226\n",
       "41    ZEC     92.630000  1.279717e+09             267709007\n",
       "42    ENJ      1.240000  1.071139e+09             357967442\n",
       "43    OKB     16.260000  9.754570e+08             349452008\n",
       "44  WAVES      8.670000  9.328595e+08             332251985\n",
       "45    CRV      2.040000  9.188392e+08             449883065\n",
       "46    LRC      0.679200  9.030242e+08             313187835\n",
       "47   ROSE      0.193500  6.758624e+08             260132656\n",
       "48   API3      6.270000  2.314901e+08             309708981\n",
       "49  ALICE      6.360000  1.944875e+08             548664193"
      ]
     },
     "execution_count": 81,
     "metadata": {},
     "output_type": "execute_result"
    }
   ],
   "source": [
    "filtered_df.drop([30, 39], axis = 0)"
   ]
  },
  {
   "cell_type": "code",
   "execution_count": 83,
   "metadata": {
    "id": "dFhLnCqF9UBT"
   },
   "outputs": [],
   "source": [
    "#filtered_df[\"name\"] = filtered_df.name + \"-USD\"\n",
    "filtered_df.to_csv(\"datasets/list_of_constituents.csv\")"
   ]
  },
  {
   "cell_type": "code",
   "execution_count": 84,
   "metadata": {
    "id": "Fw5-A-e_kkhp"
   },
   "outputs": [],
   "source": [
    "end_date =   datetime.datetime(2022,3,1 , 0, 0, 0, 0)\n",
    "start_date = end_date - datetime.timedelta(days=5*365)"
   ]
  },
  {
   "cell_type": "code",
   "execution_count": 85,
   "metadata": {
    "id": "9mGDRNt5FGP3"
   },
   "outputs": [],
   "source": [
    "import math"
   ]
  },
  {
   "cell_type": "code",
   "execution_count": 86,
   "metadata": {
    "id": "ipih_T0Yh8SG"
   },
   "outputs": [],
   "source": [
    "from datetime import timedelta\n",
    "\n",
    "def making_std_bigger(std_input):\n",
    "  if std_input > 1:\n",
    "    return std_input \n",
    "  else:\n",
    "    return math.sqrt(std_input)\n",
    "\n",
    "def get_max_std(df_of_volatilities):\n",
    "  max_stf_df = df_of_volatilities[df_of_volatilities['stock'].isin(['BTC-USD', 'ETH-USD', 'WBTC-USD'])].reset_index()\n",
    "  return max_stf_df['std_as_volatility'].sum()\n",
    "\n",
    "\n",
    "def calculate_volatility_per_stock(list_of_stock_in_index):\n",
    "  output_df = []\n",
    "  for stock in list_of_stock_in_index:\n",
    "      df_stock = pdr.get_data_yahoo(stock, start=end_date-timedelta(days=30), end=end_date)\n",
    "      std_of_stock = df_stock['Close'].std()\n",
    "      #log_of_stock_std = np.log(std_of_stock) # WTF\n",
    "      # output_df.append({'stock': stock, 'std_as_volatility': std_of_stock}) \n",
    "      output_df.append({'stock': stock, 'std_as_volatility': making_std_bigger(std_of_stock) })\n",
    "  return pd.DataFrame(output_df)\n",
    "\n",
    "\n",
    "def get_stock_weigthing_based_on_volatility(df_of_volatilities):\n",
    "\n",
    "  sum_of_volatility = df_of_volatilities['std_as_volatility'].sum()\n",
    "  sum_of_volatility_discard_max = sum_of_volatility - get_max_std(df_of_volatilities)\n",
    "  def get_volatility_out_of_total(row):\n",
    "    if row['stock'] not in ['BTC-USD', 'ETH-USD', 'WBTC-USD']:\n",
    "      return row['std_as_volatility'] / sum_of_volatility_discard_max\n",
    "    else:\n",
    "      return row['std_as_volatility'] / sum_of_volatility\n",
    "   \n",
    "  df_of_volatilities['volatilityOutOfTotal'] = df_of_volatilities.apply(lambda x: get_volatility_out_of_total(x), axis = 1) \n",
    "  df_of_volatilities['not_final_weight'] = 1 - df_of_volatilities['volatilityOutOfTotal']\n",
    "  df_of_volatilities['final_weight'] = df_of_volatilities['not_final_weight'] / df_of_volatilities['not_final_weight'].sum()\n",
    "  return df_of_volatilities\n",
    "\n"
   ]
  },
  {
   "cell_type": "code",
   "execution_count": 87,
   "metadata": {
    "colab": {
     "base_uri": "https://localhost:8080/"
    },
    "executionInfo": {
     "elapsed": 13641,
     "status": "ok",
     "timestamp": 1646212439518,
     "user": {
      "displayName": "Melvin Villafane",
      "photoUrl": "https://lh3.googleusercontent.com/a/default-user=s64",
      "userId": "02025715377408414002"
     },
     "user_tz": -60
    },
    "id": "YRvbJ7ZbkY2M",
    "outputId": "7e6e5c97-7f07-4e80-8ac1-953110139a05"
   },
   "outputs": [
    {
     "name": "stdout",
     "output_type": "stream",
     "text": [
      "[*********************100%***********************]  1 of 1 completed\n",
      "[*********************100%***********************]  1 of 1 completed\n",
      "[*********************100%***********************]  1 of 1 completed\n",
      "[*********************100%***********************]  1 of 1 completed\n",
      "[*********************100%***********************]  1 of 1 completed\n",
      "[*********************100%***********************]  1 of 1 completed\n",
      "[*********************100%***********************]  1 of 1 completed\n",
      "[*********************100%***********************]  1 of 1 completed\n",
      "[*********************100%***********************]  1 of 1 completed\n",
      "[*********************100%***********************]  1 of 1 completed\n",
      "[*********************100%***********************]  1 of 1 completed\n",
      "[*********************100%***********************]  1 of 1 completed\n",
      "[*********************100%***********************]  1 of 1 completed\n",
      "[*********************100%***********************]  1 of 1 completed\n",
      "[*********************100%***********************]  1 of 1 completed\n",
      "[*********************100%***********************]  1 of 1 completed\n",
      "[*********************100%***********************]  1 of 1 completed\n",
      "[*********************100%***********************]  1 of 1 completed\n",
      "[*********************100%***********************]  1 of 1 completed\n",
      "[*********************100%***********************]  1 of 1 completed\n",
      "[*********************100%***********************]  1 of 1 completed\n",
      "[*********************100%***********************]  1 of 1 completed\n",
      "[*********************100%***********************]  1 of 1 completed\n",
      "[*********************100%***********************]  1 of 1 completed\n",
      "[*********************100%***********************]  1 of 1 completed\n",
      "[*********************100%***********************]  1 of 1 completed\n",
      "[*********************100%***********************]  1 of 1 completed\n",
      "[*********************100%***********************]  1 of 1 completed\n",
      "[*********************100%***********************]  1 of 1 completed\n",
      "[*********************100%***********************]  1 of 1 completed\n",
      "[*********************100%***********************]  1 of 1 completed\n",
      "[*********************100%***********************]  1 of 1 completed\n",
      "[*********************100%***********************]  1 of 1 completed\n",
      "[*********************100%***********************]  1 of 1 completed\n",
      "[*********************100%***********************]  1 of 1 completed\n",
      "[*********************100%***********************]  1 of 1 completed\n",
      "[*********************100%***********************]  1 of 1 completed\n",
      "[*********************100%***********************]  1 of 1 completed\n",
      "[*********************100%***********************]  1 of 1 completed\n",
      "[*********************100%***********************]  1 of 1 completed\n",
      "[*********************100%***********************]  1 of 1 completed\n",
      "[*********************100%***********************]  1 of 1 completed\n",
      "[*********************100%***********************]  1 of 1 completed\n",
      "[*********************100%***********************]  1 of 1 completed\n",
      "[*********************100%***********************]  1 of 1 completed\n",
      "[*********************100%***********************]  1 of 1 completed\n",
      "[*********************100%***********************]  1 of 1 completed\n",
      "[*********************100%***********************]  1 of 1 completed\n",
      "[*********************100%***********************]  1 of 1 completed\n",
      "[*********************100%***********************]  1 of 1 completed\n"
     ]
    }
   ],
   "source": [
    "volatility_df  =calculate_volatility_per_stock(stock_names)"
   ]
  },
  {
   "cell_type": "code",
   "execution_count": 88,
   "metadata": {
    "colab": {
     "base_uri": "https://localhost:8080/"
    },
    "executionInfo": {
     "elapsed": 221,
     "status": "ok",
     "timestamp": 1646162885248,
     "user": {
      "displayName": "Melvin Villafane",
      "photoUrl": "https://lh3.googleusercontent.com/a/default-user=s64",
      "userId": "02025715377408414002"
     },
     "user_tz": -60
    },
    "id": "H1_Tf_Wgk4nI",
    "outputId": "1c667255-9b52-46dd-f4f6-163ae9328d9f"
   },
   "outputs": [
    {
     "data": {
      "text/plain": [
       "(50, 2)"
      ]
     },
     "execution_count": 88,
     "metadata": {},
     "output_type": "execute_result"
    }
   ],
   "source": [
    "volatility_df.shape"
   ]
  },
  {
   "cell_type": "code",
   "execution_count": 90,
   "metadata": {
    "colab": {
     "base_uri": "https://localhost:8080/",
     "height": 1000
    },
    "executionInfo": {
     "elapsed": 383,
     "status": "ok",
     "timestamp": 1646212444020,
     "user": {
      "displayName": "Melvin Villafane",
      "photoUrl": "https://lh3.googleusercontent.com/a/default-user=s64",
      "userId": "02025715377408414002"
     },
     "user_tz": -60
    },
    "id": "46GGmxQIl8NM",
    "outputId": "da3496e1-1e01-40ac-9da1-a8b3f7c4f6ce"
   },
   "outputs": [
    {
     "data": {
      "text/html": [
       "<div>\n",
       "<style scoped>\n",
       "    .dataframe tbody tr th:only-of-type {\n",
       "        vertical-align: middle;\n",
       "    }\n",
       "\n",
       "    .dataframe tbody tr th {\n",
       "        vertical-align: top;\n",
       "    }\n",
       "\n",
       "    .dataframe thead th {\n",
       "        text-align: right;\n",
       "    }\n",
       "</style>\n",
       "<table border=\"1\" class=\"dataframe\">\n",
       "  <thead>\n",
       "    <tr style=\"text-align: right;\">\n",
       "      <th></th>\n",
       "      <th>stock</th>\n",
       "      <th>std_as_volatility</th>\n",
       "      <th>volatilityOutOfTotal</th>\n",
       "      <th>not_final_weight</th>\n",
       "      <th>final_weight</th>\n",
       "    </tr>\n",
       "  </thead>\n",
       "  <tbody>\n",
       "    <tr>\n",
       "      <th>0</th>\n",
       "      <td>BTC-USD</td>\n",
       "      <td>2546.095315</td>\n",
       "      <td>0.467971</td>\n",
       "      <td>0.532029</td>\n",
       "      <td>0.011077</td>\n",
       "    </tr>\n",
       "    <tr>\n",
       "      <th>1</th>\n",
       "      <td>ETH-USD</td>\n",
       "      <td>204.006810</td>\n",
       "      <td>0.037496</td>\n",
       "      <td>0.962504</td>\n",
       "      <td>0.020040</td>\n",
       "    </tr>\n",
       "    <tr>\n",
       "      <th>2</th>\n",
       "      <td>USDT-USD</td>\n",
       "      <td>0.010899</td>\n",
       "      <td>0.000071</td>\n",
       "      <td>0.999929</td>\n",
       "      <td>0.020820</td>\n",
       "    </tr>\n",
       "    <tr>\n",
       "      <th>3</th>\n",
       "      <td>BNB-USD</td>\n",
       "      <td>22.160667</td>\n",
       "      <td>0.143818</td>\n",
       "      <td>0.856182</td>\n",
       "      <td>0.017827</td>\n",
       "    </tr>\n",
       "    <tr>\n",
       "      <th>4</th>\n",
       "      <td>USDC-USD</td>\n",
       "      <td>0.018608</td>\n",
       "      <td>0.000121</td>\n",
       "      <td>0.999879</td>\n",
       "      <td>0.020819</td>\n",
       "    </tr>\n",
       "    <tr>\n",
       "      <th>5</th>\n",
       "      <td>XRP-USD</td>\n",
       "      <td>0.293554</td>\n",
       "      <td>0.001905</td>\n",
       "      <td>0.998095</td>\n",
       "      <td>0.020781</td>\n",
       "    </tr>\n",
       "    <tr>\n",
       "      <th>6</th>\n",
       "      <td>SOL-USD</td>\n",
       "      <td>9.999290</td>\n",
       "      <td>0.064893</td>\n",
       "      <td>0.935107</td>\n",
       "      <td>0.019470</td>\n",
       "    </tr>\n",
       "    <tr>\n",
       "      <th>7</th>\n",
       "      <td>ADA-USD</td>\n",
       "      <td>0.324995</td>\n",
       "      <td>0.002109</td>\n",
       "      <td>0.997891</td>\n",
       "      <td>0.020777</td>\n",
       "    </tr>\n",
       "    <tr>\n",
       "      <th>8</th>\n",
       "      <td>LUNA-USD</td>\n",
       "      <td>0.044291</td>\n",
       "      <td>0.000287</td>\n",
       "      <td>0.999713</td>\n",
       "      <td>0.020815</td>\n",
       "    </tr>\n",
       "    <tr>\n",
       "      <th>9</th>\n",
       "      <td>BUSD-USD</td>\n",
       "      <td>0.028868</td>\n",
       "      <td>0.000187</td>\n",
       "      <td>0.999813</td>\n",
       "      <td>0.020817</td>\n",
       "    </tr>\n",
       "    <tr>\n",
       "      <th>10</th>\n",
       "      <td>AVAX-USD</td>\n",
       "      <td>7.478720</td>\n",
       "      <td>0.048535</td>\n",
       "      <td>0.951465</td>\n",
       "      <td>0.019810</td>\n",
       "    </tr>\n",
       "    <tr>\n",
       "      <th>11</th>\n",
       "      <td>DOGE-USD</td>\n",
       "      <td>0.103187</td>\n",
       "      <td>0.000670</td>\n",
       "      <td>0.999330</td>\n",
       "      <td>0.020807</td>\n",
       "    </tr>\n",
       "    <tr>\n",
       "      <th>12</th>\n",
       "      <td>DOT-USD</td>\n",
       "      <td>1.769325</td>\n",
       "      <td>0.011483</td>\n",
       "      <td>0.988517</td>\n",
       "      <td>0.020582</td>\n",
       "    </tr>\n",
       "    <tr>\n",
       "      <th>13</th>\n",
       "      <td>UST-USD</td>\n",
       "      <td>0.041388</td>\n",
       "      <td>0.000269</td>\n",
       "      <td>0.999731</td>\n",
       "      <td>0.020815</td>\n",
       "    </tr>\n",
       "    <tr>\n",
       "      <th>14</th>\n",
       "      <td>SHIB-USD</td>\n",
       "      <td>0.001960</td>\n",
       "      <td>0.000013</td>\n",
       "      <td>0.999987</td>\n",
       "      <td>0.020821</td>\n",
       "    </tr>\n",
       "    <tr>\n",
       "      <th>15</th>\n",
       "      <td>MATIC-USD</td>\n",
       "      <td>0.408350</td>\n",
       "      <td>0.002650</td>\n",
       "      <td>0.997350</td>\n",
       "      <td>0.020766</td>\n",
       "    </tr>\n",
       "    <tr>\n",
       "      <th>16</th>\n",
       "      <td>DAI-USD</td>\n",
       "      <td>0.020380</td>\n",
       "      <td>0.000132</td>\n",
       "      <td>0.999868</td>\n",
       "      <td>0.020818</td>\n",
       "    </tr>\n",
       "    <tr>\n",
       "      <th>17</th>\n",
       "      <td>WBTC-USD</td>\n",
       "      <td>2536.526072</td>\n",
       "      <td>0.466212</td>\n",
       "      <td>0.533788</td>\n",
       "      <td>0.011114</td>\n",
       "    </tr>\n",
       "    <tr>\n",
       "      <th>18</th>\n",
       "      <td>LTC-USD</td>\n",
       "      <td>10.897897</td>\n",
       "      <td>0.070725</td>\n",
       "      <td>0.929275</td>\n",
       "      <td>0.019348</td>\n",
       "    </tr>\n",
       "    <tr>\n",
       "      <th>19</th>\n",
       "      <td>ATOM-USD</td>\n",
       "      <td>2.150461</td>\n",
       "      <td>0.013956</td>\n",
       "      <td>0.986044</td>\n",
       "      <td>0.020530</td>\n",
       "    </tr>\n",
       "    <tr>\n",
       "      <th>20</th>\n",
       "      <td>TRX-USD</td>\n",
       "      <td>0.057827</td>\n",
       "      <td>0.000375</td>\n",
       "      <td>0.999625</td>\n",
       "      <td>0.020813</td>\n",
       "    </tr>\n",
       "    <tr>\n",
       "      <th>21</th>\n",
       "      <td>LINK-USD</td>\n",
       "      <td>1.628722</td>\n",
       "      <td>0.010570</td>\n",
       "      <td>0.989430</td>\n",
       "      <td>0.020601</td>\n",
       "    </tr>\n",
       "    <tr>\n",
       "      <th>22</th>\n",
       "      <td>UNI-USD</td>\n",
       "      <td>0.003585</td>\n",
       "      <td>0.000023</td>\n",
       "      <td>0.999977</td>\n",
       "      <td>0.020821</td>\n",
       "    </tr>\n",
       "    <tr>\n",
       "      <th>23</th>\n",
       "      <td>BCH-USD</td>\n",
       "      <td>20.959626</td>\n",
       "      <td>0.136024</td>\n",
       "      <td>0.863976</td>\n",
       "      <td>0.017989</td>\n",
       "    </tr>\n",
       "    <tr>\n",
       "      <th>24</th>\n",
       "      <td>NEAR-USD</td>\n",
       "      <td>1.521266</td>\n",
       "      <td>0.009873</td>\n",
       "      <td>0.990127</td>\n",
       "      <td>0.020615</td>\n",
       "    </tr>\n",
       "    <tr>\n",
       "      <th>25</th>\n",
       "      <td>ALGO-USD</td>\n",
       "      <td>0.283266</td>\n",
       "      <td>0.001838</td>\n",
       "      <td>0.998162</td>\n",
       "      <td>0.020783</td>\n",
       "    </tr>\n",
       "    <tr>\n",
       "      <th>26</th>\n",
       "      <td>MANA-USD</td>\n",
       "      <td>0.542301</td>\n",
       "      <td>0.003519</td>\n",
       "      <td>0.996481</td>\n",
       "      <td>0.020748</td>\n",
       "    </tr>\n",
       "    <tr>\n",
       "      <th>27</th>\n",
       "      <td>XLM-USD</td>\n",
       "      <td>0.132798</td>\n",
       "      <td>0.000862</td>\n",
       "      <td>0.999138</td>\n",
       "      <td>0.020803</td>\n",
       "    </tr>\n",
       "    <tr>\n",
       "      <th>28</th>\n",
       "      <td>FTM-USD</td>\n",
       "      <td>0.467112</td>\n",
       "      <td>0.003031</td>\n",
       "      <td>0.996969</td>\n",
       "      <td>0.020758</td>\n",
       "    </tr>\n",
       "    <tr>\n",
       "      <th>29</th>\n",
       "      <td>ETC-USD</td>\n",
       "      <td>2.827914</td>\n",
       "      <td>0.018353</td>\n",
       "      <td>0.981647</td>\n",
       "      <td>0.020439</td>\n",
       "    </tr>\n",
       "    <tr>\n",
       "      <th>30</th>\n",
       "      <td>ICP-USD</td>\n",
       "      <td>1.977001</td>\n",
       "      <td>0.012830</td>\n",
       "      <td>0.987170</td>\n",
       "      <td>0.020554</td>\n",
       "    </tr>\n",
       "    <tr>\n",
       "      <th>31</th>\n",
       "      <td>SAND-USD</td>\n",
       "      <td>0.762622</td>\n",
       "      <td>0.004949</td>\n",
       "      <td>0.995051</td>\n",
       "      <td>0.020718</td>\n",
       "    </tr>\n",
       "    <tr>\n",
       "      <th>32</th>\n",
       "      <td>FIL-USD</td>\n",
       "      <td>1.687943</td>\n",
       "      <td>0.010954</td>\n",
       "      <td>0.989046</td>\n",
       "      <td>0.020593</td>\n",
       "    </tr>\n",
       "    <tr>\n",
       "      <th>33</th>\n",
       "      <td>EGLD-USD</td>\n",
       "      <td>19.560524</td>\n",
       "      <td>0.126944</td>\n",
       "      <td>0.873056</td>\n",
       "      <td>0.018178</td>\n",
       "    </tr>\n",
       "    <tr>\n",
       "      <th>34</th>\n",
       "      <td>AXS-USD</td>\n",
       "      <td>6.549823</td>\n",
       "      <td>0.042507</td>\n",
       "      <td>0.957493</td>\n",
       "      <td>0.019936</td>\n",
       "    </tr>\n",
       "    <tr>\n",
       "      <th>35</th>\n",
       "      <td>VET-USD</td>\n",
       "      <td>0.079619</td>\n",
       "      <td>0.000517</td>\n",
       "      <td>0.999483</td>\n",
       "      <td>0.020810</td>\n",
       "    </tr>\n",
       "    <tr>\n",
       "      <th>36</th>\n",
       "      <td>THETA-USD</td>\n",
       "      <td>0.659109</td>\n",
       "      <td>0.004277</td>\n",
       "      <td>0.995723</td>\n",
       "      <td>0.020732</td>\n",
       "    </tr>\n",
       "    <tr>\n",
       "      <th>37</th>\n",
       "      <td>EOS-USD</td>\n",
       "      <td>0.418518</td>\n",
       "      <td>0.002716</td>\n",
       "      <td>0.997284</td>\n",
       "      <td>0.020764</td>\n",
       "    </tr>\n",
       "    <tr>\n",
       "      <th>38</th>\n",
       "      <td>AAVE-USD</td>\n",
       "      <td>17.082672</td>\n",
       "      <td>0.110863</td>\n",
       "      <td>0.889137</td>\n",
       "      <td>0.018513</td>\n",
       "    </tr>\n",
       "    <tr>\n",
       "      <th>39</th>\n",
       "      <td>GALA-USD</td>\n",
       "      <td>0.239246</td>\n",
       "      <td>0.001553</td>\n",
       "      <td>0.998447</td>\n",
       "      <td>0.020789</td>\n",
       "    </tr>\n",
       "    <tr>\n",
       "      <th>40</th>\n",
       "      <td>NEO-USD</td>\n",
       "      <td>1.885331</td>\n",
       "      <td>0.012235</td>\n",
       "      <td>0.987765</td>\n",
       "      <td>0.020566</td>\n",
       "    </tr>\n",
       "    <tr>\n",
       "      <th>41</th>\n",
       "      <td>ZEC-USD</td>\n",
       "      <td>11.515892</td>\n",
       "      <td>0.074736</td>\n",
       "      <td>0.925264</td>\n",
       "      <td>0.019265</td>\n",
       "    </tr>\n",
       "    <tr>\n",
       "      <th>42</th>\n",
       "      <td>ENJ-USD</td>\n",
       "      <td>0.484991</td>\n",
       "      <td>0.003147</td>\n",
       "      <td>0.996853</td>\n",
       "      <td>0.020756</td>\n",
       "    </tr>\n",
       "    <tr>\n",
       "      <th>43</th>\n",
       "      <td>OKB-USD</td>\n",
       "      <td>1.998516</td>\n",
       "      <td>0.012970</td>\n",
       "      <td>0.987030</td>\n",
       "      <td>0.020551</td>\n",
       "    </tr>\n",
       "    <tr>\n",
       "      <th>44</th>\n",
       "      <td>WAVES-USD</td>\n",
       "      <td>1.452204</td>\n",
       "      <td>0.009424</td>\n",
       "      <td>0.990576</td>\n",
       "      <td>0.020625</td>\n",
       "    </tr>\n",
       "    <tr>\n",
       "      <th>45</th>\n",
       "      <td>CRV-USD</td>\n",
       "      <td>0.656157</td>\n",
       "      <td>0.004258</td>\n",
       "      <td>0.995742</td>\n",
       "      <td>0.020732</td>\n",
       "    </tr>\n",
       "    <tr>\n",
       "      <th>46</th>\n",
       "      <td>LRC-USD</td>\n",
       "      <td>0.340634</td>\n",
       "      <td>0.002211</td>\n",
       "      <td>0.997789</td>\n",
       "      <td>0.020775</td>\n",
       "    </tr>\n",
       "    <tr>\n",
       "      <th>47</th>\n",
       "      <td>ROSE-USD</td>\n",
       "      <td>0.229026</td>\n",
       "      <td>0.001486</td>\n",
       "      <td>0.998514</td>\n",
       "      <td>0.020790</td>\n",
       "    </tr>\n",
       "    <tr>\n",
       "      <th>48</th>\n",
       "      <td>API3-USD</td>\n",
       "      <td>1.405739</td>\n",
       "      <td>0.009123</td>\n",
       "      <td>0.990877</td>\n",
       "      <td>0.020631</td>\n",
       "    </tr>\n",
       "    <tr>\n",
       "      <th>49</th>\n",
       "      <td>ALICE-USD</td>\n",
       "      <td>0.925410</td>\n",
       "      <td>0.006006</td>\n",
       "      <td>0.993994</td>\n",
       "      <td>0.020696</td>\n",
       "    </tr>\n",
       "  </tbody>\n",
       "</table>\n",
       "</div>"
      ],
      "text/plain": [
       "        stock  std_as_volatility  volatilityOutOfTotal  not_final_weight  \\\n",
       "0     BTC-USD        2546.095315              0.467971          0.532029   \n",
       "1     ETH-USD         204.006810              0.037496          0.962504   \n",
       "2    USDT-USD           0.010899              0.000071          0.999929   \n",
       "3     BNB-USD          22.160667              0.143818          0.856182   \n",
       "4    USDC-USD           0.018608              0.000121          0.999879   \n",
       "5     XRP-USD           0.293554              0.001905          0.998095   \n",
       "6     SOL-USD           9.999290              0.064893          0.935107   \n",
       "7     ADA-USD           0.324995              0.002109          0.997891   \n",
       "8    LUNA-USD           0.044291              0.000287          0.999713   \n",
       "9    BUSD-USD           0.028868              0.000187          0.999813   \n",
       "10   AVAX-USD           7.478720              0.048535          0.951465   \n",
       "11   DOGE-USD           0.103187              0.000670          0.999330   \n",
       "12    DOT-USD           1.769325              0.011483          0.988517   \n",
       "13    UST-USD           0.041388              0.000269          0.999731   \n",
       "14   SHIB-USD           0.001960              0.000013          0.999987   \n",
       "15  MATIC-USD           0.408350              0.002650          0.997350   \n",
       "16    DAI-USD           0.020380              0.000132          0.999868   \n",
       "17   WBTC-USD        2536.526072              0.466212          0.533788   \n",
       "18    LTC-USD          10.897897              0.070725          0.929275   \n",
       "19   ATOM-USD           2.150461              0.013956          0.986044   \n",
       "20    TRX-USD           0.057827              0.000375          0.999625   \n",
       "21   LINK-USD           1.628722              0.010570          0.989430   \n",
       "22    UNI-USD           0.003585              0.000023          0.999977   \n",
       "23    BCH-USD          20.959626              0.136024          0.863976   \n",
       "24   NEAR-USD           1.521266              0.009873          0.990127   \n",
       "25   ALGO-USD           0.283266              0.001838          0.998162   \n",
       "26   MANA-USD           0.542301              0.003519          0.996481   \n",
       "27    XLM-USD           0.132798              0.000862          0.999138   \n",
       "28    FTM-USD           0.467112              0.003031          0.996969   \n",
       "29    ETC-USD           2.827914              0.018353          0.981647   \n",
       "30    ICP-USD           1.977001              0.012830          0.987170   \n",
       "31   SAND-USD           0.762622              0.004949          0.995051   \n",
       "32    FIL-USD           1.687943              0.010954          0.989046   \n",
       "33   EGLD-USD          19.560524              0.126944          0.873056   \n",
       "34    AXS-USD           6.549823              0.042507          0.957493   \n",
       "35    VET-USD           0.079619              0.000517          0.999483   \n",
       "36  THETA-USD           0.659109              0.004277          0.995723   \n",
       "37    EOS-USD           0.418518              0.002716          0.997284   \n",
       "38   AAVE-USD          17.082672              0.110863          0.889137   \n",
       "39   GALA-USD           0.239246              0.001553          0.998447   \n",
       "40    NEO-USD           1.885331              0.012235          0.987765   \n",
       "41    ZEC-USD          11.515892              0.074736          0.925264   \n",
       "42    ENJ-USD           0.484991              0.003147          0.996853   \n",
       "43    OKB-USD           1.998516              0.012970          0.987030   \n",
       "44  WAVES-USD           1.452204              0.009424          0.990576   \n",
       "45    CRV-USD           0.656157              0.004258          0.995742   \n",
       "46    LRC-USD           0.340634              0.002211          0.997789   \n",
       "47   ROSE-USD           0.229026              0.001486          0.998514   \n",
       "48   API3-USD           1.405739              0.009123          0.990877   \n",
       "49  ALICE-USD           0.925410              0.006006          0.993994   \n",
       "\n",
       "    final_weight  \n",
       "0       0.011077  \n",
       "1       0.020040  \n",
       "2       0.020820  \n",
       "3       0.017827  \n",
       "4       0.020819  \n",
       "5       0.020781  \n",
       "6       0.019470  \n",
       "7       0.020777  \n",
       "8       0.020815  \n",
       "9       0.020817  \n",
       "10      0.019810  \n",
       "11      0.020807  \n",
       "12      0.020582  \n",
       "13      0.020815  \n",
       "14      0.020821  \n",
       "15      0.020766  \n",
       "16      0.020818  \n",
       "17      0.011114  \n",
       "18      0.019348  \n",
       "19      0.020530  \n",
       "20      0.020813  \n",
       "21      0.020601  \n",
       "22      0.020821  \n",
       "23      0.017989  \n",
       "24      0.020615  \n",
       "25      0.020783  \n",
       "26      0.020748  \n",
       "27      0.020803  \n",
       "28      0.020758  \n",
       "29      0.020439  \n",
       "30      0.020554  \n",
       "31      0.020718  \n",
       "32      0.020593  \n",
       "33      0.018178  \n",
       "34      0.019936  \n",
       "35      0.020810  \n",
       "36      0.020732  \n",
       "37      0.020764  \n",
       "38      0.018513  \n",
       "39      0.020789  \n",
       "40      0.020566  \n",
       "41      0.019265  \n",
       "42      0.020756  \n",
       "43      0.020551  \n",
       "44      0.020625  \n",
       "45      0.020732  \n",
       "46      0.020775  \n",
       "47      0.020790  \n",
       "48      0.020631  \n",
       "49      0.020696  "
      ]
     },
     "execution_count": 90,
     "metadata": {},
     "output_type": "execute_result"
    }
   ],
   "source": [
    "weights_df  =get_stock_weigthing_based_on_volatility(volatility_df) #normalize the volatility value instead of using the log (does not make sense to me) \n",
    "weights_df"
   ]
  },
  {
   "cell_type": "code",
   "execution_count": 91,
   "metadata": {
    "id": "dtO-IqEmJNM5"
   },
   "outputs": [],
   "source": [
    "weights_df.dropna(inplace=True)\n"
   ]
  },
  {
   "cell_type": "code",
   "execution_count": null,
   "metadata": {
    "id": "EKeZGt4Q5uYz"
   },
   "outputs": [],
   "source": []
  },
  {
   "cell_type": "code",
   "execution_count": 92,
   "metadata": {
    "id": "z0rFug_7KxKJ"
   },
   "outputs": [],
   "source": [
    "# start_date =   datetime.datetime(2021,1,1, 0, 0, 0, 0)\n",
    "# end_date =  datetime.datetime(2022,1,1, 0, 0, 0, 0)"
   ]
  },
  {
   "cell_type": "code",
   "execution_count": 93,
   "metadata": {
    "colab": {
     "base_uri": "https://localhost:8080/"
    },
    "executionInfo": {
     "elapsed": 4139112,
     "status": "ok",
     "timestamp": 1646176539035,
     "user": {
      "displayName": "Melvin Villafane",
      "photoUrl": "https://lh3.googleusercontent.com/a/default-user=s64",
      "userId": "02025715377408414002"
     },
     "user_tz": -60
    },
    "id": "tuZuwne4JWIl",
    "outputId": "54d33a7f-4204-4834-b394-0a77f41cb89f"
   },
   "outputs": [
    {
     "name": "stdout",
     "output_type": "stream",
     "text": [
      "[*********************100%***********************]  1 of 1 completed\n",
      "[*********************100%***********************]  1 of 1 completed\n",
      "[*********************100%***********************]  1 of 1 completed\n",
      "[*********************100%***********************]  1 of 1 completed\n",
      "[*********************100%***********************]  1 of 1 completed\n",
      "[*********************100%***********************]  1 of 1 completed\n",
      "[*********************100%***********************]  1 of 1 completed\n",
      "\n",
      "1 Failed download:\n",
      "- SOL-USD: No data found for this date range, symbol may be delisted\n",
      "[*********************100%***********************]  1 of 1 completed\n",
      "[*********************100%***********************]  1 of 1 completed\n",
      "[*********************100%***********************]  1 of 1 completed\n",
      "[*********************100%***********************]  1 of 1 completed\n",
      "\n",
      "1 Failed download:\n",
      "- AVAX-USD: Data doesn't exist for startDate = 1577833200, endDate = 1577833200\n",
      "[*********************100%***********************]  1 of 1 completed\n",
      "[*********************100%***********************]  1 of 1 completed\n",
      "\n",
      "1 Failed download:\n",
      "- DOT-USD: No data found for this date range, symbol may be delisted\n",
      "[*********************100%***********************]  1 of 1 completed\n",
      "\n",
      "1 Failed download:\n",
      "- UST-USD: No data found for this date range, symbol may be delisted\n",
      "[*********************100%***********************]  1 of 1 completed\n",
      "\n",
      "1 Failed download:\n",
      "- SHIB-USD: Data doesn't exist for startDate = 1577833200, endDate = 1577833200\n",
      "[*********************100%***********************]  1 of 1 completed\n",
      "[*********************100%***********************]  1 of 1 completed\n",
      "[*********************100%***********************]  1 of 1 completed\n",
      "[*********************100%***********************]  1 of 1 completed\n",
      "[*********************100%***********************]  1 of 1 completed\n",
      "[*********************100%***********************]  1 of 1 completed\n",
      "[*********************100%***********************]  1 of 1 completed\n",
      "[*********************100%***********************]  1 of 1 completed\n",
      "[*********************100%***********************]  1 of 1 completed\n",
      "[*********************100%***********************]  1 of 1 completed\n",
      "\n",
      "1 Failed download:\n",
      "- NEAR-USD: Data doesn't exist for startDate = 1577833200, endDate = 1577833200\n",
      "[*********************100%***********************]  1 of 1 completed\n",
      "[*********************100%***********************]  1 of 1 completed\n",
      "[*********************100%***********************]  1 of 1 completed\n",
      "[*********************100%***********************]  1 of 1 completed\n",
      "[*********************100%***********************]  1 of 1 completed\n",
      "[*********************100%***********************]  1 of 1 completed\n",
      "\n",
      "1 Failed download:\n",
      "- ICP-USD: Data doesn't exist for startDate = 1577833200, endDate = 1577833200\n",
      "[*********************100%***********************]  1 of 1 completed\n",
      "\n",
      "1 Failed download:\n",
      "- SAND-USD: Data doesn't exist for startDate = 1577833200, endDate = 1577833200\n",
      "[*********************100%***********************]  1 of 1 completed\n",
      "[*********************100%***********************]  1 of 1 completed\n",
      "\n",
      "1 Failed download:\n",
      "- EGLD-USD: Data doesn't exist for startDate = 1577833200, endDate = 1577833200\n",
      "[*********************100%***********************]  1 of 1 completed\n",
      "\n",
      "1 Failed download:\n",
      "- AXS-USD: Data doesn't exist for startDate = 1577833200, endDate = 1577833200\n",
      "[*********************100%***********************]  1 of 1 completed\n",
      "[*********************100%***********************]  1 of 1 completed\n",
      "[*********************100%***********************]  1 of 1 completed\n",
      "[*********************100%***********************]  1 of 1 completed\n",
      "\n",
      "1 Failed download:\n",
      "- AAVE-USD: Data doesn't exist for startDate = 1577833200, endDate = 1577833200\n",
      "[*********************100%***********************]  1 of 1 completed\n",
      "\n",
      "1 Failed download:\n",
      "- GALA-USD: Data doesn't exist for startDate = 1577833200, endDate = 1577833200\n",
      "[*********************100%***********************]  1 of 1 completed\n",
      "[*********************100%***********************]  1 of 1 completed\n",
      "[*********************100%***********************]  1 of 1 completed\n",
      "[*********************100%***********************]  1 of 1 completed\n",
      "[*********************100%***********************]  1 of 1 completed\n",
      "[*********************100%***********************]  1 of 1 completed\n",
      "\n",
      "1 Failed download:\n",
      "- CRV-USD: Data doesn't exist for startDate = 1577833200, endDate = 1577833200\n",
      "[*********************100%***********************]  1 of 1 completed\n",
      "[*********************100%***********************]  1 of 1 completed\n",
      "\n",
      "1 Failed download:\n",
      "- ROSE-USD: Data doesn't exist for startDate = 1577833200, endDate = 1577833200\n",
      "[*********************100%***********************]  1 of 1 completed\n",
      "\n",
      "1 Failed download:\n",
      "- API3-USD: Data doesn't exist for startDate = 1577833200, endDate = 1577833200\n",
      "[*********************100%***********************]  1 of 1 completed\n",
      "\n",
      "1 Failed download:\n",
      "- ALICE-USD: Data doesn't exist for startDate = 1577833200, endDate = 1577833200\n",
      "[*********************100%***********************]  1 of 1 completed\n",
      "[*********************100%***********************]  1 of 1 completed\n",
      "[*********************100%***********************]  1 of 1 completed\n",
      "[*********************100%***********************]  1 of 1 completed\n",
      "[*********************100%***********************]  1 of 1 completed\n",
      "[*********************100%***********************]  1 of 1 completed\n",
      "[*********************100%***********************]  1 of 1 completed\n",
      "[*********************100%***********************]  1 of 1 completed\n",
      "[*********************100%***********************]  1 of 1 completed\n",
      "[*********************100%***********************]  1 of 1 completed\n",
      "[*********************100%***********************]  1 of 1 completed\n",
      "[*********************100%***********************]  1 of 1 completed\n",
      "[*********************100%***********************]  1 of 1 completed\n",
      "[*********************100%***********************]  1 of 1 completed\n",
      "[*********************100%***********************]  1 of 1 completed\n",
      "[*********************100%***********************]  1 of 1 completed\n",
      "[*********************100%***********************]  1 of 1 completed\n",
      "[*********************100%***********************]  1 of 1 completed\n",
      "[*********************100%***********************]  1 of 1 completed\n",
      "[*********************100%***********************]  1 of 1 completed\n",
      "[*********************100%***********************]  1 of 1 completed\n",
      "[*********************100%***********************]  1 of 1 completed\n",
      "[*********************100%***********************]  1 of 1 completed\n",
      "[*********************100%***********************]  1 of 1 completed\n",
      "[*********************100%***********************]  1 of 1 completed\n",
      "[*********************100%***********************]  1 of 1 completed\n",
      "[*********************100%***********************]  1 of 1 completed\n",
      "[*********************100%***********************]  1 of 1 completed\n",
      "[*********************100%***********************]  1 of 1 completed\n",
      "[*********************100%***********************]  1 of 1 completed\n",
      "[*********************100%***********************]  1 of 1 completed\n",
      "[*********************100%***********************]  1 of 1 completed\n",
      "[*********************100%***********************]  1 of 1 completed\n",
      "[*********************100%***********************]  1 of 1 completed\n",
      "[*********************100%***********************]  1 of 1 completed\n",
      "[*********************100%***********************]  1 of 1 completed\n",
      "[*********************100%***********************]  1 of 1 completed\n",
      "[*********************100%***********************]  1 of 1 completed\n",
      "[*********************100%***********************]  1 of 1 completed\n",
      "[*********************100%***********************]  1 of 1 completed\n",
      "[*********************100%***********************]  1 of 1 completed\n",
      "[*********************100%***********************]  1 of 1 completed\n",
      "[*********************100%***********************]  1 of 1 completed\n",
      "[*********************100%***********************]  1 of 1 completed\n",
      "[*********************100%***********************]  1 of 1 completed\n",
      "[*********************100%***********************]  1 of 1 completed\n"
     ]
    },
    {
     "name": "stdout",
     "output_type": "stream",
     "text": [
      "[*********************100%***********************]  1 of 1 completed\n",
      "[*********************100%***********************]  1 of 1 completed\n",
      "[*********************100%***********************]  1 of 1 completed\n",
      "[*********************100%***********************]  1 of 1 completed\n",
      "[*********************100%***********************]  1 of 1 completed\n",
      "[*********************100%***********************]  1 of 1 completed\n",
      "[*********************100%***********************]  1 of 1 completed\n",
      "[*********************100%***********************]  1 of 1 completed\n",
      "[*********************100%***********************]  1 of 1 completed\n",
      "[*********************100%***********************]  1 of 1 completed\n",
      "[*********************100%***********************]  1 of 1 completed\n",
      "[*********************100%***********************]  1 of 1 completed\n",
      "[*********************100%***********************]  1 of 1 completed\n",
      "[*********************100%***********************]  1 of 1 completed\n",
      "[*********************100%***********************]  1 of 1 completed\n",
      "[*********************100%***********************]  1 of 1 completed\n",
      "[*********************100%***********************]  1 of 1 completed\n",
      "[*********************100%***********************]  1 of 1 completed\n",
      "[*********************100%***********************]  1 of 1 completed\n",
      "[*********************100%***********************]  1 of 1 completed\n",
      "[*********************100%***********************]  1 of 1 completed\n",
      "[*********************100%***********************]  1 of 1 completed\n",
      "[*********************100%***********************]  1 of 1 completed\n",
      "[*********************100%***********************]  1 of 1 completed\n",
      "[*********************100%***********************]  1 of 1 completed\n",
      "[*********************100%***********************]  1 of 1 completed\n",
      "[*********************100%***********************]  1 of 1 completed\n",
      "[*********************100%***********************]  1 of 1 completed\n",
      "[*********************100%***********************]  1 of 1 completed\n",
      "[*********************100%***********************]  1 of 1 completed\n",
      "[*********************100%***********************]  1 of 1 completed\n",
      "[*********************100%***********************]  1 of 1 completed\n",
      "[*********************100%***********************]  1 of 1 completed\n",
      "[*********************100%***********************]  1 of 1 completed\n",
      "[*********************100%***********************]  1 of 1 completed\n",
      "[*********************100%***********************]  1 of 1 completed\n",
      "[*********************100%***********************]  1 of 1 completed\n",
      "[*********************100%***********************]  1 of 1 completed\n",
      "[*********************100%***********************]  1 of 1 completed\n",
      "[*********************100%***********************]  1 of 1 completed\n",
      "[*********************100%***********************]  1 of 1 completed\n",
      "[*********************100%***********************]  1 of 1 completed\n",
      "[*********************100%***********************]  1 of 1 completed\n",
      "[*********************100%***********************]  1 of 1 completed\n",
      "[*********************100%***********************]  1 of 1 completed\n",
      "[*********************100%***********************]  1 of 1 completed\n",
      "[*********************100%***********************]  1 of 1 completed\n",
      "[*********************100%***********************]  1 of 1 completed\n",
      "[*********************100%***********************]  1 of 1 completed\n",
      "[*********************100%***********************]  1 of 1 completed\n",
      "[*********************100%***********************]  1 of 1 completed\n",
      "[*********************100%***********************]  1 of 1 completed\n",
      "[*********************100%***********************]  1 of 1 completed\n",
      "[*********************100%***********************]  1 of 1 completed\n",
      "[*********************100%***********************]  1 of 1 completed\n",
      "[*********************100%***********************]  1 of 1 completed\n",
      "[*********************100%***********************]  1 of 1 completed\n",
      "[*********************100%***********************]  1 of 1 completed\n",
      "[*********************100%***********************]  1 of 1 completed\n",
      "[*********************100%***********************]  1 of 1 completed\n",
      "[*********************100%***********************]  1 of 1 completed\n",
      "[*********************100%***********************]  1 of 1 completed\n",
      "[*********************100%***********************]  1 of 1 completed\n",
      "[*********************100%***********************]  1 of 1 completed\n",
      "[*********************100%***********************]  1 of 1 completed\n",
      "[*********************100%***********************]  1 of 1 completed\n",
      "[*********************100%***********************]  1 of 1 completed\n",
      "[*********************100%***********************]  1 of 1 completed\n",
      "[*********************100%***********************]  1 of 1 completed\n",
      "[*********************100%***********************]  1 of 1 completed\n",
      "[*********************100%***********************]  1 of 1 completed\n",
      "[*********************100%***********************]  1 of 1 completed\n",
      "[*********************100%***********************]  1 of 1 completed\n",
      "[*********************100%***********************]  1 of 1 completed\n",
      "[*********************100%***********************]  1 of 1 completed\n",
      "[*********************100%***********************]  1 of 1 completed\n",
      "[*********************100%***********************]  1 of 1 completed\n",
      "[*********************100%***********************]  1 of 1 completed\n",
      "[*********************100%***********************]  1 of 1 completed\n",
      "[*********************100%***********************]  1 of 1 completed\n",
      "[*********************100%***********************]  1 of 1 completed\n",
      "[*********************100%***********************]  1 of 1 completed\n",
      "[*********************100%***********************]  1 of 1 completed\n",
      "[*********************100%***********************]  1 of 1 completed\n",
      "[*********************100%***********************]  1 of 1 completed\n",
      "[*********************100%***********************]  1 of 1 completed\n",
      "[*********************100%***********************]  1 of 1 completed\n",
      "[*********************100%***********************]  1 of 1 completed\n",
      "[*********************100%***********************]  1 of 1 completed\n",
      "[*********************100%***********************]  1 of 1 completed\n",
      "[*********************100%***********************]  1 of 1 completed\n",
      "[*********************100%***********************]  1 of 1 completed\n",
      "[*********************100%***********************]  1 of 1 completed\n",
      "[*********************100%***********************]  1 of 1 completed\n",
      "[*********************100%***********************]  1 of 1 completed\n",
      "[*********************100%***********************]  1 of 1 completed\n",
      "[*********************100%***********************]  1 of 1 completed\n",
      "[*********************100%***********************]  1 of 1 completed\n",
      "[*********************100%***********************]  1 of 1 completed\n",
      "[*********************100%***********************]  1 of 1 completed\n",
      "[*********************100%***********************]  1 of 1 completed\n",
      "[*********************100%***********************]  1 of 1 completed\n",
      "[*********************100%***********************]  1 of 1 completed\n",
      "[*********************100%***********************]  1 of 1 completed\n",
      "[*********************100%***********************]  1 of 1 completed\n",
      "[*********************100%***********************]  1 of 1 completed\n",
      "[*********************100%***********************]  1 of 1 completed\n",
      "[*********************100%***********************]  1 of 1 completed\n",
      "[*********************100%***********************]  1 of 1 completed\n",
      "[*********************100%***********************]  1 of 1 completed\n",
      "[*********************100%***********************]  1 of 1 completed\n",
      "[*********************100%***********************]  1 of 1 completed\n",
      "[*********************100%***********************]  1 of 1 completed\n",
      "[*********************100%***********************]  1 of 1 completed\n",
      "[*********************100%***********************]  1 of 1 completed\n",
      "[*********************100%***********************]  1 of 1 completed\n",
      "[*********************100%***********************]  1 of 1 completed\n",
      "[*********************100%***********************]  1 of 1 completed\n"
     ]
    },
    {
     "name": "stdout",
     "output_type": "stream",
     "text": [
      "[*********************100%***********************]  1 of 1 completed\n",
      "[*********************100%***********************]  1 of 1 completed\n",
      "[*********************100%***********************]  1 of 1 completed\n",
      "[*********************100%***********************]  1 of 1 completed\n",
      "[*********************100%***********************]  1 of 1 completed\n",
      "[*********************100%***********************]  1 of 1 completed\n",
      "[*********************100%***********************]  1 of 1 completed\n",
      "[*********************100%***********************]  1 of 1 completed\n",
      "[*********************100%***********************]  1 of 1 completed\n",
      "[*********************100%***********************]  1 of 1 completed\n",
      "[*********************100%***********************]  1 of 1 completed\n",
      "[*********************100%***********************]  1 of 1 completed\n",
      "[*********************100%***********************]  1 of 1 completed\n",
      "[*********************100%***********************]  1 of 1 completed\n",
      "[*********************100%***********************]  1 of 1 completed\n",
      "[*********************100%***********************]  1 of 1 completed\n",
      "[*********************100%***********************]  1 of 1 completed\n",
      "[*********************100%***********************]  1 of 1 completed\n",
      "[*********************100%***********************]  1 of 1 completed\n",
      "[*********************100%***********************]  1 of 1 completed\n",
      "[*********************100%***********************]  1 of 1 completed\n",
      "[*********************100%***********************]  1 of 1 completed\n",
      "[*********************100%***********************]  1 of 1 completed\n",
      "[*********************100%***********************]  1 of 1 completed\n",
      "[*********************100%***********************]  1 of 1 completed\n",
      "[*********************100%***********************]  1 of 1 completed\n",
      "[*********************100%***********************]  1 of 1 completed\n",
      "[*********************100%***********************]  1 of 1 completed\n",
      "[*********************100%***********************]  1 of 1 completed\n",
      "[*********************100%***********************]  1 of 1 completed\n",
      "[*********************100%***********************]  1 of 1 completed\n",
      "[*********************100%***********************]  1 of 1 completed\n",
      "[*********************100%***********************]  1 of 1 completed\n",
      "[*********************100%***********************]  1 of 1 completed\n",
      "[*********************100%***********************]  1 of 1 completed\n",
      "[*********************100%***********************]  1 of 1 completed\n",
      "[*********************100%***********************]  1 of 1 completed\n",
      "[*********************100%***********************]  1 of 1 completed\n",
      "[*********************100%***********************]  1 of 1 completed\n",
      "[*********************100%***********************]  1 of 1 completed\n",
      "[*********************100%***********************]  1 of 1 completed\n",
      "[*********************100%***********************]  1 of 1 completed\n",
      "[*********************100%***********************]  1 of 1 completed\n",
      "[*********************100%***********************]  1 of 1 completed\n",
      "[*********************100%***********************]  1 of 1 completed\n",
      "[*********************100%***********************]  1 of 1 completed\n",
      "[*********************100%***********************]  1 of 1 completed\n",
      "[*********************100%***********************]  1 of 1 completed\n",
      "[*********************100%***********************]  1 of 1 completed\n",
      "[*********************100%***********************]  1 of 1 completed\n",
      "[*********************100%***********************]  1 of 1 completed\n",
      "[*********************100%***********************]  1 of 1 completed\n",
      "[*********************100%***********************]  1 of 1 completed\n",
      "[*********************100%***********************]  1 of 1 completed\n",
      "[*********************100%***********************]  1 of 1 completed\n",
      "[*********************100%***********************]  1 of 1 completed\n",
      "[*********************100%***********************]  1 of 1 completed\n",
      "[*********************100%***********************]  1 of 1 completed\n",
      "[*********************100%***********************]  1 of 1 completed\n",
      "[*********************100%***********************]  1 of 1 completed\n",
      "[*********************100%***********************]  1 of 1 completed\n",
      "[*********************100%***********************]  1 of 1 completed\n",
      "[*********************100%***********************]  1 of 1 completed\n",
      "[*********************100%***********************]  1 of 1 completed\n",
      "[*********************100%***********************]  1 of 1 completed\n",
      "[*********************100%***********************]  1 of 1 completed\n",
      "[*********************100%***********************]  1 of 1 completed\n",
      "[*********************100%***********************]  1 of 1 completed\n",
      "[*********************100%***********************]  1 of 1 completed\n",
      "[*********************100%***********************]  1 of 1 completed\n",
      "[*********************100%***********************]  1 of 1 completed\n",
      "[*********************100%***********************]  1 of 1 completed\n",
      "[*********************100%***********************]  1 of 1 completed\n",
      "[*********************100%***********************]  1 of 1 completed\n",
      "[*********************100%***********************]  1 of 1 completed\n",
      "[*********************100%***********************]  1 of 1 completed\n",
      "[*********************100%***********************]  1 of 1 completed\n",
      "[*********************100%***********************]  1 of 1 completed\n",
      "[*********************100%***********************]  1 of 1 completed\n",
      "[*********************100%***********************]  1 of 1 completed\n",
      "[*********************100%***********************]  1 of 1 completed\n",
      "[*********************100%***********************]  1 of 1 completed\n",
      "[*********************100%***********************]  1 of 1 completed\n",
      "[*********************100%***********************]  1 of 1 completed\n",
      "[*********************100%***********************]  1 of 1 completed\n",
      "[*********************100%***********************]  1 of 1 completed\n",
      "[*********************100%***********************]  1 of 1 completed\n",
      "[*********************100%***********************]  1 of 1 completed\n",
      "[*********************100%***********************]  1 of 1 completed\n",
      "[*********************100%***********************]  1 of 1 completed\n",
      "[*********************100%***********************]  1 of 1 completed\n",
      "[*********************100%***********************]  1 of 1 completed\n",
      "[*********************100%***********************]  1 of 1 completed\n",
      "[*********************100%***********************]  1 of 1 completed\n",
      "[*********************100%***********************]  1 of 1 completed\n",
      "[*********************100%***********************]  1 of 1 completed\n",
      "[*********************100%***********************]  1 of 1 completed\n",
      "[*********************100%***********************]  1 of 1 completed\n",
      "[*********************100%***********************]  1 of 1 completed\n",
      "[*********************100%***********************]  1 of 1 completed\n",
      "[*********************100%***********************]  1 of 1 completed\n",
      "[*********************100%***********************]  1 of 1 completed\n",
      "[*********************100%***********************]  1 of 1 completed\n",
      "[*********************100%***********************]  1 of 1 completed\n",
      "[*********************100%***********************]  1 of 1 completed\n",
      "[*********************100%***********************]  1 of 1 completed\n",
      "[*********************100%***********************]  1 of 1 completed\n",
      "[*********************100%***********************]  1 of 1 completed\n",
      "[*********************100%***********************]  1 of 1 completed\n",
      "[*********************100%***********************]  1 of 1 completed\n",
      "[*********************100%***********************]  1 of 1 completed\n",
      "[*********************100%***********************]  1 of 1 completed\n",
      "[*********************100%***********************]  1 of 1 completed\n",
      "[*********************100%***********************]  1 of 1 completed\n",
      "[*********************100%***********************]  1 of 1 completed\n",
      "[*********************100%***********************]  1 of 1 completed\n",
      "[*********************100%***********************]  1 of 1 completed\n",
      "[*********************100%***********************]  1 of 1 completed\n"
     ]
    },
    {
     "name": "stdout",
     "output_type": "stream",
     "text": [
      "[*********************100%***********************]  1 of 1 completed\n",
      "[*********************100%***********************]  1 of 1 completed\n",
      "[*********************100%***********************]  1 of 1 completed\n",
      "[*********************100%***********************]  1 of 1 completed\n",
      "[*********************100%***********************]  1 of 1 completed\n",
      "[*********************100%***********************]  1 of 1 completed\n",
      "[*********************100%***********************]  1 of 1 completed\n",
      "[*********************100%***********************]  1 of 1 completed\n",
      "[*********************100%***********************]  1 of 1 completed\n",
      "[*********************100%***********************]  1 of 1 completed\n",
      "[*********************100%***********************]  1 of 1 completed\n",
      "[*********************100%***********************]  1 of 1 completed\n",
      "[*********************100%***********************]  1 of 1 completed\n",
      "[*********************100%***********************]  1 of 1 completed\n",
      "[*********************100%***********************]  1 of 1 completed\n",
      "[*********************100%***********************]  1 of 1 completed\n",
      "[*********************100%***********************]  1 of 1 completed\n",
      "[*********************100%***********************]  1 of 1 completed\n",
      "[*********************100%***********************]  1 of 1 completed\n",
      "[*********************100%***********************]  1 of 1 completed\n",
      "[*********************100%***********************]  1 of 1 completed\n",
      "[*********************100%***********************]  1 of 1 completed\n",
      "[*********************100%***********************]  1 of 1 completed\n",
      "[*********************100%***********************]  1 of 1 completed\n",
      "[*********************100%***********************]  1 of 1 completed\n",
      "[*********************100%***********************]  1 of 1 completed\n",
      "[*********************100%***********************]  1 of 1 completed\n",
      "[*********************100%***********************]  1 of 1 completed\n",
      "[*********************100%***********************]  1 of 1 completed\n",
      "[*********************100%***********************]  1 of 1 completed\n",
      "[*********************100%***********************]  1 of 1 completed\n",
      "[*********************100%***********************]  1 of 1 completed\n",
      "[*********************100%***********************]  1 of 1 completed\n",
      "[*********************100%***********************]  1 of 1 completed\n",
      "[*********************100%***********************]  1 of 1 completed\n",
      "[*********************100%***********************]  1 of 1 completed\n",
      "[*********************100%***********************]  1 of 1 completed\n",
      "[*********************100%***********************]  1 of 1 completed\n",
      "[*********************100%***********************]  1 of 1 completed\n",
      "[*********************100%***********************]  1 of 1 completed\n",
      "[*********************100%***********************]  1 of 1 completed\n",
      "[*********************100%***********************]  1 of 1 completed\n",
      "[*********************100%***********************]  1 of 1 completed\n",
      "[*********************100%***********************]  1 of 1 completed\n",
      "[*********************100%***********************]  1 of 1 completed\n",
      "[*********************100%***********************]  1 of 1 completed\n",
      "[*********************100%***********************]  1 of 1 completed\n",
      "[*********************100%***********************]  1 of 1 completed\n",
      "[*********************100%***********************]  1 of 1 completed\n",
      "[*********************100%***********************]  1 of 1 completed\n",
      "[*********************100%***********************]  1 of 1 completed\n",
      "[*********************100%***********************]  1 of 1 completed\n",
      "[*********************100%***********************]  1 of 1 completed\n",
      "[*********************100%***********************]  1 of 1 completed\n",
      "[*********************100%***********************]  1 of 1 completed\n",
      "[*********************100%***********************]  1 of 1 completed\n",
      "[*********************100%***********************]  1 of 1 completed\n",
      "[*********************100%***********************]  1 of 1 completed\n",
      "[*********************100%***********************]  1 of 1 completed\n",
      "[*********************100%***********************]  1 of 1 completed\n",
      "[*********************100%***********************]  1 of 1 completed\n",
      "[*********************100%***********************]  1 of 1 completed\n",
      "[*********************100%***********************]  1 of 1 completed\n",
      "[*********************100%***********************]  1 of 1 completed\n",
      "[*********************100%***********************]  1 of 1 completed\n",
      "[*********************100%***********************]  1 of 1 completed\n",
      "[*********************100%***********************]  1 of 1 completed\n",
      "[*********************100%***********************]  1 of 1 completed\n",
      "[*********************100%***********************]  1 of 1 completed\n",
      "[*********************100%***********************]  1 of 1 completed\n",
      "[*********************100%***********************]  1 of 1 completed\n",
      "[*********************100%***********************]  1 of 1 completed\n",
      "[*********************100%***********************]  1 of 1 completed\n",
      "[*********************100%***********************]  1 of 1 completed\n",
      "[*********************100%***********************]  1 of 1 completed\n",
      "[*********************100%***********************]  1 of 1 completed\n",
      "[*********************100%***********************]  1 of 1 completed\n",
      "[*********************100%***********************]  1 of 1 completed\n",
      "[*********************100%***********************]  1 of 1 completed\n",
      "[*********************100%***********************]  1 of 1 completed\n",
      "[*********************100%***********************]  1 of 1 completed\n",
      "[*********************100%***********************]  1 of 1 completed\n",
      "[*********************100%***********************]  1 of 1 completed\n",
      "[*********************100%***********************]  1 of 1 completed\n",
      "[*********************100%***********************]  1 of 1 completed\n",
      "[*********************100%***********************]  1 of 1 completed\n",
      "[*********************100%***********************]  1 of 1 completed\n",
      "[*********************100%***********************]  1 of 1 completed\n",
      "[*********************100%***********************]  1 of 1 completed\n",
      "[*********************100%***********************]  1 of 1 completed\n",
      "[*********************100%***********************]  1 of 1 completed\n",
      "[*********************100%***********************]  1 of 1 completed\n",
      "[*********************100%***********************]  1 of 1 completed\n",
      "[*********************100%***********************]  1 of 1 completed\n",
      "[*********************100%***********************]  1 of 1 completed\n",
      "[*********************100%***********************]  1 of 1 completed\n",
      "[*********************100%***********************]  1 of 1 completed\n",
      "[*********************100%***********************]  1 of 1 completed\n",
      "[*********************100%***********************]  1 of 1 completed\n",
      "[*********************100%***********************]  1 of 1 completed\n",
      "[*********************100%***********************]  1 of 1 completed\n",
      "[*********************100%***********************]  1 of 1 completed\n",
      "[*********************100%***********************]  1 of 1 completed\n",
      "[*********************100%***********************]  1 of 1 completed\n",
      "[*********************100%***********************]  1 of 1 completed\n",
      "[*********************100%***********************]  1 of 1 completed\n",
      "[*********************100%***********************]  1 of 1 completed\n",
      "[*********************100%***********************]  1 of 1 completed\n",
      "[*********************100%***********************]  1 of 1 completed\n",
      "[*********************100%***********************]  1 of 1 completed\n",
      "[*********************100%***********************]  1 of 1 completed\n",
      "[*********************100%***********************]  1 of 1 completed\n",
      "[*********************100%***********************]  1 of 1 completed\n",
      "[*********************100%***********************]  1 of 1 completed\n",
      "[*********************100%***********************]  1 of 1 completed\n",
      "[*********************100%***********************]  1 of 1 completed\n",
      "[*********************100%***********************]  1 of 1 completed\n",
      "[*********************100%***********************]  1 of 1 completed\n"
     ]
    },
    {
     "name": "stdout",
     "output_type": "stream",
     "text": [
      "[*********************100%***********************]  1 of 1 completed\n",
      "[*********************100%***********************]  1 of 1 completed\n",
      "[*********************100%***********************]  1 of 1 completed\n",
      "[*********************100%***********************]  1 of 1 completed\n",
      "[*********************100%***********************]  1 of 1 completed\n",
      "[*********************100%***********************]  1 of 1 completed\n",
      "[*********************100%***********************]  1 of 1 completed\n",
      "[*********************100%***********************]  1 of 1 completed\n",
      "[*********************100%***********************]  1 of 1 completed\n",
      "[*********************100%***********************]  1 of 1 completed\n",
      "[*********************100%***********************]  1 of 1 completed\n",
      "[*********************100%***********************]  1 of 1 completed\n",
      "[*********************100%***********************]  1 of 1 completed\n",
      "[*********************100%***********************]  1 of 1 completed\n",
      "[*********************100%***********************]  1 of 1 completed\n",
      "[*********************100%***********************]  1 of 1 completed\n",
      "[*********************100%***********************]  1 of 1 completed\n",
      "[*********************100%***********************]  1 of 1 completed\n",
      "[*********************100%***********************]  1 of 1 completed\n",
      "[*********************100%***********************]  1 of 1 completed\n",
      "[*********************100%***********************]  1 of 1 completed\n",
      "[*********************100%***********************]  1 of 1 completed\n",
      "[*********************100%***********************]  1 of 1 completed\n",
      "[*********************100%***********************]  1 of 1 completed\n",
      "[*********************100%***********************]  1 of 1 completed\n",
      "[*********************100%***********************]  1 of 1 completed\n",
      "[*********************100%***********************]  1 of 1 completed\n",
      "[*********************100%***********************]  1 of 1 completed\n",
      "[*********************100%***********************]  1 of 1 completed\n",
      "[*********************100%***********************]  1 of 1 completed\n",
      "[*********************100%***********************]  1 of 1 completed\n",
      "[*********************100%***********************]  1 of 1 completed\n",
      "[*********************100%***********************]  1 of 1 completed\n",
      "[*********************100%***********************]  1 of 1 completed\n",
      "[*********************100%***********************]  1 of 1 completed\n",
      "[*********************100%***********************]  1 of 1 completed\n",
      "[*********************100%***********************]  1 of 1 completed\n",
      "[*********************100%***********************]  1 of 1 completed\n",
      "[*********************100%***********************]  1 of 1 completed\n",
      "[*********************100%***********************]  1 of 1 completed\n",
      "[*********************100%***********************]  1 of 1 completed\n",
      "[*********************100%***********************]  1 of 1 completed\n",
      "[*********************100%***********************]  1 of 1 completed\n",
      "[*********************100%***********************]  1 of 1 completed\n",
      "[*********************100%***********************]  1 of 1 completed\n",
      "[*********************100%***********************]  1 of 1 completed\n",
      "[*********************100%***********************]  1 of 1 completed\n",
      "[*********************100%***********************]  1 of 1 completed\n",
      "[*********************100%***********************]  1 of 1 completed\n",
      "[*********************100%***********************]  1 of 1 completed\n",
      "[*********************100%***********************]  1 of 1 completed\n",
      "[*********************100%***********************]  1 of 1 completed\n",
      "[*********************100%***********************]  1 of 1 completed\n",
      "[*********************100%***********************]  1 of 1 completed\n",
      "[*********************100%***********************]  1 of 1 completed\n",
      "[*********************100%***********************]  1 of 1 completed\n",
      "[*********************100%***********************]  1 of 1 completed\n",
      "[*********************100%***********************]  1 of 1 completed\n",
      "[*********************100%***********************]  1 of 1 completed\n",
      "[*********************100%***********************]  1 of 1 completed\n",
      "[*********************100%***********************]  1 of 1 completed\n",
      "[*********************100%***********************]  1 of 1 completed\n",
      "[*********************100%***********************]  1 of 1 completed\n",
      "[*********************100%***********************]  1 of 1 completed\n",
      "[*********************100%***********************]  1 of 1 completed\n",
      "[*********************100%***********************]  1 of 1 completed\n",
      "[*********************100%***********************]  1 of 1 completed\n",
      "[*********************100%***********************]  1 of 1 completed\n",
      "[*********************100%***********************]  1 of 1 completed\n",
      "[*********************100%***********************]  1 of 1 completed\n",
      "[*********************100%***********************]  1 of 1 completed\n",
      "[*********************100%***********************]  1 of 1 completed\n",
      "[*********************100%***********************]  1 of 1 completed\n",
      "[*********************100%***********************]  1 of 1 completed\n",
      "[*********************100%***********************]  1 of 1 completed\n",
      "[*********************100%***********************]  1 of 1 completed\n",
      "[*********************100%***********************]  1 of 1 completed\n",
      "[*********************100%***********************]  1 of 1 completed\n",
      "[*********************100%***********************]  1 of 1 completed\n",
      "[*********************100%***********************]  1 of 1 completed\n",
      "[*********************100%***********************]  1 of 1 completed\n",
      "[*********************100%***********************]  1 of 1 completed\n",
      "[*********************100%***********************]  1 of 1 completed\n",
      "[*********************100%***********************]  1 of 1 completed\n",
      "[*********************100%***********************]  1 of 1 completed\n",
      "[*********************100%***********************]  1 of 1 completed\n",
      "[*********************100%***********************]  1 of 1 completed\n",
      "[*********************100%***********************]  1 of 1 completed\n",
      "[*********************100%***********************]  1 of 1 completed\n",
      "[*********************100%***********************]  1 of 1 completed\n",
      "[*********************100%***********************]  1 of 1 completed\n",
      "[*********************100%***********************]  1 of 1 completed\n",
      "[*********************100%***********************]  1 of 1 completed\n",
      "[*********************100%***********************]  1 of 1 completed\n",
      "[*********************100%***********************]  1 of 1 completed\n",
      "[*********************100%***********************]  1 of 1 completed\n",
      "[*********************100%***********************]  1 of 1 completed\n",
      "[*********************100%***********************]  1 of 1 completed\n",
      "[*********************100%***********************]  1 of 1 completed\n",
      "[*********************100%***********************]  1 of 1 completed\n",
      "[*********************100%***********************]  1 of 1 completed\n",
      "[*********************100%***********************]  1 of 1 completed\n"
     ]
    },
    {
     "ename": "KeyboardInterrupt",
     "evalue": "",
     "output_type": "error",
     "traceback": [
      "\u001b[1;31m---------------------------------------------------------------------------\u001b[0m",
      "\u001b[1;31mKeyboardInterrupt\u001b[0m                         Traceback (most recent call last)",
      "\u001b[1;32m<ipython-input-93-acb222c94dd7>\u001b[0m in \u001b[0;36m<module>\u001b[1;34m\u001b[0m\n\u001b[0;32m     23\u001b[0m \u001b[0mstart_date\u001b[0m \u001b[1;33m=\u001b[0m \u001b[0mdatetime\u001b[0m\u001b[1;33m.\u001b[0m\u001b[0mdatetime\u001b[0m\u001b[1;33m(\u001b[0m\u001b[1;36m2020\u001b[0m\u001b[1;33m,\u001b[0m\u001b[1;36m1\u001b[0m\u001b[1;33m,\u001b[0m\u001b[1;36m1\u001b[0m\u001b[1;33m,\u001b[0m \u001b[1;36m0\u001b[0m\u001b[1;33m,\u001b[0m \u001b[1;36m0\u001b[0m\u001b[1;33m,\u001b[0m \u001b[1;36m0\u001b[0m\u001b[1;33m,\u001b[0m \u001b[1;36m0\u001b[0m\u001b[1;33m)\u001b[0m\u001b[1;33m\u001b[0m\u001b[1;33m\u001b[0m\u001b[0m\n\u001b[0;32m     24\u001b[0m \u001b[1;32mfor\u001b[0m \u001b[0mi\u001b[0m \u001b[1;32min\u001b[0m \u001b[0mrange\u001b[0m \u001b[1;33m(\u001b[0m\u001b[1;36m0\u001b[0m\u001b[1;33m,\u001b[0m\u001b[1;36m760\u001b[0m\u001b[1;33m)\u001b[0m\u001b[1;33m:\u001b[0m\u001b[1;33m\u001b[0m\u001b[1;33m\u001b[0m\u001b[0m\n\u001b[1;32m---> 25\u001b[1;33m   \u001b[0mres\u001b[0m\u001b[1;33m.\u001b[0m\u001b[0mappend\u001b[0m\u001b[1;33m(\u001b[0m\u001b[0mget_index_values_per_dates\u001b[0m\u001b[1;33m(\u001b[0m\u001b[0mstart_date\u001b[0m\u001b[1;33m,\u001b[0m \u001b[0mweights_df\u001b[0m\u001b[1;33m)\u001b[0m\u001b[1;33m)\u001b[0m\u001b[1;33m\u001b[0m\u001b[1;33m\u001b[0m\u001b[0m\n\u001b[0m\u001b[0;32m     26\u001b[0m   \u001b[0mstart_date\u001b[0m \u001b[1;33m=\u001b[0m \u001b[0mstart_date\u001b[0m \u001b[1;33m+\u001b[0m \u001b[0mtimedelta\u001b[0m\u001b[1;33m(\u001b[0m\u001b[0mdays\u001b[0m\u001b[1;33m=\u001b[0m\u001b[1;36m1\u001b[0m\u001b[1;33m)\u001b[0m\u001b[1;33m\u001b[0m\u001b[1;33m\u001b[0m\u001b[0m\n\u001b[0;32m     27\u001b[0m \u001b[0mres_df\u001b[0m \u001b[1;33m=\u001b[0m \u001b[0mpd\u001b[0m\u001b[1;33m.\u001b[0m\u001b[0mDataFrame\u001b[0m\u001b[1;33m(\u001b[0m\u001b[0mres\u001b[0m\u001b[1;33m)\u001b[0m\u001b[1;33m\u001b[0m\u001b[1;33m\u001b[0m\u001b[0m\n",
      "\u001b[1;32m<ipython-input-93-acb222c94dd7>\u001b[0m in \u001b[0;36mget_index_values_per_dates\u001b[1;34m(start_date, weights_df)\u001b[0m\n\u001b[0;32m     11\u001b[0m \u001b[1;33m\u001b[0m\u001b[0m\n\u001b[0;32m     12\u001b[0m \u001b[1;32mdef\u001b[0m \u001b[0mget_index_values_per_dates\u001b[0m\u001b[1;33m(\u001b[0m\u001b[0mstart_date\u001b[0m\u001b[1;33m,\u001b[0m  \u001b[0mweights_df\u001b[0m\u001b[1;33m)\u001b[0m\u001b[1;33m:\u001b[0m\u001b[1;33m\u001b[0m\u001b[1;33m\u001b[0m\u001b[0m\n\u001b[1;32m---> 13\u001b[1;33m   \u001b[0mweights_df\u001b[0m\u001b[1;33m[\u001b[0m\u001b[1;34m'date_prices'\u001b[0m\u001b[1;33m]\u001b[0m  \u001b[1;33m=\u001b[0m \u001b[0mweights_df\u001b[0m\u001b[1;33m.\u001b[0m\u001b[0mapply\u001b[0m\u001b[1;33m(\u001b[0m\u001b[1;32mlambda\u001b[0m \u001b[0mrow\u001b[0m\u001b[1;33m:\u001b[0m \u001b[0mget_price_per_date\u001b[0m\u001b[1;33m(\u001b[0m\u001b[0mrow\u001b[0m\u001b[1;33m[\u001b[0m\u001b[1;34m'stock'\u001b[0m\u001b[1;33m]\u001b[0m\u001b[1;33m,\u001b[0m \u001b[0mstart_date\u001b[0m\u001b[1;33m)\u001b[0m\u001b[1;33m,\u001b[0m \u001b[0maxis\u001b[0m \u001b[1;33m=\u001b[0m \u001b[1;36m1\u001b[0m\u001b[1;33m)\u001b[0m\u001b[1;33m\u001b[0m\u001b[1;33m\u001b[0m\u001b[0m\n\u001b[0m\u001b[0;32m     14\u001b[0m   \u001b[0mweights_df\u001b[0m\u001b[1;33m[\u001b[0m\u001b[1;34m'open_price_date'\u001b[0m\u001b[1;33m]\u001b[0m \u001b[1;33m=\u001b[0m  \u001b[0mweights_df\u001b[0m\u001b[1;33m[\u001b[0m\u001b[1;34m'date_prices'\u001b[0m\u001b[1;33m]\u001b[0m\u001b[1;33m.\u001b[0m\u001b[0mapply\u001b[0m\u001b[1;33m(\u001b[0m\u001b[1;32mlambda\u001b[0m \u001b[0mx\u001b[0m\u001b[1;33m:\u001b[0m \u001b[0mx\u001b[0m\u001b[1;33m.\u001b[0m\u001b[0mget\u001b[0m\u001b[1;33m(\u001b[0m\u001b[1;34m'open'\u001b[0m\u001b[1;33m)\u001b[0m \u001b[1;32mif\u001b[0m \u001b[0mtype\u001b[0m\u001b[1;33m(\u001b[0m\u001b[0mx\u001b[0m\u001b[1;33m)\u001b[0m\u001b[1;33m==\u001b[0m\u001b[0mdict\u001b[0m \u001b[1;32melse\u001b[0m \u001b[1;32mNone\u001b[0m\u001b[1;33m)\u001b[0m\u001b[1;33m\u001b[0m\u001b[1;33m\u001b[0m\u001b[0m\n\u001b[0;32m     15\u001b[0m   \u001b[0mweights_df\u001b[0m\u001b[1;33m[\u001b[0m\u001b[1;34m'close_price_date'\u001b[0m\u001b[1;33m]\u001b[0m \u001b[1;33m=\u001b[0m  \u001b[0mweights_df\u001b[0m\u001b[1;33m[\u001b[0m\u001b[1;34m'date_prices'\u001b[0m\u001b[1;33m]\u001b[0m\u001b[1;33m.\u001b[0m\u001b[0mapply\u001b[0m\u001b[1;33m(\u001b[0m\u001b[1;32mlambda\u001b[0m \u001b[0mx\u001b[0m\u001b[1;33m:\u001b[0m \u001b[0mx\u001b[0m\u001b[1;33m.\u001b[0m\u001b[0mget\u001b[0m\u001b[1;33m(\u001b[0m\u001b[1;34m'close'\u001b[0m \u001b[1;33m)\u001b[0m\u001b[1;32mif\u001b[0m \u001b[0mtype\u001b[0m\u001b[1;33m(\u001b[0m\u001b[0mx\u001b[0m\u001b[1;33m)\u001b[0m\u001b[1;33m==\u001b[0m\u001b[0mdict\u001b[0m \u001b[1;32melse\u001b[0m \u001b[1;32mNone\u001b[0m\u001b[1;33m)\u001b[0m\u001b[1;33m\u001b[0m\u001b[1;33m\u001b[0m\u001b[0m\n",
      "\u001b[1;32mC:\\Anaconda3\\lib\\site-packages\\pandas\\core\\frame.py\u001b[0m in \u001b[0;36mapply\u001b[1;34m(self, func, axis, raw, result_type, args, **kwds)\u001b[0m\n\u001b[0;32m   7766\u001b[0m             \u001b[0mkwds\u001b[0m\u001b[1;33m=\u001b[0m\u001b[0mkwds\u001b[0m\u001b[1;33m,\u001b[0m\u001b[1;33m\u001b[0m\u001b[1;33m\u001b[0m\u001b[0m\n\u001b[0;32m   7767\u001b[0m         )\n\u001b[1;32m-> 7768\u001b[1;33m         \u001b[1;32mreturn\u001b[0m \u001b[0mop\u001b[0m\u001b[1;33m.\u001b[0m\u001b[0mget_result\u001b[0m\u001b[1;33m(\u001b[0m\u001b[1;33m)\u001b[0m\u001b[1;33m\u001b[0m\u001b[1;33m\u001b[0m\u001b[0m\n\u001b[0m\u001b[0;32m   7769\u001b[0m \u001b[1;33m\u001b[0m\u001b[0m\n\u001b[0;32m   7770\u001b[0m     \u001b[1;32mdef\u001b[0m \u001b[0mapplymap\u001b[0m\u001b[1;33m(\u001b[0m\u001b[0mself\u001b[0m\u001b[1;33m,\u001b[0m \u001b[0mfunc\u001b[0m\u001b[1;33m,\u001b[0m \u001b[0mna_action\u001b[0m\u001b[1;33m:\u001b[0m \u001b[0mOptional\u001b[0m\u001b[1;33m[\u001b[0m\u001b[0mstr\u001b[0m\u001b[1;33m]\u001b[0m \u001b[1;33m=\u001b[0m \u001b[1;32mNone\u001b[0m\u001b[1;33m)\u001b[0m \u001b[1;33m->\u001b[0m \u001b[0mDataFrame\u001b[0m\u001b[1;33m:\u001b[0m\u001b[1;33m\u001b[0m\u001b[1;33m\u001b[0m\u001b[0m\n",
      "\u001b[1;32mC:\\Anaconda3\\lib\\site-packages\\pandas\\core\\apply.py\u001b[0m in \u001b[0;36mget_result\u001b[1;34m(self)\u001b[0m\n\u001b[0;32m    183\u001b[0m             \u001b[1;32mreturn\u001b[0m \u001b[0mself\u001b[0m\u001b[1;33m.\u001b[0m\u001b[0mapply_raw\u001b[0m\u001b[1;33m(\u001b[0m\u001b[1;33m)\u001b[0m\u001b[1;33m\u001b[0m\u001b[1;33m\u001b[0m\u001b[0m\n\u001b[0;32m    184\u001b[0m \u001b[1;33m\u001b[0m\u001b[0m\n\u001b[1;32m--> 185\u001b[1;33m         \u001b[1;32mreturn\u001b[0m \u001b[0mself\u001b[0m\u001b[1;33m.\u001b[0m\u001b[0mapply_standard\u001b[0m\u001b[1;33m(\u001b[0m\u001b[1;33m)\u001b[0m\u001b[1;33m\u001b[0m\u001b[1;33m\u001b[0m\u001b[0m\n\u001b[0m\u001b[0;32m    186\u001b[0m \u001b[1;33m\u001b[0m\u001b[0m\n\u001b[0;32m    187\u001b[0m     \u001b[1;32mdef\u001b[0m \u001b[0mapply_empty_result\u001b[0m\u001b[1;33m(\u001b[0m\u001b[0mself\u001b[0m\u001b[1;33m)\u001b[0m\u001b[1;33m:\u001b[0m\u001b[1;33m\u001b[0m\u001b[1;33m\u001b[0m\u001b[0m\n",
      "\u001b[1;32mC:\\Anaconda3\\lib\\site-packages\\pandas\\core\\apply.py\u001b[0m in \u001b[0;36mapply_standard\u001b[1;34m(self)\u001b[0m\n\u001b[0;32m    274\u001b[0m \u001b[1;33m\u001b[0m\u001b[0m\n\u001b[0;32m    275\u001b[0m     \u001b[1;32mdef\u001b[0m \u001b[0mapply_standard\u001b[0m\u001b[1;33m(\u001b[0m\u001b[0mself\u001b[0m\u001b[1;33m)\u001b[0m\u001b[1;33m:\u001b[0m\u001b[1;33m\u001b[0m\u001b[1;33m\u001b[0m\u001b[0m\n\u001b[1;32m--> 276\u001b[1;33m         \u001b[0mresults\u001b[0m\u001b[1;33m,\u001b[0m \u001b[0mres_index\u001b[0m \u001b[1;33m=\u001b[0m \u001b[0mself\u001b[0m\u001b[1;33m.\u001b[0m\u001b[0mapply_series_generator\u001b[0m\u001b[1;33m(\u001b[0m\u001b[1;33m)\u001b[0m\u001b[1;33m\u001b[0m\u001b[1;33m\u001b[0m\u001b[0m\n\u001b[0m\u001b[0;32m    277\u001b[0m \u001b[1;33m\u001b[0m\u001b[0m\n\u001b[0;32m    278\u001b[0m         \u001b[1;31m# wrap results\u001b[0m\u001b[1;33m\u001b[0m\u001b[1;33m\u001b[0m\u001b[1;33m\u001b[0m\u001b[0m\n",
      "\u001b[1;32mC:\\Anaconda3\\lib\\site-packages\\pandas\\core\\apply.py\u001b[0m in \u001b[0;36mapply_series_generator\u001b[1;34m(self)\u001b[0m\n\u001b[0;32m    288\u001b[0m             \u001b[1;32mfor\u001b[0m \u001b[0mi\u001b[0m\u001b[1;33m,\u001b[0m \u001b[0mv\u001b[0m \u001b[1;32min\u001b[0m \u001b[0menumerate\u001b[0m\u001b[1;33m(\u001b[0m\u001b[0mseries_gen\u001b[0m\u001b[1;33m)\u001b[0m\u001b[1;33m:\u001b[0m\u001b[1;33m\u001b[0m\u001b[1;33m\u001b[0m\u001b[0m\n\u001b[0;32m    289\u001b[0m                 \u001b[1;31m# ignore SettingWithCopy here in case the user mutates\u001b[0m\u001b[1;33m\u001b[0m\u001b[1;33m\u001b[0m\u001b[1;33m\u001b[0m\u001b[0m\n\u001b[1;32m--> 290\u001b[1;33m                 \u001b[0mresults\u001b[0m\u001b[1;33m[\u001b[0m\u001b[0mi\u001b[0m\u001b[1;33m]\u001b[0m \u001b[1;33m=\u001b[0m \u001b[0mself\u001b[0m\u001b[1;33m.\u001b[0m\u001b[0mf\u001b[0m\u001b[1;33m(\u001b[0m\u001b[0mv\u001b[0m\u001b[1;33m)\u001b[0m\u001b[1;33m\u001b[0m\u001b[1;33m\u001b[0m\u001b[0m\n\u001b[0m\u001b[0;32m    291\u001b[0m                 \u001b[1;32mif\u001b[0m \u001b[0misinstance\u001b[0m\u001b[1;33m(\u001b[0m\u001b[0mresults\u001b[0m\u001b[1;33m[\u001b[0m\u001b[0mi\u001b[0m\u001b[1;33m]\u001b[0m\u001b[1;33m,\u001b[0m \u001b[0mABCSeries\u001b[0m\u001b[1;33m)\u001b[0m\u001b[1;33m:\u001b[0m\u001b[1;33m\u001b[0m\u001b[1;33m\u001b[0m\u001b[0m\n\u001b[0;32m    292\u001b[0m                     \u001b[1;31m# If we have a view on v, we need to make a copy because\u001b[0m\u001b[1;33m\u001b[0m\u001b[1;33m\u001b[0m\u001b[1;33m\u001b[0m\u001b[0m\n",
      "\u001b[1;32m<ipython-input-93-acb222c94dd7>\u001b[0m in \u001b[0;36m<lambda>\u001b[1;34m(row)\u001b[0m\n\u001b[0;32m     11\u001b[0m \u001b[1;33m\u001b[0m\u001b[0m\n\u001b[0;32m     12\u001b[0m \u001b[1;32mdef\u001b[0m \u001b[0mget_index_values_per_dates\u001b[0m\u001b[1;33m(\u001b[0m\u001b[0mstart_date\u001b[0m\u001b[1;33m,\u001b[0m  \u001b[0mweights_df\u001b[0m\u001b[1;33m)\u001b[0m\u001b[1;33m:\u001b[0m\u001b[1;33m\u001b[0m\u001b[1;33m\u001b[0m\u001b[0m\n\u001b[1;32m---> 13\u001b[1;33m   \u001b[0mweights_df\u001b[0m\u001b[1;33m[\u001b[0m\u001b[1;34m'date_prices'\u001b[0m\u001b[1;33m]\u001b[0m  \u001b[1;33m=\u001b[0m \u001b[0mweights_df\u001b[0m\u001b[1;33m.\u001b[0m\u001b[0mapply\u001b[0m\u001b[1;33m(\u001b[0m\u001b[1;32mlambda\u001b[0m \u001b[0mrow\u001b[0m\u001b[1;33m:\u001b[0m \u001b[0mget_price_per_date\u001b[0m\u001b[1;33m(\u001b[0m\u001b[0mrow\u001b[0m\u001b[1;33m[\u001b[0m\u001b[1;34m'stock'\u001b[0m\u001b[1;33m]\u001b[0m\u001b[1;33m,\u001b[0m \u001b[0mstart_date\u001b[0m\u001b[1;33m)\u001b[0m\u001b[1;33m,\u001b[0m \u001b[0maxis\u001b[0m \u001b[1;33m=\u001b[0m \u001b[1;36m1\u001b[0m\u001b[1;33m)\u001b[0m\u001b[1;33m\u001b[0m\u001b[1;33m\u001b[0m\u001b[0m\n\u001b[0m\u001b[0;32m     14\u001b[0m   \u001b[0mweights_df\u001b[0m\u001b[1;33m[\u001b[0m\u001b[1;34m'open_price_date'\u001b[0m\u001b[1;33m]\u001b[0m \u001b[1;33m=\u001b[0m  \u001b[0mweights_df\u001b[0m\u001b[1;33m[\u001b[0m\u001b[1;34m'date_prices'\u001b[0m\u001b[1;33m]\u001b[0m\u001b[1;33m.\u001b[0m\u001b[0mapply\u001b[0m\u001b[1;33m(\u001b[0m\u001b[1;32mlambda\u001b[0m \u001b[0mx\u001b[0m\u001b[1;33m:\u001b[0m \u001b[0mx\u001b[0m\u001b[1;33m.\u001b[0m\u001b[0mget\u001b[0m\u001b[1;33m(\u001b[0m\u001b[1;34m'open'\u001b[0m\u001b[1;33m)\u001b[0m \u001b[1;32mif\u001b[0m \u001b[0mtype\u001b[0m\u001b[1;33m(\u001b[0m\u001b[0mx\u001b[0m\u001b[1;33m)\u001b[0m\u001b[1;33m==\u001b[0m\u001b[0mdict\u001b[0m \u001b[1;32melse\u001b[0m \u001b[1;32mNone\u001b[0m\u001b[1;33m)\u001b[0m\u001b[1;33m\u001b[0m\u001b[1;33m\u001b[0m\u001b[0m\n\u001b[0;32m     15\u001b[0m   \u001b[0mweights_df\u001b[0m\u001b[1;33m[\u001b[0m\u001b[1;34m'close_price_date'\u001b[0m\u001b[1;33m]\u001b[0m \u001b[1;33m=\u001b[0m  \u001b[0mweights_df\u001b[0m\u001b[1;33m[\u001b[0m\u001b[1;34m'date_prices'\u001b[0m\u001b[1;33m]\u001b[0m\u001b[1;33m.\u001b[0m\u001b[0mapply\u001b[0m\u001b[1;33m(\u001b[0m\u001b[1;32mlambda\u001b[0m \u001b[0mx\u001b[0m\u001b[1;33m:\u001b[0m \u001b[0mx\u001b[0m\u001b[1;33m.\u001b[0m\u001b[0mget\u001b[0m\u001b[1;33m(\u001b[0m\u001b[1;34m'close'\u001b[0m \u001b[1;33m)\u001b[0m\u001b[1;32mif\u001b[0m \u001b[0mtype\u001b[0m\u001b[1;33m(\u001b[0m\u001b[0mx\u001b[0m\u001b[1;33m)\u001b[0m\u001b[1;33m==\u001b[0m\u001b[0mdict\u001b[0m \u001b[1;32melse\u001b[0m \u001b[1;32mNone\u001b[0m\u001b[1;33m)\u001b[0m\u001b[1;33m\u001b[0m\u001b[1;33m\u001b[0m\u001b[0m\n",
      "\u001b[1;32m<ipython-input-93-acb222c94dd7>\u001b[0m in \u001b[0;36mget_price_per_date\u001b[1;34m(stock, date)\u001b[0m\n\u001b[0;32m      1\u001b[0m \u001b[1;32mfrom\u001b[0m \u001b[0mdatetime\u001b[0m \u001b[1;32mimport\u001b[0m \u001b[0mtimedelta\u001b[0m\u001b[1;33m\u001b[0m\u001b[1;33m\u001b[0m\u001b[0m\n\u001b[0;32m      2\u001b[0m \u001b[1;32mdef\u001b[0m \u001b[0mget_price_per_date\u001b[0m\u001b[1;33m(\u001b[0m\u001b[0mstock\u001b[0m\u001b[1;33m,\u001b[0m \u001b[0mdate\u001b[0m\u001b[1;33m)\u001b[0m\u001b[1;33m:\u001b[0m\u001b[1;33m\u001b[0m\u001b[1;33m\u001b[0m\u001b[0m\n\u001b[1;32m----> 3\u001b[1;33m   \u001b[0mdf_res\u001b[0m \u001b[1;33m=\u001b[0m \u001b[0mpdr\u001b[0m\u001b[1;33m.\u001b[0m\u001b[0mget_data_yahoo\u001b[0m\u001b[1;33m(\u001b[0m\u001b[0mstock\u001b[0m\u001b[1;33m,\u001b[0m \u001b[0mstart\u001b[0m\u001b[1;33m=\u001b[0m\u001b[0mdate\u001b[0m\u001b[1;33m,\u001b[0m \u001b[0mend\u001b[0m\u001b[1;33m=\u001b[0m\u001b[0mdate\u001b[0m\u001b[1;33m)\u001b[0m\u001b[1;33m\u001b[0m\u001b[1;33m\u001b[0m\u001b[0m\n\u001b[0m\u001b[0;32m      4\u001b[0m   \u001b[0mdf_res\u001b[0m\u001b[1;33m.\u001b[0m\u001b[0mreset_index\u001b[0m\u001b[1;33m(\u001b[0m\u001b[0minplace\u001b[0m\u001b[1;33m=\u001b[0m\u001b[1;32mTrue\u001b[0m\u001b[1;33m)\u001b[0m\u001b[1;33m\u001b[0m\u001b[1;33m\u001b[0m\u001b[0m\n\u001b[0;32m      5\u001b[0m   \u001b[1;32mif\u001b[0m \u001b[0mtype\u001b[0m\u001b[1;33m(\u001b[0m\u001b[0mdf_res\u001b[0m\u001b[1;33m)\u001b[0m \u001b[1;33m==\u001b[0m \u001b[0mpd\u001b[0m\u001b[1;33m.\u001b[0m\u001b[0mDataFrame\u001b[0m\u001b[1;33m:\u001b[0m\u001b[1;33m\u001b[0m\u001b[1;33m\u001b[0m\u001b[0m\n",
      "\u001b[1;32mC:\\Anaconda3\\lib\\site-packages\\yfinance\\multi.py\u001b[0m in \u001b[0;36mdownload\u001b[1;34m(tickers, start, end, actions, threads, group_by, auto_adjust, back_adjust, progress, period, show_errors, interval, prepost, proxy, rounding, **kwargs)\u001b[0m\n\u001b[0;32m     95\u001b[0m                                    rounding=rounding)\n\u001b[0;32m     96\u001b[0m         \u001b[1;32mwhile\u001b[0m \u001b[0mlen\u001b[0m\u001b[1;33m(\u001b[0m\u001b[0mshared\u001b[0m\u001b[1;33m.\u001b[0m\u001b[0m_DFS\u001b[0m\u001b[1;33m)\u001b[0m \u001b[1;33m<\u001b[0m \u001b[0mlen\u001b[0m\u001b[1;33m(\u001b[0m\u001b[0mtickers\u001b[0m\u001b[1;33m)\u001b[0m\u001b[1;33m:\u001b[0m\u001b[1;33m\u001b[0m\u001b[1;33m\u001b[0m\u001b[0m\n\u001b[1;32m---> 97\u001b[1;33m             \u001b[0m_time\u001b[0m\u001b[1;33m.\u001b[0m\u001b[0msleep\u001b[0m\u001b[1;33m(\u001b[0m\u001b[1;36m0.01\u001b[0m\u001b[1;33m)\u001b[0m\u001b[1;33m\u001b[0m\u001b[1;33m\u001b[0m\u001b[0m\n\u001b[0m\u001b[0;32m     98\u001b[0m \u001b[1;33m\u001b[0m\u001b[0m\n\u001b[0;32m     99\u001b[0m     \u001b[1;31m# download synchronously\u001b[0m\u001b[1;33m\u001b[0m\u001b[1;33m\u001b[0m\u001b[1;33m\u001b[0m\u001b[0m\n",
      "\u001b[1;31mKeyboardInterrupt\u001b[0m: "
     ]
    }
   ],
   "source": [
    "from datetime import timedelta\n",
    "def get_price_per_date(stock, date): \n",
    "  df_res = pdr.get_data_yahoo(stock, start=date, end=date)\n",
    "  df_res.reset_index(inplace=True)\n",
    "  if type(df_res) == pd.DataFrame:\n",
    "    if len(df_res) > 0:\n",
    "      return {'open':df_res.at[0, 'Open'], 'close': df_res.at[0, 'Close']}\n",
    "  else:\n",
    "    return {}\n",
    "\n",
    "\n",
    "def get_index_values_per_dates(start_date,  weights_df):\n",
    "  weights_df['date_prices']  = weights_df.apply(lambda row: get_price_per_date(row['stock'], start_date), axis = 1)\n",
    "  weights_df['open_price_date'] =  weights_df['date_prices'].apply(lambda x: x.get('open') if type(x)==dict else None)\n",
    "  weights_df['close_price_date'] =  weights_df['date_prices'].apply(lambda x: x.get('close' )if type(x)==dict else None)\n",
    "  weights_df['divisor'] = weights_df['close_price_date'] / weights_df['open_price_date'] \n",
    "  weights_df['stock_value_index'] = weights_df['final_weight'] * weights_df['divisor']\n",
    "  weights_df.dropna(inplace=True)\n",
    "  weights_df = weights_df[weights_df['open_price_date']>0]\n",
    "  return {'start': start_date, 'index_value': weights_df[\"stock_value_index\"].sum()}\n",
    "\n",
    "res = []\n",
    "start_date = datetime.datetime(2020,1,1, 0, 0, 0, 0)\n",
    "for i in range (0,760):\n",
    "  res.append(get_index_values_per_dates(start_date, weights_df))\n",
    "  start_date = start_date + timedelta(days=1)\n",
    "res_df = pd.DataFrame(res)\n"
   ]
  },
  {
   "cell_type": "code",
   "execution_count": 94,
   "metadata": {
    "colab": {
     "base_uri": "https://localhost:8080/"
    },
    "executionInfo": {
     "elapsed": 240,
     "status": "ok",
     "timestamp": 1646176586551,
     "user": {
      "displayName": "Melvin Villafane",
      "photoUrl": "https://lh3.googleusercontent.com/a/default-user=s64",
      "userId": "02025715377408414002"
     },
     "user_tz": -60
    },
    "id": "j-VzySg-ShUL",
    "outputId": "625820f3-d9cf-42af-d4ed-13d1453b033f"
   },
   "outputs": [
    {
     "ename": "NameError",
     "evalue": "name 'res_df' is not defined",
     "output_type": "error",
     "traceback": [
      "\u001b[1;31m---------------------------------------------------------------------------\u001b[0m",
      "\u001b[1;31mNameError\u001b[0m                                 Traceback (most recent call last)",
      "\u001b[1;32m<ipython-input-94-19d570777879>\u001b[0m in \u001b[0;36m<module>\u001b[1;34m\u001b[0m\n\u001b[1;32m----> 1\u001b[1;33m \u001b[0mprint\u001b[0m\u001b[1;33m(\u001b[0m\u001b[0mres_df\u001b[0m\u001b[1;33m)\u001b[0m\u001b[1;33m\u001b[0m\u001b[1;33m\u001b[0m\u001b[0m\n\u001b[0m",
      "\u001b[1;31mNameError\u001b[0m: name 'res_df' is not defined"
     ]
    }
   ],
   "source": [
    "print(res_df)"
   ]
  },
  {
   "cell_type": "code",
   "execution_count": null,
   "metadata": {
    "id": "Z8MhfSBE9haR"
   },
   "outputs": [],
   "source": [
    "res_df[\"CMBD50\"] = res_df[\"index_value\"] * 10000"
   ]
  },
  {
   "cell_type": "code",
   "execution_count": null,
   "metadata": {
    "colab": {
     "base_uri": "https://localhost:8080/",
     "height": 423
    },
    "executionInfo": {
     "elapsed": 235,
     "status": "ok",
     "timestamp": 1646176611035,
     "user": {
      "displayName": "Melvin Villafane",
      "photoUrl": "https://lh3.googleusercontent.com/a/default-user=s64",
      "userId": "02025715377408414002"
     },
     "user_tz": -60
    },
    "id": "Ls9EzBpjRmL8",
    "outputId": "218e667f-34b4-4650-9e37-d285d0bdfa62"
   },
   "outputs": [],
   "source": [
    "res_df"
   ]
  },
  {
   "cell_type": "code",
   "execution_count": null,
   "metadata": {
    "id": "J_z5hAcExg0_"
   },
   "outputs": [],
   "source": [
    "res_df.to_csv(\"datasets/CMBD50.csv\")"
   ]
  },
  {
   "cell_type": "code",
   "execution_count": 95,
   "metadata": {
    "executionInfo": {
     "elapsed": 782,
     "status": "ok",
     "timestamp": 1646262403302,
     "user": {
      "displayName": "Melvin Villafane",
      "photoUrl": "https://lh3.googleusercontent.com/a/default-user=s64",
      "userId": "02025715377408414002"
     },
     "user_tz": -60
    },
    "id": "Inn1k29SHmOK"
   },
   "outputs": [],
   "source": [
    "CMBD50 = pd.read_csv(\"datasets/CMBD50.csv\", index_col = 0)\n",
    "CMBD50.index = pd.to_datetime(CMBD50.start)"
   ]
  },
  {
   "cell_type": "code",
   "execution_count": 96,
   "metadata": {
    "executionInfo": {
     "elapsed": 320,
     "status": "ok",
     "timestamp": 1646262406950,
     "user": {
      "displayName": "Melvin Villafane",
      "photoUrl": "https://lh3.googleusercontent.com/a/default-user=s64",
      "userId": "02025715377408414002"
     },
     "user_tz": -60
    },
    "id": "pCpOveVRHpn6"
   },
   "outputs": [],
   "source": [
    "CMBD50 = CMBD50.drop(columns= ['start'])"
   ]
  },
  {
   "cell_type": "code",
   "execution_count": 97,
   "metadata": {
    "colab": {
     "base_uri": "https://localhost:8080/",
     "height": 455
    },
    "executionInfo": {
     "elapsed": 331,
     "status": "ok",
     "timestamp": 1646262946910,
     "user": {
      "displayName": "Melvin Villafane",
      "photoUrl": "https://lh3.googleusercontent.com/a/default-user=s64",
      "userId": "02025715377408414002"
     },
     "user_tz": -60
    },
    "id": "xRhQRUOuK3Ty",
    "outputId": "25d02b11-8ebf-4730-8082-0dd25b50669f"
   },
   "outputs": [
    {
     "data": {
      "text/html": [
       "<div>\n",
       "<style scoped>\n",
       "    .dataframe tbody tr th:only-of-type {\n",
       "        vertical-align: middle;\n",
       "    }\n",
       "\n",
       "    .dataframe tbody tr th {\n",
       "        vertical-align: top;\n",
       "    }\n",
       "\n",
       "    .dataframe thead th {\n",
       "        text-align: right;\n",
       "    }\n",
       "</style>\n",
       "<table border=\"1\" class=\"dataframe\">\n",
       "  <thead>\n",
       "    <tr style=\"text-align: right;\">\n",
       "      <th></th>\n",
       "      <th>index_value</th>\n",
       "      <th>CMBD50</th>\n",
       "    </tr>\n",
       "    <tr>\n",
       "      <th>start</th>\n",
       "      <th></th>\n",
       "      <th></th>\n",
       "    </tr>\n",
       "  </thead>\n",
       "  <tbody>\n",
       "    <tr>\n",
       "      <th>2020-01-01</th>\n",
       "      <td>0.707481</td>\n",
       "      <td>7074.806237</td>\n",
       "    </tr>\n",
       "    <tr>\n",
       "      <th>2020-01-02</th>\n",
       "      <td>0.699635</td>\n",
       "      <td>6996.346435</td>\n",
       "    </tr>\n",
       "    <tr>\n",
       "      <th>2020-01-03</th>\n",
       "      <td>0.728255</td>\n",
       "      <td>7282.547482</td>\n",
       "    </tr>\n",
       "    <tr>\n",
       "      <th>2020-01-04</th>\n",
       "      <td>0.719847</td>\n",
       "      <td>7198.470415</td>\n",
       "    </tr>\n",
       "    <tr>\n",
       "      <th>2020-01-05</th>\n",
       "      <td>0.704993</td>\n",
       "      <td>7049.926394</td>\n",
       "    </tr>\n",
       "    <tr>\n",
       "      <th>...</th>\n",
       "      <td>...</td>\n",
       "      <td>...</td>\n",
       "    </tr>\n",
       "    <tr>\n",
       "      <th>2022-01-25</th>\n",
       "      <td>0.671916</td>\n",
       "      <td>6719.158890</td>\n",
       "    </tr>\n",
       "    <tr>\n",
       "      <th>2022-01-26</th>\n",
       "      <td>0.668484</td>\n",
       "      <td>6684.836944</td>\n",
       "    </tr>\n",
       "    <tr>\n",
       "      <th>2022-01-27</th>\n",
       "      <td>0.653755</td>\n",
       "      <td>6537.552345</td>\n",
       "    </tr>\n",
       "    <tr>\n",
       "      <th>2022-01-28</th>\n",
       "      <td>0.676011</td>\n",
       "      <td>6760.110127</td>\n",
       "    </tr>\n",
       "    <tr>\n",
       "      <th>2022-01-29</th>\n",
       "      <td>0.668793</td>\n",
       "      <td>6687.929405</td>\n",
       "    </tr>\n",
       "  </tbody>\n",
       "</table>\n",
       "<p>760 rows × 2 columns</p>\n",
       "</div>"
      ],
      "text/plain": [
       "            index_value       CMBD50\n",
       "start                               \n",
       "2020-01-01     0.707481  7074.806237\n",
       "2020-01-02     0.699635  6996.346435\n",
       "2020-01-03     0.728255  7282.547482\n",
       "2020-01-04     0.719847  7198.470415\n",
       "2020-01-05     0.704993  7049.926394\n",
       "...                 ...          ...\n",
       "2022-01-25     0.671916  6719.158890\n",
       "2022-01-26     0.668484  6684.836944\n",
       "2022-01-27     0.653755  6537.552345\n",
       "2022-01-28     0.676011  6760.110127\n",
       "2022-01-29     0.668793  6687.929405\n",
       "\n",
       "[760 rows x 2 columns]"
      ]
     },
     "execution_count": 97,
     "metadata": {},
     "output_type": "execute_result"
    }
   ],
   "source": [
    "CMBD50"
   ]
  },
  {
   "cell_type": "code",
   "execution_count": 98,
   "metadata": {
    "id": "I19rTQkoH2RC"
   },
   "outputs": [],
   "source": [
    "CCI30 = pd.read_csv('datasets/cci30_OHLCV.csv', index_col=0)\n",
    "CCI30.index = pd.to_datetime(CCI30.index)"
   ]
  },
  {
   "cell_type": "code",
   "execution_count": 99,
   "metadata": {
    "colab": {
     "base_uri": "https://localhost:8080/",
     "height": 238
    },
    "executionInfo": {
     "elapsed": 6,
     "status": "ok",
     "timestamp": 1646216058738,
     "user": {
      "displayName": "Melvin Villafane",
      "photoUrl": "https://lh3.googleusercontent.com/a/default-user=s64",
      "userId": "02025715377408414002"
     },
     "user_tz": -60
    },
    "id": "014fSbzdH4A4",
    "outputId": "a930ac59-c7f3-4d6a-b786-762745079107"
   },
   "outputs": [
    {
     "data": {
      "text/html": [
       "<div>\n",
       "<style scoped>\n",
       "    .dataframe tbody tr th:only-of-type {\n",
       "        vertical-align: middle;\n",
       "    }\n",
       "\n",
       "    .dataframe tbody tr th {\n",
       "        vertical-align: top;\n",
       "    }\n",
       "\n",
       "    .dataframe thead th {\n",
       "        text-align: right;\n",
       "    }\n",
       "</style>\n",
       "<table border=\"1\" class=\"dataframe\">\n",
       "  <thead>\n",
       "    <tr style=\"text-align: right;\">\n",
       "      <th></th>\n",
       "      <th>Open</th>\n",
       "      <th>High</th>\n",
       "      <th>Low</th>\n",
       "      <th>Close</th>\n",
       "      <th>Volume</th>\n",
       "    </tr>\n",
       "    <tr>\n",
       "      <th>Date</th>\n",
       "      <th></th>\n",
       "      <th></th>\n",
       "      <th></th>\n",
       "      <th></th>\n",
       "      <th></th>\n",
       "    </tr>\n",
       "  </thead>\n",
       "  <tbody>\n",
       "    <tr>\n",
       "      <th>2022-02-16</th>\n",
       "      <td>17515.5</td>\n",
       "      <td>18150.2</td>\n",
       "      <td>17094.9</td>\n",
       "      <td>17888.3</td>\n",
       "      <td>5.895838e+10</td>\n",
       "    </tr>\n",
       "    <tr>\n",
       "      <th>2022-02-15</th>\n",
       "      <td>16839.1</td>\n",
       "      <td>18088.8</td>\n",
       "      <td>16785.3</td>\n",
       "      <td>18003.8</td>\n",
       "      <td>6.016310e+10</td>\n",
       "    </tr>\n",
       "    <tr>\n",
       "      <th>2022-02-14</th>\n",
       "      <td>16720.3</td>\n",
       "      <td>17041.2</td>\n",
       "      <td>16297.5</td>\n",
       "      <td>16838.8</td>\n",
       "      <td>6.134623e+10</td>\n",
       "    </tr>\n",
       "    <tr>\n",
       "      <th>2022-02-13</th>\n",
       "      <td>16862.4</td>\n",
       "      <td>17238.9</td>\n",
       "      <td>16486.1</td>\n",
       "      <td>16734.4</td>\n",
       "      <td>5.193749e+10</td>\n",
       "    </tr>\n",
       "    <tr>\n",
       "      <th>2022-02-12</th>\n",
       "      <td>16804.6</td>\n",
       "      <td>17280.8</td>\n",
       "      <td>16429.2</td>\n",
       "      <td>16865.5</td>\n",
       "      <td>5.074447e+10</td>\n",
       "    </tr>\n",
       "  </tbody>\n",
       "</table>\n",
       "</div>"
      ],
      "text/plain": [
       "               Open     High      Low    Close        Volume\n",
       "Date                                                        \n",
       "2022-02-16  17515.5  18150.2  17094.9  17888.3  5.895838e+10\n",
       "2022-02-15  16839.1  18088.8  16785.3  18003.8  6.016310e+10\n",
       "2022-02-14  16720.3  17041.2  16297.5  16838.8  6.134623e+10\n",
       "2022-02-13  16862.4  17238.9  16486.1  16734.4  5.193749e+10\n",
       "2022-02-12  16804.6  17280.8  16429.2  16865.5  5.074447e+10"
      ]
     },
     "execution_count": 99,
     "metadata": {},
     "output_type": "execute_result"
    }
   ],
   "source": [
    "CCI30.head()"
   ]
  },
  {
   "cell_type": "code",
   "execution_count": 100,
   "metadata": {
    "executionInfo": {
     "elapsed": 305,
     "status": "ok",
     "timestamp": 1646263203023,
     "user": {
      "displayName": "Melvin Villafane",
      "photoUrl": "https://lh3.googleusercontent.com/a/default-user=s64",
      "userId": "02025715377408414002"
     },
     "user_tz": -60
    },
    "id": "OObUE47CLK--"
   },
   "outputs": [],
   "source": [
    "import datetime\n",
    "import pandas as pd\n",
    "import numpy as np\n",
    "from pandas_datareader import data as pdr\n",
    "import yfinance as yfin\n",
    "yfin.pdr_override()\n",
    "\n",
    "### this function isn't so good\n",
    "\n",
    "def covariance(a, b):\n",
    "    if len(a) != len(b):\n",
    "        return\n",
    "    a_mean = np.mean(a)\n",
    "    b_mean = np.mean(b)\n",
    "    sum = 0\n",
    "    for i in range(0, len(a)):\n",
    "        sum += ((a[i] - a_mean) * (b[i] - b_mean))\n",
    "    return sum/(len(a)-1)\n",
    "\n",
    "\n",
    "\n",
    "def calculate_beta(ticker_symbol, reference_index, start_date, end_date):\n",
    "    \"\"\" Monthly Beta calculation using historical series data for the ticker_symbol stock and \n",
    "    the reference_index for the periob between start_date and end_date \"\"\"\n",
    "    df_stock = CMBD50\n",
    "    df_index = pdr.get_data_yahoo(ticker_symbol, start=start_date, end=end_date)\n",
    "    df_stock = df_stock.resample('M').last()\n",
    "    df_index = df_index.resample('M').last()\n",
    "    df_stock['returns'] = df_stock['CMBD50']/ df_stock['CMBD50'].shift(1) -1\n",
    "    df_stock = df_stock.dropna()\n",
    "    df_index['returns'] = df_index['Close']/ df_index['Close'].shift(1) -1\n",
    "    df_index = df_index.dropna()\n",
    "    df = pd.DataFrame({'CMBD_INDEX' : df_stock['returns'],\n",
    "                            'CCI30_returns' : df_index['returns']},\n",
    "                            index=df_stock.index)\n",
    "    df = df.dropna()\n",
    "\n",
    "\n",
    "    numerator = covariance(df['CMBD_INDEX'],df['CCI30_returns'])\n",
    "    denominator = covariance(df['CCI30_returns'],df['CCI30_returns'])\n",
    "    beta = numerator/denominator\n",
    "    return {'stock': ticker_symbol, 'reference_index': 'BTC-USD', 'beta': beta}\n",
    "\n",
    "\n"
   ]
  },
  {
   "cell_type": "code",
   "execution_count": 101,
   "metadata": {
    "id": "JcTDfr6CKUkf"
   },
   "outputs": [],
   "source": [
    "df_results = df.reset_index()"
   ]
  },
  {
   "cell_type": "code",
   "execution_count": 103,
   "metadata": {
    "id": "cPYsyx1hKcv8"
   },
   "outputs": [],
   "source": [
    "df_results = df_results[[\"Date\", \"index_returns\"]]"
   ]
  },
  {
   "cell_type": "code",
   "execution_count": 104,
   "metadata": {
    "id": "vpPChiedKiqK"
   },
   "outputs": [],
   "source": [
    "df_results.to_csv('results/df_results.csv')"
   ]
  },
  {
   "cell_type": "code",
   "execution_count": 107,
   "metadata": {},
   "outputs": [
    {
     "data": {
      "text/html": [
       "<div>\n",
       "<style scoped>\n",
       "    .dataframe tbody tr th:only-of-type {\n",
       "        vertical-align: middle;\n",
       "    }\n",
       "\n",
       "    .dataframe tbody tr th {\n",
       "        vertical-align: top;\n",
       "    }\n",
       "\n",
       "    .dataframe thead th {\n",
       "        text-align: right;\n",
       "    }\n",
       "</style>\n",
       "<table border=\"1\" class=\"dataframe\">\n",
       "  <thead>\n",
       "    <tr style=\"text-align: right;\">\n",
       "      <th></th>\n",
       "      <th>Date</th>\n",
       "      <th>index_returns</th>\n",
       "    </tr>\n",
       "  </thead>\n",
       "  <tbody>\n",
       "    <tr>\n",
       "      <th>0</th>\n",
       "      <td>2017-12-31</td>\n",
       "      <td>1.438946</td>\n",
       "    </tr>\n",
       "    <tr>\n",
       "      <th>1</th>\n",
       "      <td>2018-01-31</td>\n",
       "      <td>-0.166225</td>\n",
       "    </tr>\n",
       "    <tr>\n",
       "      <th>2</th>\n",
       "      <td>2018-02-28</td>\n",
       "      <td>-0.189116</td>\n",
       "    </tr>\n",
       "    <tr>\n",
       "      <th>3</th>\n",
       "      <td>2018-03-31</td>\n",
       "      <td>-0.424873</td>\n",
       "    </tr>\n",
       "    <tr>\n",
       "      <th>4</th>\n",
       "      <td>2018-04-30</td>\n",
       "      <td>0.731018</td>\n",
       "    </tr>\n",
       "    <tr>\n",
       "      <th>5</th>\n",
       "      <td>2018-05-31</td>\n",
       "      <td>-0.272209</td>\n",
       "    </tr>\n",
       "    <tr>\n",
       "      <th>6</th>\n",
       "      <td>2018-06-30</td>\n",
       "      <td>-0.254103</td>\n",
       "    </tr>\n",
       "    <tr>\n",
       "      <th>7</th>\n",
       "      <td>2018-07-31</td>\n",
       "      <td>0.005243</td>\n",
       "    </tr>\n",
       "    <tr>\n",
       "      <th>8</th>\n",
       "      <td>2018-08-31</td>\n",
       "      <td>-0.211392</td>\n",
       "    </tr>\n",
       "    <tr>\n",
       "      <th>9</th>\n",
       "      <td>2018-09-30</td>\n",
       "      <td>-0.024328</td>\n",
       "    </tr>\n",
       "    <tr>\n",
       "      <th>10</th>\n",
       "      <td>2018-10-31</td>\n",
       "      <td>-0.122536</td>\n",
       "    </tr>\n",
       "    <tr>\n",
       "      <th>11</th>\n",
       "      <td>2018-11-30</td>\n",
       "      <td>-0.384343</td>\n",
       "    </tr>\n",
       "    <tr>\n",
       "      <th>12</th>\n",
       "      <td>2018-12-31</td>\n",
       "      <td>-0.055175</td>\n",
       "    </tr>\n",
       "    <tr>\n",
       "      <th>13</th>\n",
       "      <td>2019-01-31</td>\n",
       "      <td>-0.120664</td>\n",
       "    </tr>\n",
       "    <tr>\n",
       "      <th>14</th>\n",
       "      <td>2019-02-28</td>\n",
       "      <td>0.175661</td>\n",
       "    </tr>\n",
       "    <tr>\n",
       "      <th>15</th>\n",
       "      <td>2019-03-31</td>\n",
       "      <td>0.163379</td>\n",
       "    </tr>\n",
       "    <tr>\n",
       "      <th>16</th>\n",
       "      <td>2019-04-30</td>\n",
       "      <td>0.122403</td>\n",
       "    </tr>\n",
       "    <tr>\n",
       "      <th>17</th>\n",
       "      <td>2019-05-31</td>\n",
       "      <td>0.555365</td>\n",
       "    </tr>\n",
       "    <tr>\n",
       "      <th>18</th>\n",
       "      <td>2019-06-30</td>\n",
       "      <td>0.025632</td>\n",
       "    </tr>\n",
       "    <tr>\n",
       "      <th>19</th>\n",
       "      <td>2019-07-31</td>\n",
       "      <td>-0.180859</td>\n",
       "    </tr>\n",
       "    <tr>\n",
       "      <th>20</th>\n",
       "      <td>2019-08-31</td>\n",
       "      <td>-0.181354</td>\n",
       "    </tr>\n",
       "    <tr>\n",
       "      <th>21</th>\n",
       "      <td>2019-09-30</td>\n",
       "      <td>-0.115167</td>\n",
       "    </tr>\n",
       "    <tr>\n",
       "      <th>22</th>\n",
       "      <td>2019-10-31</td>\n",
       "      <td>0.135559</td>\n",
       "    </tr>\n",
       "    <tr>\n",
       "      <th>23</th>\n",
       "      <td>2019-11-30</td>\n",
       "      <td>-0.212164</td>\n",
       "    </tr>\n",
       "    <tr>\n",
       "      <th>24</th>\n",
       "      <td>2019-12-31</td>\n",
       "      <td>-0.006752</td>\n",
       "    </tr>\n",
       "    <tr>\n",
       "      <th>25</th>\n",
       "      <td>2020-01-31</td>\n",
       "      <td>0.484236</td>\n",
       "    </tr>\n",
       "    <tr>\n",
       "      <th>26</th>\n",
       "      <td>2020-02-29</td>\n",
       "      <td>-0.035116</td>\n",
       "    </tr>\n",
       "    <tr>\n",
       "      <th>27</th>\n",
       "      <td>2020-03-31</td>\n",
       "      <td>-0.302412</td>\n",
       "    </tr>\n",
       "    <tr>\n",
       "      <th>28</th>\n",
       "      <td>2020-04-30</td>\n",
       "      <td>0.336961</td>\n",
       "    </tr>\n",
       "    <tr>\n",
       "      <th>29</th>\n",
       "      <td>2020-05-31</td>\n",
       "      <td>0.072338</td>\n",
       "    </tr>\n",
       "    <tr>\n",
       "      <th>30</th>\n",
       "      <td>2020-06-30</td>\n",
       "      <td>-0.035998</td>\n",
       "    </tr>\n",
       "    <tr>\n",
       "      <th>31</th>\n",
       "      <td>2020-07-31</td>\n",
       "      <td>0.328223</td>\n",
       "    </tr>\n",
       "    <tr>\n",
       "      <th>32</th>\n",
       "      <td>2020-08-31</td>\n",
       "      <td>0.153199</td>\n",
       "    </tr>\n",
       "    <tr>\n",
       "      <th>33</th>\n",
       "      <td>2020-09-30</td>\n",
       "      <td>-0.143461</td>\n",
       "    </tr>\n",
       "    <tr>\n",
       "      <th>34</th>\n",
       "      <td>2020-10-31</td>\n",
       "      <td>0.029016</td>\n",
       "    </tr>\n",
       "    <tr>\n",
       "      <th>35</th>\n",
       "      <td>2020-11-30</td>\n",
       "      <td>0.462854</td>\n",
       "    </tr>\n",
       "    <tr>\n",
       "      <th>36</th>\n",
       "      <td>2020-12-31</td>\n",
       "      <td>0.111185</td>\n",
       "    </tr>\n",
       "    <tr>\n",
       "      <th>37</th>\n",
       "      <td>2021-01-31</td>\n",
       "      <td>0.362983</td>\n",
       "    </tr>\n",
       "    <tr>\n",
       "      <th>38</th>\n",
       "      <td>2021-02-28</td>\n",
       "      <td>0.521403</td>\n",
       "    </tr>\n",
       "    <tr>\n",
       "      <th>39</th>\n",
       "      <td>2021-03-31</td>\n",
       "      <td>0.363200</td>\n",
       "    </tr>\n",
       "    <tr>\n",
       "      <th>40</th>\n",
       "      <td>2021-04-30</td>\n",
       "      <td>0.386338</td>\n",
       "    </tr>\n",
       "    <tr>\n",
       "      <th>41</th>\n",
       "      <td>2021-05-31</td>\n",
       "      <td>-0.286324</td>\n",
       "    </tr>\n",
       "    <tr>\n",
       "      <th>42</th>\n",
       "      <td>2021-06-30</td>\n",
       "      <td>-0.195111</td>\n",
       "    </tr>\n",
       "    <tr>\n",
       "      <th>43</th>\n",
       "      <td>2021-07-31</td>\n",
       "      <td>0.041489</td>\n",
       "    </tr>\n",
       "    <tr>\n",
       "      <th>44</th>\n",
       "      <td>2021-08-31</td>\n",
       "      <td>0.345245</td>\n",
       "    </tr>\n",
       "    <tr>\n",
       "      <th>45</th>\n",
       "      <td>2021-09-30</td>\n",
       "      <td>-0.123248</td>\n",
       "    </tr>\n",
       "    <tr>\n",
       "      <th>46</th>\n",
       "      <td>2021-10-31</td>\n",
       "      <td>0.259448</td>\n",
       "    </tr>\n",
       "    <tr>\n",
       "      <th>47</th>\n",
       "      <td>2021-11-30</td>\n",
       "      <td>-0.032793</td>\n",
       "    </tr>\n",
       "    <tr>\n",
       "      <th>48</th>\n",
       "      <td>2021-12-31</td>\n",
       "      <td>-0.159195</td>\n",
       "    </tr>\n",
       "  </tbody>\n",
       "</table>\n",
       "</div>"
      ],
      "text/plain": [
       "         Date  index_returns\n",
       "0  2017-12-31       1.438946\n",
       "1  2018-01-31      -0.166225\n",
       "2  2018-02-28      -0.189116\n",
       "3  2018-03-31      -0.424873\n",
       "4  2018-04-30       0.731018\n",
       "5  2018-05-31      -0.272209\n",
       "6  2018-06-30      -0.254103\n",
       "7  2018-07-31       0.005243\n",
       "8  2018-08-31      -0.211392\n",
       "9  2018-09-30      -0.024328\n",
       "10 2018-10-31      -0.122536\n",
       "11 2018-11-30      -0.384343\n",
       "12 2018-12-31      -0.055175\n",
       "13 2019-01-31      -0.120664\n",
       "14 2019-02-28       0.175661\n",
       "15 2019-03-31       0.163379\n",
       "16 2019-04-30       0.122403\n",
       "17 2019-05-31       0.555365\n",
       "18 2019-06-30       0.025632\n",
       "19 2019-07-31      -0.180859\n",
       "20 2019-08-31      -0.181354\n",
       "21 2019-09-30      -0.115167\n",
       "22 2019-10-31       0.135559\n",
       "23 2019-11-30      -0.212164\n",
       "24 2019-12-31      -0.006752\n",
       "25 2020-01-31       0.484236\n",
       "26 2020-02-29      -0.035116\n",
       "27 2020-03-31      -0.302412\n",
       "28 2020-04-30       0.336961\n",
       "29 2020-05-31       0.072338\n",
       "30 2020-06-30      -0.035998\n",
       "31 2020-07-31       0.328223\n",
       "32 2020-08-31       0.153199\n",
       "33 2020-09-30      -0.143461\n",
       "34 2020-10-31       0.029016\n",
       "35 2020-11-30       0.462854\n",
       "36 2020-12-31       0.111185\n",
       "37 2021-01-31       0.362983\n",
       "38 2021-02-28       0.521403\n",
       "39 2021-03-31       0.363200\n",
       "40 2021-04-30       0.386338\n",
       "41 2021-05-31      -0.286324\n",
       "42 2021-06-30      -0.195111\n",
       "43 2021-07-31       0.041489\n",
       "44 2021-08-31       0.345245\n",
       "45 2021-09-30      -0.123248\n",
       "46 2021-10-31       0.259448\n",
       "47 2021-11-30      -0.032793\n",
       "48 2021-12-31      -0.159195"
      ]
     },
     "execution_count": 107,
     "metadata": {},
     "output_type": "execute_result"
    }
   ],
   "source": [
    "df_results"
   ]
  },
  {
   "cell_type": "code",
   "execution_count": 108,
   "metadata": {
    "colab": {
     "base_uri": "https://localhost:8080/",
     "height": 165
    },
    "executionInfo": {
     "elapsed": 27,
     "status": "error",
     "timestamp": 1646149526231,
     "user": {
      "displayName": "Raquel Ordonez",
      "photoUrl": "https://lh3.googleusercontent.com/a/default-user=s64",
      "userId": "13837430071386580170"
     },
     "user_tz": -60
    },
    "id": "_ptUfFhQLRoo",
    "outputId": "b8102def-69ea-4d42-bd48-a1c4e3fbb46d"
   },
   "outputs": [],
   "source": [
    "#print(len(weights_df.at[0, 'price_first_of_january']))"
   ]
  },
  {
   "cell_type": "code",
   "execution_count": 109,
   "metadata": {
    "executionInfo": {
     "elapsed": 334,
     "status": "ok",
     "timestamp": 1646262908706,
     "user": {
      "displayName": "Melvin Villafane",
      "photoUrl": "https://lh3.googleusercontent.com/a/default-user=s64",
      "userId": "02025715377408414002"
     },
     "user_tz": -60
    },
    "id": "EyyBRPIeKg3H"
   },
   "outputs": [],
   "source": [
    "end_date =   datetime.datetime(2022,3, 1, 0, 0, 0, 0)\n",
    "start_date = end_date - datetime.timedelta(days=1*365)"
   ]
  },
  {
   "cell_type": "code",
   "execution_count": 111,
   "metadata": {
    "colab": {
     "base_uri": "https://localhost:8080/"
    },
    "executionInfo": {
     "elapsed": 332,
     "status": "ok",
     "timestamp": 1646262464764,
     "user": {
      "displayName": "Melvin Villafane",
      "photoUrl": "https://lh3.googleusercontent.com/a/default-user=s64",
      "userId": "02025715377408414002"
     },
     "user_tz": -60
    },
    "id": "g1nm0x2KHOG1",
    "outputId": "23c1c33a-dfad-42fe-b342-128ecaea79cb"
   },
   "outputs": [],
   "source": [
    "#calculate_beta('CMBD50', 'CCI30', start_date, end_date)"
   ]
  },
  {
   "cell_type": "code",
   "execution_count": 112,
   "metadata": {
    "id": "t3HvN1fy5CIq"
   },
   "outputs": [],
   "source": [
    "#Calculate Beta of our index against BTC"
   ]
  },
  {
   "cell_type": "code",
   "execution_count": 113,
   "metadata": {
    "executionInfo": {
     "elapsed": 301,
     "status": "ok",
     "timestamp": 1646263497756,
     "user": {
      "displayName": "Melvin Villafane",
      "photoUrl": "https://lh3.googleusercontent.com/a/default-user=s64",
      "userId": "02025715377408414002"
     },
     "user_tz": -60
    },
    "id": "kQJkLCZGWWv8"
   },
   "outputs": [],
   "source": [
    "import datetime\n",
    "import pandas as pd\n",
    "import numpy as np\n",
    "from pandas_datareader import data as pdr\n",
    "import yfinance as yfin\n",
    "yfin.pdr_override()\n",
    "\n",
    "### this function isn't so good\n",
    "\n",
    "def covariance(a, b):\n",
    "    if len(a) != len(b):\n",
    "        return\n",
    "    a_mean = np.mean(a)\n",
    "    b_mean = np.mean(b)\n",
    "    sum = 0\n",
    "    for i in range(0, len(a)):\n",
    "        sum += ((a[i] - a_mean) * (b[i] - b_mean))\n",
    "    return sum/(len(a)-1)\n",
    "\n",
    "\n",
    "\n",
    "def calculate_beta(reference_index, ticker_symbol, start_date, end_date):\n",
    "    \"\"\" Monthly Beta calculation using historical series data for the ticker_symbol stock and \n",
    "    the reference_index for the periob between start_date and end_date \"\"\"\n",
    "    df_stock = CMBD50\n",
    "    df_index = pdr.get_data_yahoo(ticker_symbol, start=start_date, end=end_date)\n",
    "    df_stock = df_stock.resample('M').last()\n",
    "    df_index = df_index.resample('M').last()\n",
    "    df_stock['returns'] = df_stock['CMBD50']/ df_stock['CMBD50'].shift(1) -1\n",
    "    df_stock = df_stock.dropna()\n",
    "    df_index['returns'] = df_index['Close']/ df_index['Close'].shift(1) -1\n",
    "    df_index = df_index.dropna()\n",
    "    df = pd.DataFrame({'CMBD_INDEX' : df_stock['returns'],\n",
    "                            'BTC_USD_as_index' : df_index['returns']},\n",
    "                            index=df_stock.index)\n",
    "    df = df.dropna()\n",
    "\n",
    "\n",
    "    numerator = covariance(df['CMBD_INDEX'],df['BTC_USD_as_index'])\n",
    "    denominator = covariance(df['BTC_USD_as_index'],df['BTC_USD_as_index'])\n",
    "    beta = numerator/denominator\n",
    "    return {'stock': ticker_symbol, 'reference_index': 'BTC-USD', 'beta': beta}\n"
   ]
  },
  {
   "cell_type": "code",
   "execution_count": 115,
   "metadata": {
    "colab": {
     "base_uri": "https://localhost:8080/"
    },
    "executionInfo": {
     "elapsed": 332,
     "status": "ok",
     "timestamp": 1646262464764,
     "user": {
      "displayName": "Melvin Villafane",
      "photoUrl": "https://lh3.googleusercontent.com/a/default-user=s64",
      "userId": "02025715377408414002"
     },
     "user_tz": -60
    },
    "id": "GNqiIQpV_PmK",
    "outputId": "23c1c33a-dfad-42fe-b342-128ecaea79cb"
   },
   "outputs": [],
   "source": [
    "#calculate_beta('CMBD50', 'CCI30', start_date, end_date)"
   ]
  },
  {
   "cell_type": "code",
   "execution_count": 116,
   "metadata": {
    "colab": {
     "base_uri": "https://localhost:8080/"
    },
    "executionInfo": {
     "elapsed": 310,
     "status": "ok",
     "timestamp": 1646263499504,
     "user": {
      "displayName": "Melvin Villafane",
      "photoUrl": "https://lh3.googleusercontent.com/a/default-user=s64",
      "userId": "02025715377408414002"
     },
     "user_tz": -60
    },
    "id": "e-2mNMC45yjg",
    "outputId": "18c7d0b2-81f5-4884-da29-15525c5cb7d0"
   },
   "outputs": [
    {
     "name": "stdout",
     "output_type": "stream",
     "text": [
      "[*********************100%***********************]  1 of 1 completed\n"
     ]
    },
    {
     "data": {
      "text/plain": [
       "{'stock': 'BTC-USD', 'reference_index': 'BTC-USD', 'beta': 0.08836494053422202}"
      ]
     },
     "execution_count": 116,
     "metadata": {},
     "output_type": "execute_result"
    }
   ],
   "source": [
    "calculate_beta( CMBD50, 'BTC-USD', start_date, end_date)"
   ]
  },
  {
   "cell_type": "code",
   "execution_count": 119,
   "metadata": {
    "colab": {
     "base_uri": "https://localhost:8080/"
    },
    "executionInfo": {
     "elapsed": 632,
     "status": "ok",
     "timestamp": 1646220020238,
     "user": {
      "displayName": "Melvin Villafane",
      "photoUrl": "https://lh3.googleusercontent.com/a/default-user=s64",
      "userId": "02025715377408414002"
     },
     "user_tz": -60
    },
    "id": "7avv2geVKrwQ",
    "outputId": "b7b03c57-ee55-491b-9e2c-fae2ed221401"
   },
   "outputs": [
    {
     "name": "stdout",
     "output_type": "stream",
     "text": [
      "[*********************100%***********************]  1 of 1 completed\n"
     ]
    },
    {
     "data": {
      "text/plain": [
       "{'stock': 'BTC-USD', 'reference_index': 'BTC-USD', 'beta': 0.08836494053422202}"
      ]
     },
     "execution_count": 119,
     "metadata": {},
     "output_type": "execute_result"
    }
   ],
   "source": [
    "calculate_beta(CMBD50,'BTC-USD', start_date, end_date)"
   ]
  },
  {
   "cell_type": "code",
   "execution_count": 122,
   "metadata": {
    "id": "0LZFCeBiXOKl"
   },
   "outputs": [],
   "source": [
    "import datetime\n",
    "import pandas as pd\n",
    "import numpy as np\n",
    "from pandas_datareader import data as pdr\n",
    "import yfinance as yfin\n",
    "yfin.pdr_override()\n",
    "\n",
    "### this function isn't so good\n",
    "\n",
    "\n",
    "CCI30 = pd.read_csv('datasets/cci30_OHLCV.csv', index_col=0)\n",
    "CCI30.index = pd.to_datetime(CCI30.index)\n",
    "\n",
    "def covariance(a, b):\n",
    "    if len(a) != len(b):\n",
    "        return\n",
    "    a_mean = np.mean(a)\n",
    "    b_mean = np.mean(b)\n",
    "    sum = 0\n",
    "    for i in range(0, len(a)):\n",
    "        sum += ((a[i] - a_mean) * (b[i] - b_mean))\n",
    "    return sum/(len(a)-1)\n",
    "\n",
    "\n",
    "\n",
    "def calculate_beta(ticker_symbol, reference_index, start_date, end_date):\n",
    "    \"\"\" Monthly Beta calculation using historical series data for the ticker_symbol stock and \n",
    "    the reference_index for the periob between start_date and end_date \"\"\"\n",
    "    df_stock = pdr.get_data_yahoo(ticker_symbol, start=start_date, end=end_date)\n",
    "    df_index = CCI30\n",
    "    df_stock = df_stock.resample('M').last()\n",
    "    df_index = df_index.resample('M').last()\n",
    "    df_stock['returns'] = df_stock['Adj Close']/ df_stock['Adj Close'].shift(1) -1\n",
    "    df_stock = df_stock.dropna()\n",
    "    df_index['returns'] = df_index['Close']/ df_index['Close'].shift(1) -1\n",
    "    df_index = df_index.dropna()\n",
    "    df = pd.DataFrame({'stock_returns' : df_stock['returns'],\n",
    "                            'index_returns' : df_index['returns']},\n",
    "                            index=df_stock.index)\n",
    "    df = df.dropna()\n",
    "\n",
    "\n",
    "    numerator = covariance(df['stock_returns'],df['index_returns'])\n",
    "    denominator = covariance(df['index_returns'],df['index_returns'])\n",
    "    beta = numerator/denominator\n",
    "    return {'sotck': ticker_symbol, 'reference_index': 'CCI30', 'beta': beta}"
   ]
  },
  {
   "cell_type": "code",
   "execution_count": 123,
   "metadata": {
    "colab": {
     "base_uri": "https://localhost:8080/"
    },
    "executionInfo": {
     "elapsed": 504,
     "status": "ok",
     "timestamp": 1646220116298,
     "user": {
      "displayName": "Melvin Villafane",
      "photoUrl": "https://lh3.googleusercontent.com/a/default-user=s64",
      "userId": "02025715377408414002"
     },
     "user_tz": -60
    },
    "id": "OZ_GnbLAWMgs",
    "outputId": "5c06c466-2441-404c-fe6d-f0f348bb6774"
   },
   "outputs": [
    {
     "name": "stdout",
     "output_type": "stream",
     "text": [
      "[*********************100%***********************]  1 of 1 completed\n"
     ]
    },
    {
     "data": {
      "text/plain": [
       "{'sotck': 'BTC-USD', 'reference_index': 'CCI30', 'beta': 0.6681869145526813}"
      ]
     },
     "execution_count": 123,
     "metadata": {},
     "output_type": "execute_result"
    }
   ],
   "source": [
    "calculate_beta('BTC-USD', 'CCI30', start_date, end_date)"
   ]
  },
  {
   "cell_type": "code",
   "execution_count": null,
   "metadata": {},
   "outputs": [],
   "source": []
  }
 ],
 "metadata": {
  "colab": {
   "collapsed_sections": [],
   "name": "Analysis notebook.ipynb",
   "provenance": [
    {
     "file_id": "1Y8vkSc_ssSodilBlVT1sneV8_LjHS-Oj",
     "timestamp": 1645543386710
    }
   ]
  },
  "kernelspec": {
   "display_name": "Python 3",
   "language": "python",
   "name": "python3"
  },
  "language_info": {
   "codemirror_mode": {
    "name": "ipython",
    "version": 3
   },
   "file_extension": ".py",
   "mimetype": "text/x-python",
   "name": "python",
   "nbconvert_exporter": "python",
   "pygments_lexer": "ipython3",
   "version": "3.8.8"
  }
 },
 "nbformat": 4,
 "nbformat_minor": 1
}
